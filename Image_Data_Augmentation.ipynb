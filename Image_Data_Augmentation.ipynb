{
  "nbformat": 4,
  "nbformat_minor": 0,
  "metadata": {
    "colab": {
      "name": "Image Data Augmentation.ipynb",
      "version": "0.3.2",
      "provenance": [],
      "include_colab_link": true
    },
    "kernelspec": {
      "name": "python3",
      "display_name": "Python 3"
    }
  },
  "cells": [
    {
      "cell_type": "markdown",
      "metadata": {
        "id": "view-in-github",
        "colab_type": "text"
      },
      "source": [
        "<a href=\"https://colab.research.google.com/github/salmanarif86/MLAI/blob/master/Image_Data_Augmentation.ipynb\" target=\"_parent\"><img src=\"https://colab.research.google.com/assets/colab-badge.svg\" alt=\"Open In Colab\"/></a>"
      ]
    },
    {
      "cell_type": "code",
      "metadata": {
        "id": "MRvO3n9G2vFQ",
        "colab_type": "code",
        "colab": {
          "base_uri": "https://localhost:8080/",
          "height": 202
        },
        "outputId": "4598ef10-bb4b-4e25-a503-6d6c3a90c0a3"
      },
      "source": [
        "!wget --no-check-certificate \\\n",
        "    https://storage.googleapis.com/mledu-datasets/cats_and_dogs_filtered.zip \\\n",
        "    -O /content/Sal/cats_and_dogs_filtered.zip"
      ],
      "execution_count": 6,
      "outputs": [
        {
          "output_type": "stream",
          "text": [
            "--2019-06-30 21:37:25--  https://storage.googleapis.com/mledu-datasets/cats_and_dogs_filtered.zip\n",
            "Resolving storage.googleapis.com (storage.googleapis.com)... 74.125.141.128, 2607:f8b0:400c:c06::80\n",
            "Connecting to storage.googleapis.com (storage.googleapis.com)|74.125.141.128|:443... connected.\n",
            "HTTP request sent, awaiting response... 200 OK\n",
            "Length: 68606236 (65M) [application/zip]\n",
            "Saving to: ‘/content/Sal/cats_and_dogs_filtered.zip’\n",
            "\n",
            "/content/Sal/cats_a 100%[===================>]  65.43M   141MB/s    in 0.5s    \n",
            "\n",
            "2019-06-30 21:37:25 (141 MB/s) - ‘/content/Sal/cats_and_dogs_filtered.zip’ saved [68606236/68606236]\n",
            "\n"
          ],
          "name": "stdout"
        }
      ]
    },
    {
      "cell_type": "code",
      "metadata": {
        "id": "BYSl38A_UXKU",
        "colab_type": "code",
        "colab": {}
      },
      "source": [
        "!mkdir Sal"
      ],
      "execution_count": 0,
      "outputs": []
    },
    {
      "cell_type": "code",
      "metadata": {
        "id": "erXegky34jJT",
        "colab_type": "code",
        "colab": {}
      },
      "source": [
        "import os\n",
        "import zipfile\n",
        "import tensorflow as tf\n",
        "import keras\n",
        "import numpy as np\n",
        "from tensorflow.keras.optimizers import RMSprop\n"
      ],
      "execution_count": 0,
      "outputs": []
    },
    {
      "cell_type": "code",
      "metadata": {
        "id": "8c1QsxlP48C2",
        "colab_type": "code",
        "colab": {}
      },
      "source": [
        "local_dir ='/content/Sal/cats_and_dogs_filtered.zip'\n",
        "cats_and_dogs = zipfile.ZipFile(local_dir,'r')\n",
        "cats_and_dogs.extractall('/content/Sal/cats_and_dogs')"
      ],
      "execution_count": 0,
      "outputs": []
    },
    {
      "cell_type": "code",
      "metadata": {
        "id": "i-lXZWOI5UlD",
        "colab_type": "code",
        "colab": {}
      },
      "source": [
        "training_set_cats = os.listdir('/content/Sal/cats_and_dogs/cats_and_dogs_filtered/train/cats/')\n",
        "training_set_dogs = os.listdir('/content/Sal/cats_and_dogs/cats_and_dogs_filtered/train/dogs/')"
      ],
      "execution_count": 0,
      "outputs": []
    },
    {
      "cell_type": "code",
      "metadata": {
        "id": "VoW4UxMs7Aq3",
        "colab_type": "code",
        "colab": {}
      },
      "source": [
        "validation_set_cats = os.listdir('/content/Sal/cats_and_dogs/cats_and_dogs_filtered/validation/cats/')\n",
        "validation_set_dogs = os.listdir('/content/Sal/cats_and_dogs/cats_and_dogs_filtered/validation/dogs/')"
      ],
      "execution_count": 0,
      "outputs": []
    },
    {
      "cell_type": "code",
      "metadata": {
        "id": "bDaVdkeI7sGF",
        "colab_type": "code",
        "colab": {
          "base_uri": "https://localhost:8080/",
          "height": 84
        },
        "outputId": "63613992-5f0b-44c5-ecf8-b5100e1ca15e"
      },
      "source": [
        "print(len(training_set_cats))\n",
        "print(len(training_set_dogs))\n",
        "\n",
        "print(len(validation_set_cats))\n",
        "print(len(validation_set_dogs))"
      ],
      "execution_count": 11,
      "outputs": [
        {
          "output_type": "stream",
          "text": [
            "1000\n",
            "1000\n",
            "500\n",
            "500\n"
          ],
          "name": "stdout"
        }
      ]
    },
    {
      "cell_type": "code",
      "metadata": {
        "id": "Ke_x5aJi75WW",
        "colab_type": "code",
        "colab": {
          "base_uri": "https://localhost:8080/",
          "height": 104
        },
        "outputId": "91594aea-4cef-4702-838c-c9561aa7f368"
      },
      "source": [
        "model = tf.keras.Sequential([\n",
        "    \n",
        "    tf.keras.layers.Conv2D(32, (3, 3), activation='relu', input_shape = (150, 150, 3)),\n",
        "    tf.keras.layers.MaxPool2D(2, 2),\n",
        "    tf.keras.layers.Conv2D(64, (3, 3), activation='relu'),\n",
        "    tf.keras.layers.MaxPool2D(2, 2),\n",
        "    tf.keras.layers.Conv2D(128, (3, 3), activation='relu'),\n",
        "    tf.keras.layers.MaxPool2D(2, 2),\n",
        "    tf.keras.layers.Conv2D(128, (3, 3), activation='relu'),\n",
        "    tf.keras.layers.MaxPool2D(2, 2),\n",
        "    tf.keras.layers.Flatten(),\n",
        "    tf.keras.layers.Dense(512, activation='relu'),\n",
        "    tf.keras.layers.Dense(1, activation='sigmoid')\n",
        "]) "
      ],
      "execution_count": 12,
      "outputs": [
        {
          "output_type": "stream",
          "text": [
            "WARNING: Logging before flag parsing goes to stderr.\n",
            "W0630 21:37:38.001152 140615762540416 deprecation.py:506] From /usr/local/lib/python3.6/dist-packages/tensorflow/python/ops/init_ops.py:1251: calling VarianceScaling.__init__ (from tensorflow.python.ops.init_ops) with dtype is deprecated and will be removed in a future version.\n",
            "Instructions for updating:\n",
            "Call initializer instance with the dtype argument instead of passing it to the constructor\n"
          ],
          "name": "stderr"
        }
      ]
    },
    {
      "cell_type": "code",
      "metadata": {
        "id": "7yVYCkBO9Wlo",
        "colab_type": "code",
        "colab": {
          "base_uri": "https://localhost:8080/",
          "height": 521
        },
        "outputId": "1bd4ac50-780d-4fd1-d7f2-5b7815b6c14d"
      },
      "source": [
        "\n",
        "model.summary()"
      ],
      "execution_count": 13,
      "outputs": [
        {
          "output_type": "stream",
          "text": [
            "Model: \"sequential\"\n",
            "_________________________________________________________________\n",
            "Layer (type)                 Output Shape              Param #   \n",
            "=================================================================\n",
            "conv2d (Conv2D)              (None, 148, 148, 32)      896       \n",
            "_________________________________________________________________\n",
            "max_pooling2d (MaxPooling2D) (None, 74, 74, 32)        0         \n",
            "_________________________________________________________________\n",
            "conv2d_1 (Conv2D)            (None, 72, 72, 64)        18496     \n",
            "_________________________________________________________________\n",
            "max_pooling2d_1 (MaxPooling2 (None, 36, 36, 64)        0         \n",
            "_________________________________________________________________\n",
            "conv2d_2 (Conv2D)            (None, 34, 34, 128)       73856     \n",
            "_________________________________________________________________\n",
            "max_pooling2d_2 (MaxPooling2 (None, 17, 17, 128)       0         \n",
            "_________________________________________________________________\n",
            "conv2d_3 (Conv2D)            (None, 15, 15, 128)       147584    \n",
            "_________________________________________________________________\n",
            "max_pooling2d_3 (MaxPooling2 (None, 7, 7, 128)         0         \n",
            "_________________________________________________________________\n",
            "flatten (Flatten)            (None, 6272)              0         \n",
            "_________________________________________________________________\n",
            "dense (Dense)                (None, 512)               3211776   \n",
            "_________________________________________________________________\n",
            "dense_1 (Dense)              (None, 1)                 513       \n",
            "=================================================================\n",
            "Total params: 3,453,121\n",
            "Trainable params: 3,453,121\n",
            "Non-trainable params: 0\n",
            "_________________________________________________________________\n"
          ],
          "name": "stdout"
        }
      ]
    },
    {
      "cell_type": "code",
      "metadata": {
        "id": "tD6wK3CJ-u-E",
        "colab_type": "code",
        "colab": {
          "base_uri": "https://localhost:8080/",
          "height": 87
        },
        "outputId": "185081f0-bf62-4706-da20-463991fd6daa"
      },
      "source": [
        "model.compile(loss='binary_crossentropy', optimizer=RMSprop(lr=1e-4),metrics=['accuracy'])"
      ],
      "execution_count": 14,
      "outputs": [
        {
          "output_type": "stream",
          "text": [
            "W0630 21:37:40.391964 140615762540416 deprecation.py:323] From /usr/local/lib/python3.6/dist-packages/tensorflow/python/ops/nn_impl.py:180: add_dispatch_support.<locals>.wrapper (from tensorflow.python.ops.array_ops) is deprecated and will be removed in a future version.\n",
            "Instructions for updating:\n",
            "Use tf.where in 2.0, which has the same broadcast rule as np.where\n"
          ],
          "name": "stderr"
        }
      ]
    },
    {
      "cell_type": "code",
      "metadata": {
        "id": "cMzsinB2_V2H",
        "colab_type": "code",
        "colab": {}
      },
      "source": [
        "train_generator = tf.keras.preprocessing.image.ImageDataGenerator(rescale=1./255)\n",
        "validation_generator = tf.keras.preprocessing.image.ImageDataGenerator(rescale=1./255)"
      ],
      "execution_count": 0,
      "outputs": []
    },
    {
      "cell_type": "code",
      "metadata": {
        "id": "imipJWICARfY",
        "colab_type": "code",
        "colab": {
          "base_uri": "https://localhost:8080/",
          "height": 50
        },
        "outputId": "cfcd7303-01bf-4df4-b141-b407024e8292"
      },
      "source": [
        "train_data = train_generator.flow_from_directory('/content/Sal/cats_and_dogs/cats_and_dogs_filtered/train',\n",
        "                                                target_size =(150, 150),\n",
        "                                                batch_size = 100,\n",
        "                                                class_mode ='binary')\n",
        "\n",
        "validation_data = train_generator.flow_from_directory('/content/Sal/cats_and_dogs/cats_and_dogs_filtered/validation',\n",
        "                                                target_size =(150, 150),\n",
        "                                                batch_size = 50,\n",
        "                                                class_mode ='binary')"
      ],
      "execution_count": 16,
      "outputs": [
        {
          "output_type": "stream",
          "text": [
            "Found 2000 images belonging to 2 classes.\n",
            "Found 1000 images belonging to 2 classes.\n"
          ],
          "name": "stdout"
        }
      ]
    },
    {
      "cell_type": "code",
      "metadata": {
        "id": "od6FuxUsDsB2",
        "colab_type": "code",
        "colab": {}
      },
      "source": [
        "class myCallback(tf.keras.callbacks.Callback):\n",
        "  def on_epoch_end(self, epoch, logs={}):\n",
        "    if logs.get('acc') > 0.98:\n",
        "      print('\\n stop training as we will now be overfitting on training data')\n",
        "      self.model.stop_training = True"
      ],
      "execution_count": 0,
      "outputs": []
    },
    {
      "cell_type": "code",
      "metadata": {
        "id": "vS1K63EOEkYZ",
        "colab_type": "code",
        "colab": {}
      },
      "source": [
        "customCall = myCallback()"
      ],
      "execution_count": 0,
      "outputs": []
    },
    {
      "cell_type": "code",
      "metadata": {
        "id": "c2f3kWgtA_HF",
        "colab_type": "code",
        "colab": {
          "base_uri": "https://localhost:8080/",
          "height": 1000
        },
        "outputId": "05d5caa9-bcfa-4f4d-e25b-df5e76e020e4"
      },
      "source": [
        "history = model.fit(train_data, validation_data=validation_data, epochs=100, callbacks=[customCall])"
      ],
      "execution_count": 19,
      "outputs": [
        {
          "output_type": "stream",
          "text": [
            "Epoch 1/100\n",
            "20/20 [==============================] - 110s 6s/step - loss: 0.6915 - acc: 0.5090 - val_loss: 0.6785 - val_acc: 0.6210\n",
            "Epoch 2/100\n",
            "20/20 [==============================] - 106s 5s/step - loss: 0.6762 - acc: 0.5790 - val_loss: 0.6603 - val_acc: 0.6400\n",
            "Epoch 3/100\n",
            "20/20 [==============================] - 106s 5s/step - loss: 0.6639 - acc: 0.6050 - val_loss: 0.6477 - val_acc: 0.6430\n",
            "Epoch 4/100\n",
            "20/20 [==============================] - 106s 5s/step - loss: 0.6434 - acc: 0.6305 - val_loss: 0.6389 - val_acc: 0.6580\n",
            "Epoch 5/100\n",
            "20/20 [==============================] - 106s 5s/step - loss: 0.6226 - acc: 0.6560 - val_loss: 0.6112 - val_acc: 0.6810\n",
            "Epoch 6/100\n",
            "20/20 [==============================] - 106s 5s/step - loss: 0.6035 - acc: 0.6695 - val_loss: 0.5994 - val_acc: 0.6820\n",
            "Epoch 7/100\n",
            "20/20 [==============================] - 107s 5s/step - loss: 0.5734 - acc: 0.7025 - val_loss: 0.5758 - val_acc: 0.7040\n",
            "Epoch 8/100\n",
            "20/20 [==============================] - 106s 5s/step - loss: 0.5604 - acc: 0.7165 - val_loss: 0.5714 - val_acc: 0.6950\n",
            "Epoch 9/100\n",
            "20/20 [==============================] - 106s 5s/step - loss: 0.5587 - acc: 0.7080 - val_loss: 0.5714 - val_acc: 0.6990\n",
            "Epoch 10/100\n",
            "20/20 [==============================] - 108s 5s/step - loss: 0.5342 - acc: 0.7405 - val_loss: 0.5737 - val_acc: 0.6980\n",
            "Epoch 11/100\n",
            "20/20 [==============================] - 109s 5s/step - loss: 0.5259 - acc: 0.7375 - val_loss: 0.5815 - val_acc: 0.6930\n",
            "Epoch 12/100\n",
            "20/20 [==============================] - 108s 5s/step - loss: 0.5257 - acc: 0.7440 - val_loss: 0.5545 - val_acc: 0.7160\n",
            "Epoch 13/100\n",
            "20/20 [==============================] - 107s 5s/step - loss: 0.5087 - acc: 0.7545 - val_loss: 0.5598 - val_acc: 0.7140\n",
            "Epoch 14/100\n",
            "20/20 [==============================] - 113s 6s/step - loss: 0.4891 - acc: 0.7630 - val_loss: 0.5489 - val_acc: 0.7290\n",
            "Epoch 15/100\n",
            "20/20 [==============================] - 110s 6s/step - loss: 0.4775 - acc: 0.7720 - val_loss: 0.5455 - val_acc: 0.7110\n",
            "Epoch 16/100\n",
            "20/20 [==============================] - 108s 5s/step - loss: 0.4822 - acc: 0.7675 - val_loss: 0.5386 - val_acc: 0.7220\n",
            "Epoch 17/100\n",
            "20/20 [==============================] - 107s 5s/step - loss: 0.4707 - acc: 0.7795 - val_loss: 0.5432 - val_acc: 0.7210\n",
            "Epoch 18/100\n",
            "20/20 [==============================] - 108s 5s/step - loss: 0.4557 - acc: 0.7825 - val_loss: 0.5314 - val_acc: 0.7270\n",
            "Epoch 19/100\n",
            "20/20 [==============================] - 107s 5s/step - loss: 0.4399 - acc: 0.8050 - val_loss: 0.6047 - val_acc: 0.6980\n",
            "Epoch 20/100\n",
            "20/20 [==============================] - 108s 5s/step - loss: 0.4472 - acc: 0.7865 - val_loss: 0.5376 - val_acc: 0.7290\n",
            "Epoch 21/100\n",
            "20/20 [==============================] - 107s 5s/step - loss: 0.4257 - acc: 0.8085 - val_loss: 0.5223 - val_acc: 0.7410\n",
            "Epoch 22/100\n",
            "20/20 [==============================] - 107s 5s/step - loss: 0.4016 - acc: 0.8265 - val_loss: 0.5303 - val_acc: 0.7320\n",
            "Epoch 23/100\n",
            "20/20 [==============================] - 107s 5s/step - loss: 0.4050 - acc: 0.8180 - val_loss: 0.5281 - val_acc: 0.7400\n",
            "Epoch 24/100\n",
            "20/20 [==============================] - 107s 5s/step - loss: 0.4042 - acc: 0.8165 - val_loss: 0.5402 - val_acc: 0.7250\n",
            "Epoch 25/100\n",
            "20/20 [==============================] - 106s 5s/step - loss: 0.3830 - acc: 0.8330 - val_loss: 0.5330 - val_acc: 0.7400\n",
            "Epoch 26/100\n",
            "20/20 [==============================] - 107s 5s/step - loss: 0.3877 - acc: 0.8280 - val_loss: 0.5231 - val_acc: 0.7500\n",
            "Epoch 27/100\n",
            "20/20 [==============================] - 107s 5s/step - loss: 0.3710 - acc: 0.8480 - val_loss: 0.5275 - val_acc: 0.7350\n",
            "Epoch 28/100\n",
            "20/20 [==============================] - 107s 5s/step - loss: 0.3613 - acc: 0.8435 - val_loss: 0.5568 - val_acc: 0.7250\n",
            "Epoch 29/100\n",
            "20/20 [==============================] - 110s 6s/step - loss: 0.3538 - acc: 0.8485 - val_loss: 0.5278 - val_acc: 0.7340\n",
            "Epoch 30/100\n",
            "20/20 [==============================] - 107s 5s/step - loss: 0.3507 - acc: 0.8485 - val_loss: 0.5284 - val_acc: 0.7440\n",
            "Epoch 31/100\n",
            "20/20 [==============================] - 113s 6s/step - loss: 0.3414 - acc: 0.8630 - val_loss: 0.5271 - val_acc: 0.7470\n",
            "Epoch 32/100\n",
            "20/20 [==============================] - 110s 5s/step - loss: 0.3247 - acc: 0.8650 - val_loss: 0.5232 - val_acc: 0.7490\n",
            "Epoch 33/100\n",
            "20/20 [==============================] - 107s 5s/step - loss: 0.3282 - acc: 0.8535 - val_loss: 0.5217 - val_acc: 0.7530\n",
            "Epoch 34/100\n",
            "20/20 [==============================] - 108s 5s/step - loss: 0.3108 - acc: 0.8725 - val_loss: 0.5292 - val_acc: 0.7440\n",
            "Epoch 35/100\n",
            "20/20 [==============================] - 107s 5s/step - loss: 0.3023 - acc: 0.8715 - val_loss: 0.5814 - val_acc: 0.7400\n",
            "Epoch 36/100\n",
            "20/20 [==============================] - 107s 5s/step - loss: 0.3033 - acc: 0.8750 - val_loss: 0.5215 - val_acc: 0.7610\n",
            "Epoch 37/100\n",
            "20/20 [==============================] - 108s 5s/step - loss: 0.2959 - acc: 0.8760 - val_loss: 0.5508 - val_acc: 0.7470\n",
            "Epoch 38/100\n",
            "20/20 [==============================] - 107s 5s/step - loss: 0.2766 - acc: 0.8880 - val_loss: 0.5710 - val_acc: 0.7350\n",
            "Epoch 39/100\n",
            "20/20 [==============================] - 107s 5s/step - loss: 0.2649 - acc: 0.8995 - val_loss: 0.5339 - val_acc: 0.7640\n",
            "Epoch 40/100\n",
            "20/20 [==============================] - 107s 5s/step - loss: 0.2691 - acc: 0.8970 - val_loss: 0.5277 - val_acc: 0.7540\n",
            "Epoch 41/100\n",
            "20/20 [==============================] - 108s 5s/step - loss: 0.2497 - acc: 0.9050 - val_loss: 0.6390 - val_acc: 0.7170\n",
            "Epoch 42/100\n",
            "20/20 [==============================] - 107s 5s/step - loss: 0.2584 - acc: 0.8920 - val_loss: 0.5437 - val_acc: 0.7590\n",
            "Epoch 43/100\n",
            "20/20 [==============================] - 107s 5s/step - loss: 0.2375 - acc: 0.9180 - val_loss: 0.5395 - val_acc: 0.7660\n",
            "Epoch 44/100\n",
            "20/20 [==============================] - 107s 5s/step - loss: 0.2527 - acc: 0.9030 - val_loss: 0.5441 - val_acc: 0.7610\n",
            "Epoch 45/100\n",
            "20/20 [==============================] - 107s 5s/step - loss: 0.2210 - acc: 0.9195 - val_loss: 0.5601 - val_acc: 0.7600\n",
            "Epoch 46/100\n",
            "20/20 [==============================] - 107s 5s/step - loss: 0.2119 - acc: 0.9255 - val_loss: 0.6339 - val_acc: 0.7330\n",
            "Epoch 47/100\n",
            "20/20 [==============================] - 107s 5s/step - loss: 0.2243 - acc: 0.9170 - val_loss: 0.5735 - val_acc: 0.7420\n",
            "Epoch 48/100\n",
            "20/20 [==============================] - 107s 5s/step - loss: 0.2158 - acc: 0.9245 - val_loss: 0.6040 - val_acc: 0.7360\n",
            "Epoch 49/100\n",
            "20/20 [==============================] - 107s 5s/step - loss: 0.2033 - acc: 0.9255 - val_loss: 0.5691 - val_acc: 0.7650\n",
            "Epoch 50/100\n",
            "20/20 [==============================] - 107s 5s/step - loss: 0.1964 - acc: 0.9330 - val_loss: 0.5689 - val_acc: 0.7540\n",
            "Epoch 51/100\n",
            "20/20 [==============================] - 107s 5s/step - loss: 0.1897 - acc: 0.9380 - val_loss: 0.5889 - val_acc: 0.7510\n",
            "Epoch 52/100\n",
            "20/20 [==============================] - 107s 5s/step - loss: 0.1818 - acc: 0.9375 - val_loss: 0.5843 - val_acc: 0.7620\n",
            "Epoch 53/100\n",
            "20/20 [==============================] - 107s 5s/step - loss: 0.1771 - acc: 0.9395 - val_loss: 0.6286 - val_acc: 0.7390\n",
            "Epoch 54/100\n",
            "20/20 [==============================] - 107s 5s/step - loss: 0.1634 - acc: 0.9470 - val_loss: 0.6933 - val_acc: 0.7250\n",
            "Epoch 55/100\n",
            "20/20 [==============================] - 107s 5s/step - loss: 0.1655 - acc: 0.9440 - val_loss: 0.6004 - val_acc: 0.7650\n",
            "Epoch 56/100\n",
            "20/20 [==============================] - 107s 5s/step - loss: 0.1473 - acc: 0.9530 - val_loss: 0.6886 - val_acc: 0.7500\n",
            "Epoch 57/100\n",
            "20/20 [==============================] - 107s 5s/step - loss: 0.1570 - acc: 0.9500 - val_loss: 0.6018 - val_acc: 0.7570\n",
            "Epoch 58/100\n",
            "20/20 [==============================] - 107s 5s/step - loss: 0.1393 - acc: 0.9590 - val_loss: 0.6237 - val_acc: 0.7670\n",
            "Epoch 59/100\n",
            "20/20 [==============================] - 107s 5s/step - loss: 0.1370 - acc: 0.9565 - val_loss: 0.8246 - val_acc: 0.7190\n",
            "Epoch 60/100\n",
            "20/20 [==============================] - 107s 5s/step - loss: 0.1315 - acc: 0.9575 - val_loss: 0.7002 - val_acc: 0.7320\n",
            "Epoch 61/100\n",
            "20/20 [==============================] - 107s 5s/step - loss: 0.1493 - acc: 0.9525 - val_loss: 0.5863 - val_acc: 0.7670\n",
            "Epoch 62/100\n",
            "20/20 [==============================] - 107s 5s/step - loss: 0.1119 - acc: 0.9730 - val_loss: 0.8132 - val_acc: 0.7120\n",
            "Epoch 63/100\n",
            "20/20 [==============================] - 108s 5s/step - loss: 0.1263 - acc: 0.9595 - val_loss: 0.6544 - val_acc: 0.7480\n",
            "Epoch 64/100\n",
            "20/20 [==============================] - 107s 5s/step - loss: 0.1030 - acc: 0.9735 - val_loss: 0.6608 - val_acc: 0.7490\n",
            "Epoch 65/100\n",
            "20/20 [==============================] - 108s 5s/step - loss: 0.1234 - acc: 0.9595 - val_loss: 0.6132 - val_acc: 0.7730\n",
            "Epoch 66/100\n",
            "20/20 [==============================] - 108s 5s/step - loss: 0.1037 - acc: 0.9750 - val_loss: 0.6215 - val_acc: 0.7650\n",
            "Epoch 67/100\n",
            "20/20 [==============================] - 108s 5s/step - loss: 0.1055 - acc: 0.9685 - val_loss: 0.6362 - val_acc: 0.7680\n",
            "Epoch 68/100\n",
            "20/20 [==============================] - 108s 5s/step - loss: 0.0879 - acc: 0.9785 - val_loss: 0.6744 - val_acc: 0.7470\n",
            "Epoch 69/100\n",
            "20/20 [==============================] - 108s 5s/step - loss: 0.0983 - acc: 0.9680 - val_loss: 0.6653 - val_acc: 0.7650\n",
            "Epoch 70/100\n",
            "19/20 [===========================>..] - ETA: 4s - loss: 0.0743 - acc: 0.9858\n",
            " stop training as we will now be overfitting on training data\n",
            "20/20 [==============================] - 108s 5s/step - loss: 0.0803 - acc: 0.9835 - val_loss: 0.8545 - val_acc: 0.7360\n"
          ],
          "name": "stdout"
        }
      ]
    },
    {
      "cell_type": "code",
      "metadata": {
        "id": "OKSLFQ0LwIlY",
        "colab_type": "code",
        "colab": {}
      },
      "source": [
        "import numpy as np\n",
        "import random\n",
        "from tensorflow.keras.preprocessing.image import img_to_array, load_img\n",
        "​\n",
        "# Let's define a new Model that will take an image as input, and will output\n",
        "# intermediate representations for all layers in the previous model after\n",
        "# the first.\n",
        "successive_outputs = [layer.output for layer in model.layers[1:]]\n",
        "#visualization_model = Model(img_input, successive_outputs)\n",
        "visualization_model = tf.keras.models.Model(inputs = model.input, outputs = successive_outputs)\n",
        "# Let's prepare a random input image from the training set.\n",
        "cat_img_files = [os.path.join('/content/Sal/cats_and_dogs/cats_and_dogs_filtered/train/cats', f) for f in train_horse_names]\n",
        "dog_img_files = [os.path.join('/content/Sal/cats_and_dogs/cats_and_dogs_filtered/train/dogs', f) for f in train_human_names]\n",
        "img_path = random.choice(horse_img_files + human_img_files)\n",
        "​\n",
        "img = load_img(img_path, target_size=(300, 300))  # this is a PIL image\n",
        "x = img_to_array(img)  # Numpy array with shape (150, 150, 3)\n",
        "x = x.reshape((1,) + x.shape)  # Numpy array with shape (1, 150, 150, 3)\n",
        "​\n",
        "# Rescale by 1/255\n",
        "x /= 255\n",
        "​\n",
        "# Let's run our image through our network, thus obtaining all\n",
        "# intermediate representations for this image.\n",
        "successive_feature_maps = visualization_model.predict(x)\n",
        "​\n",
        "# These are the names of the layers, so can have them as part of our plot\n",
        "layer_names = [layer.name for layer in model.layers]\n",
        "​\n",
        "# Now let's display our representations\n",
        "for layer_name, feature_map in zip(layer_names, successive_feature_maps):\n",
        "  if len(feature_map.shape) == 4:\n",
        "    # Just do this for the conv / maxpool layers, not the fully-connected layers\n",
        "    n_features = feature_map.shape[-1]  # number of features in feature map\n",
        "    # The feature map has shape (1, size, size, n_features)\n",
        "    size = feature_map.shape[1]\n",
        "    # We will tile our images in this matrix\n",
        "    display_grid = np.zeros((size, size * n_features))\n",
        "    for i in range(n_features):\n",
        "      # Postprocess the feature to make it visually palatable\n",
        "      x = feature_map[0, :, :, i]\n",
        "      x -= x.mean()\n",
        "      x /= x.std()\n",
        "      x *= 64\n",
        "      x += 128\n",
        "      x = np.clip(x, 0, 255).astype('uint8')\n",
        "      # We'll tile each filter into this big horizontal grid\n",
        "      display_grid[:, i * size : (i + 1) * size] = x\n",
        "    # Display the grid\n",
        "    scale = 20. / n_features\n",
        "    plt.figure(figsize=(scale * n_features, scale))\n",
        "    plt.title(layer_name)\n",
        "    plt.grid(False)\n",
        "    plt.imshow(display_grid, aspect='auto', cmap='viridis')"
      ],
      "execution_count": 0,
      "outputs": []
    },
    {
      "cell_type": "code",
      "metadata": {
        "id": "qt3Y0SZ3im9M",
        "colab_type": "code",
        "colab": {}
      },
      "source": [
        "import matplotlib.pyplot as plt"
      ],
      "execution_count": 0,
      "outputs": []
    },
    {
      "cell_type": "code",
      "metadata": {
        "id": "xvDAALwvDBER",
        "colab_type": "code",
        "colab": {}
      },
      "source": [
        "acc = history.history['acc']\n",
        "val_acc = history.history['val_acc']\n",
        "\n",
        "epoch = range(len(acc))\n",
        "\n",
        "loss = history.history['loss']\n",
        "val_loss = history.history['val_loss']"
      ],
      "execution_count": 0,
      "outputs": []
    },
    {
      "cell_type": "code",
      "metadata": {
        "id": "kAhudyDWiJjl",
        "colab_type": "code",
        "colab": {
          "base_uri": "https://localhost:8080/",
          "height": 286
        },
        "outputId": "f8649300-9214-4ba7-8313-e4a6c5f74550"
      },
      "source": [
        "plt.plot(epoch, acc, 'bo', label ='Training Accuracy')\n",
        "plt.plot(epoch, val_acc, 'r', label ='Validation Accuracy')\n",
        "plt.figure()\n",
        "plt.show()"
      ],
      "execution_count": 26,
      "outputs": [
        {
          "output_type": "display_data",
          "data": {
            "image/png": "[encoded data removed]",
            "text/plain": [
              "<Figure size 432x288 with 1 Axes>"
            ]
          },
          "metadata": {
            "tags": []
          }
        },
        {
          "output_type": "display_data",
          "data": {
            "text/plain": [
              "<Figure size 432x288 with 0 Axes>"
            ]
          },
          "metadata": {
            "tags": []
          }
        }
      ]
    },
    {
      "cell_type": "code",
      "metadata": {
        "id": "3vLoBB_2ilAr",
        "colab_type": "code",
        "colab": {
          "base_uri": "https://localhost:8080/",
          "height": 286
        },
        "outputId": "4d384cee-5d16-423c-da79-30ad88be7663"
      },
      "source": [
        "plt.plot(epoch, loss, 'bo', label ='Training Accuracy')\n",
        "plt.plot(epoch, val_loss, 'r', label ='Validation Accuracy')\n",
        "plt.figure()\n",
        "plt.show()"
      ],
      "execution_count": 27,
      "outputs": [
        {
          "output_type": "display_data",
          "data": {
            "image/png": "[encoded data removed]",
            "text/plain": [
              "<Figure size 432x288 with 1 Axes>"
            ]
          },
          "metadata": {
            "tags": []
          }
        },
        {
          "output_type": "display_data",
          "data": {
            "text/plain": [
              "<Figure size 432x288 with 0 Axes>"
            ]
          },
          "metadata": {
            "tags": []
          }
        }
      ]
    },
    {
      "cell_type": "code",
      "metadata": {
        "id": "vTV7bQLLkCbX",
        "colab_type": "code",
        "colab": {}
      },
      "source": [
        "train_generator_augmentation = tf.keras.preprocessing.image.ImageDataGenerator(rescale=1./255,\n",
        "                                                                              rotation_range = 40,\n",
        "                                                                              width_shift_range = 0.2,height_shift_range = 0.2,shear_range = 0.2,zoom_range = 0.2,horizontal_flip = True)"
      ],
      "execution_count": 0,
      "outputs": []
    },
    {
      "cell_type": "code",
      "metadata": {
        "id": "FUMeUVq2kRyJ",
        "colab_type": "code",
        "colab": {
          "base_uri": "https://localhost:8080/",
          "height": 34
        },
        "outputId": "d46bdfb6-d9ad-4bb1-8d1e-38601eb19f17"
      },
      "source": [
        "train_data = train_generator_augmentation.flow_from_directory('/content/Sal/cats_and_dogs/cats_and_dogs_filtered/train',\n",
        "                                                target_size =(150, 150),\n",
        "                                                batch_size = 100,\n",
        "                                                class_mode ='binary')"
      ],
      "execution_count": 44,
      "outputs": [
        {
          "output_type": "stream",
          "text": [
            "Found 2000 images belonging to 2 classes.\n"
          ],
          "name": "stdout"
        }
      ]
    },
    {
      "cell_type": "code",
      "metadata": {
        "id": "tsFh229amO8X",
        "colab_type": "code",
        "colab": {
          "base_uri": "https://localhost:8080/",
          "height": 1000
        },
        "outputId": "2095eb54-ea6f-4bd3-a81f-1978078d125e"
      },
      "source": [
        "history = model.fit(train_data,validation_data=validation_data, epochs=100, callbacks=[customCall])"
      ],
      "execution_count": 0,
      "outputs": [
        {
          "output_type": "stream",
          "text": [
            "Epoch 1/100\n",
            "20/20 [==============================] - 116s 6s/step - loss: 0.7342 - acc: 0.6560 - val_loss: 0.5344 - val_acc: 0.7290\n",
            "Epoch 2/100\n",
            "20/20 [==============================] - 110s 5s/step - loss: 0.6037 - acc: 0.6830 - val_loss: 0.5111 - val_acc: 0.7460\n",
            "Epoch 3/100\n",
            "20/20 [==============================] - 110s 5s/step - loss: 0.5786 - acc: 0.6890 - val_loss: 0.5040 - val_acc: 0.7560\n",
            "Epoch 4/100\n",
            "20/20 [==============================] - 110s 5s/step - loss: 0.5869 - acc: 0.6890 - val_loss: 0.5035 - val_acc: 0.7550\n",
            "Epoch 5/100\n",
            "20/20 [==============================] - 110s 5s/step - loss: 0.5781 - acc: 0.6990 - val_loss: 0.5025 - val_acc: 0.7530\n",
            "Epoch 6/100\n",
            "20/20 [==============================] - 110s 5s/step - loss: 0.5562 - acc: 0.7125 - val_loss: 0.5062 - val_acc: 0.7580\n",
            "Epoch 7/100\n",
            "20/20 [==============================] - 110s 6s/step - loss: 0.5617 - acc: 0.7005 - val_loss: 0.5006 - val_acc: 0.7460\n",
            "Epoch 8/100\n",
            "20/20 [==============================] - 110s 6s/step - loss: 0.5556 - acc: 0.7085 - val_loss: 0.5031 - val_acc: 0.7610\n",
            "Epoch 9/100\n",
            "20/20 [==============================] - 111s 6s/step - loss: 0.5371 - acc: 0.7335 - val_loss: 0.4801 - val_acc: 0.7710\n",
            "Epoch 10/100\n",
            "20/20 [==============================] - 111s 6s/step - loss: 0.5444 - acc: 0.7190 - val_loss: 0.5577 - val_acc: 0.7080\n",
            "Epoch 11/100\n",
            "20/20 [==============================] - 111s 6s/step - loss: 0.5475 - acc: 0.7095 - val_loss: 0.4838 - val_acc: 0.7530\n",
            "Epoch 12/100\n",
            "20/20 [==============================] - 110s 6s/step - loss: 0.5352 - acc: 0.7225 - val_loss: 0.5762 - val_acc: 0.6740\n",
            "Epoch 13/100\n",
            "20/20 [==============================] - 109s 5s/step - loss: 0.5315 - acc: 0.7230 - val_loss: 0.4895 - val_acc: 0.7670\n",
            "Epoch 14/100\n",
            "20/20 [==============================] - 109s 5s/step - loss: 0.5494 - acc: 0.7260 - val_loss: 0.4958 - val_acc: 0.7560\n",
            "Epoch 15/100\n",
            "20/20 [==============================] - 109s 5s/step - loss: 0.5353 - acc: 0.7230 - val_loss: 0.4768 - val_acc: 0.7700\n",
            "Epoch 16/100\n",
            "20/20 [==============================] - 109s 5s/step - loss: 0.5229 - acc: 0.7480 - val_loss: 0.4792 - val_acc: 0.7690\n",
            "Epoch 17/100\n",
            "20/20 [==============================] - 109s 5s/step - loss: 0.5309 - acc: 0.7280 - val_loss: 0.4761 - val_acc: 0.7740\n",
            "Epoch 18/100\n",
            "20/20 [==============================] - 109s 5s/step - loss: 0.5212 - acc: 0.7355 - val_loss: 0.5380 - val_acc: 0.7180\n",
            "Epoch 19/100\n",
            "20/20 [==============================] - 109s 5s/step - loss: 0.5220 - acc: 0.7385 - val_loss: 0.4885 - val_acc: 0.7620\n",
            "Epoch 20/100\n",
            "20/20 [==============================] - 109s 5s/step - loss: 0.5234 - acc: 0.7335 - val_loss: 0.4737 - val_acc: 0.7820\n",
            "Epoch 21/100\n",
            "20/20 [==============================] - 109s 5s/step - loss: 0.5014 - acc: 0.7610 - val_loss: 0.4777 - val_acc: 0.7760\n",
            "Epoch 22/100\n",
            "20/20 [==============================] - 108s 5s/step - loss: 0.5157 - acc: 0.7365 - val_loss: 0.5191 - val_acc: 0.7530\n",
            "Epoch 23/100\n",
            "20/20 [==============================] - 108s 5s/step - loss: 0.5200 - acc: 0.7370 - val_loss: 0.4553 - val_acc: 0.7910\n",
            "Epoch 24/100\n",
            "20/20 [==============================] - 109s 5s/step - loss: 0.5185 - acc: 0.7375 - val_loss: 0.4731 - val_acc: 0.7830\n",
            "Epoch 25/100\n",
            "20/20 [==============================] - 110s 6s/step - loss: 0.4997 - acc: 0.7595 - val_loss: 0.5071 - val_acc: 0.7380\n",
            "Epoch 26/100\n",
            "20/20 [==============================] - 111s 6s/step - loss: 0.5065 - acc: 0.7455 - val_loss: 0.4877 - val_acc: 0.7650\n",
            "Epoch 27/100\n",
            "20/20 [==============================] - 111s 6s/step - loss: 0.5037 - acc: 0.7585 - val_loss: 0.4710 - val_acc: 0.7690\n",
            "Epoch 28/100\n",
            "20/20 [==============================] - 111s 6s/step - loss: 0.4874 - acc: 0.7575 - val_loss: 0.5312 - val_acc: 0.7440\n",
            "Epoch 29/100\n",
            "20/20 [==============================] - 112s 6s/step - loss: 0.4989 - acc: 0.7565 - val_loss: 0.5006 - val_acc: 0.7500\n",
            "Epoch 30/100\n",
            "20/20 [==============================] - 111s 6s/step - loss: 0.4908 - acc: 0.7595 - val_loss: 0.4555 - val_acc: 0.7860\n",
            "Epoch 31/100\n",
            "20/20 [==============================] - 111s 6s/step - loss: 0.4890 - acc: 0.7595 - val_loss: 0.4637 - val_acc: 0.7760\n",
            "Epoch 32/100\n",
            "20/20 [==============================] - 111s 6s/step - loss: 0.4901 - acc: 0.7560 - val_loss: 0.4580 - val_acc: 0.7820\n",
            "Epoch 33/100\n",
            "20/20 [==============================] - 111s 6s/step - loss: 0.5026 - acc: 0.7570 - val_loss: 0.4650 - val_acc: 0.7730\n",
            "Epoch 34/100\n",
            "20/20 [==============================] - 113s 6s/step - loss: 0.5016 - acc: 0.7490 - val_loss: 0.4622 - val_acc: 0.7810\n",
            "Epoch 35/100\n",
            "20/20 [==============================] - 113s 6s/step - loss: 0.4897 - acc: 0.7625 - val_loss: 0.5028 - val_acc: 0.7380\n",
            "Epoch 36/100\n",
            "20/20 [==============================] - 111s 6s/step - loss: 0.4977 - acc: 0.7630 - val_loss: 0.4525 - val_acc: 0.7770\n",
            "Epoch 37/100\n",
            "20/20 [==============================] - 110s 6s/step - loss: 0.4754 - acc: 0.7710 - val_loss: 0.4573 - val_acc: 0.7770\n",
            "Epoch 38/100\n",
            "20/20 [==============================] - 111s 6s/step - loss: 0.4855 - acc: 0.7555 - val_loss: 0.4458 - val_acc: 0.7860\n",
            "Epoch 39/100\n",
            "20/20 [==============================] - 110s 6s/step - loss: 0.4698 - acc: 0.7775 - val_loss: 0.4412 - val_acc: 0.7960\n",
            "Epoch 40/100\n",
            "20/20 [==============================] - 111s 6s/step - loss: 0.4796 - acc: 0.7740 - val_loss: 0.4594 - val_acc: 0.7840\n",
            "Epoch 41/100\n",
            "20/20 [==============================] - 111s 6s/step - loss: 0.4809 - acc: 0.7595 - val_loss: 0.4525 - val_acc: 0.7870\n",
            "Epoch 42/100\n",
            "20/20 [==============================] - 111s 6s/step - loss: 0.4731 - acc: 0.7710 - val_loss: 0.4707 - val_acc: 0.7860\n",
            "Epoch 43/100\n",
            "20/20 [==============================] - 111s 6s/step - loss: 0.4801 - acc: 0.7660 - val_loss: 0.4832 - val_acc: 0.7690\n",
            "Epoch 44/100\n",
            "20/20 [==============================] - 111s 6s/step - loss: 0.4643 - acc: 0.7730 - val_loss: 0.4350 - val_acc: 0.7920\n",
            "Epoch 45/100\n",
            "20/20 [==============================] - 111s 6s/step - loss: 0.4772 - acc: 0.7670 - val_loss: 0.4733 - val_acc: 0.7540\n",
            "Epoch 46/100\n",
            "20/20 [==============================] - 111s 6s/step - loss: 0.4611 - acc: 0.7810 - val_loss: 0.4587 - val_acc: 0.7770\n",
            "Epoch 47/100\n",
            " 2/20 [==>...........................] - ETA: 1:28 - loss: 0.4457 - acc: 0.7900"
          ],
          "name": "stdout"
        }
      ]
    },
    {
      "cell_type": "code",
      "metadata": {
        "id": "RUMkGE7FnTrU",
        "colab_type": "code",
        "colab": {}
      },
      "source": [
        "acc = model.history"
      ],
      "execution_count": 0,
      "outputs": []
    }
  ]
}