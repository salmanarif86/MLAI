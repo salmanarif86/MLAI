{
  "nbformat": 4,
  "nbformat_minor": 0,
  "metadata": {
    "colab": {
      "name": "IATA.ipynb",
      "version": "0.3.2",
      "provenance": [],
      "collapsed_sections": [],
      "toc_visible": true,
      "include_colab_link": true
    },
    "kernelspec": {
      "name": "python3",
      "display_name": "Python 3"
    }
  },
  "cells": [
    {
      "cell_type": "markdown",
      "metadata": {
        "id": "view-in-github",
        "colab_type": "text"
      },
      "source": [
        "<a href=\"https://colab.research.google.com/github/salmanarif86/MLAI/blob/master/IATA.ipynb\" target=\"_parent\"><img src=\"https://colab.research.google.com/assets/colab-badge.svg\" alt=\"Open In Colab\"/></a>"
      ]
    },
    {
      "cell_type": "code",
      "metadata": {
        "id": "07e3hIjmgwyW",
        "colab_type": "code",
        "colab": {}
      },
      "source": [
        "!pip install spacy_cld"
      ],
      "execution_count": 0,
      "outputs": []
    },
    {
      "cell_type": "code",
      "metadata": {
        "id": "OSNaS4KPhCmJ",
        "colab_type": "code",
        "colab": {}
      },
      "source": [
        "!pip install spacy-langdetect"
      ],
      "execution_count": 0,
      "outputs": []
    },
    {
      "cell_type": "markdown",
      "metadata": {
        "id": "xmnoOnvhCVoP",
        "colab_type": "text"
      },
      "source": [
        "### The following program is a attempt to perform multiclass, multiple classification problem. I am attempting to use modern NLP techniques to solve this classfication problem. This is a dataset provided by IATA with incidents summary provided by passengers in about 10 different languages. The incidents are then classified which has been provided to us as labelled data set. I will first identify languages using SpaCy and then translate the language to English using google's NLP language translation API. The next step would be to use pre-trained word embedding GloVe to get a vector reprsentation of all the text in my training set and then use logistic, svm and XGBoost to train my model. Since it is a multi label classifcation problem it has to be strutured as 22 indiviual binary classification problem. 22 because there are a total of 22 target labels in the dataset.\n",
        "\n",
        "### My next step would be to use a LSTM network to perform the same classification problem. I will also attempt to use Keras embedding layer to train my embedding from scratch and  check the peroformance of my classiication task. I will also create my own word2vec model using the dataset I have and see if there is any performance imporovement"
      ]
    },
    {
      "cell_type": "markdown",
      "metadata": {
        "id": "pBmQSD7AGRS-",
        "colab_type": "text"
      },
      "source": [
        "import all important packages including the LanguageDetector provided natively by SpaCy"
      ]
    },
    {
      "cell_type": "code",
      "metadata": {
        "id": "WS_7_7sBOP6t",
        "colab_type": "code",
        "colab": {}
      },
      "source": [
        "import numpy as np\n",
        "import pandas as pd\n",
        "import matplotlib.pyplot as plt\n",
        "import seaborn as sns\n",
        "import spacy\n",
        "from spacy_cld import LanguageDetector\n",
        "sns.set()"
      ],
      "execution_count": 0,
      "outputs": []
    },
    {
      "cell_type": "markdown",
      "metadata": {
        "id": "nvX6wNVuJDkz",
        "colab_type": "text"
      },
      "source": [
        "The first step is to create a dataframe by importing .csv file and using latin encoding as there are quite a few other languages than english. This i found to be the best way to import data when we have other roman languages"
      ]
    },
    {
      "cell_type": "code",
      "metadata": {
        "id": "V7wvtxttOzyn",
        "colab_type": "code",
        "colab": {}
      },
      "source": [
        "df = pd.read_csv('IATA.csv',encoding='latin1')"
      ],
      "execution_count": 0,
      "outputs": []
    },
    {
      "cell_type": "markdown",
      "metadata": {
        "id": "yFbedkq5J9Rj",
        "colab_type": "text"
      },
      "source": [
        "My first step is to quickly see the shape of my dataframe. This gives me quick access to the number of examples and features that I will be dealing with"
      ]
    },
    {
      "cell_type": "code",
      "metadata": {
        "id": "61Ig2s0qO-I9",
        "colab_type": "code",
        "outputId": "f4a7fd57-c31a-4a9f-bca0-05f07dc37cb0",
        "colab": {
          "base_uri": "https://localhost:8080/",
          "height": 34
        }
      },
      "source": [
        "df.shape"
      ],
      "execution_count": 0,
      "outputs": [
        {
          "output_type": "execute_result",
          "data": {
            "text/plain": [
              "(20000, 25)"
            ]
          },
          "metadata": {
            "tags": []
          },
          "execution_count": 6
        }
      ]
    },
    {
      "cell_type": "markdown",
      "metadata": {
        "id": "uudSbDq7KPU_",
        "colab_type": "text"
      },
      "source": [
        "Then i will check the data completeness to see if I have missing data. Looks like i have 16 missing Summary descriptions and 5 missing event titles. However compared to the 20000 examples that I have its safe to drop these rows"
      ]
    },
    {
      "cell_type": "code",
      "metadata": {
        "id": "zQzrLWpBPQRr",
        "colab_type": "code",
        "outputId": "1d1d8b8e-b6c8-481d-8e6e-0301726cee79",
        "colab": {
          "base_uri": "https://localhost:8080/",
          "height": 454
        }
      },
      "source": [
        "df.isna().sum()"
      ],
      "execution_count": 0,
      "outputs": [
        {
          "output_type": "execute_result",
          "data": {
            "text/plain": [
              "Report ID                           0\n",
              "EventTitle                          5\n",
              "Summary                            16\n",
              "Altitude Deviation                  0\n",
              "Birdstrike                          0\n",
              "Deep Landing                        0\n",
              "EGPWS                               0\n",
              "Hard/Heavy Landing                  0\n",
              "Runway/Taxiway Incursion            0\n",
              "Rejected Take Off                   0\n",
              "Stall Warning                       0\n",
              "TCAS                                0\n",
              "Unstable Approach                   0\n",
              "Cabin Fire/Smoke/Fumes              0\n",
              "Inadvertant Slide Deployment        0\n",
              "Passenger and Cabin Crew Injury     0\n",
              "Rapid Deplaning and Evacuation      0\n",
              "Turbulence                          0\n",
              "Brakes and Steering                 0\n",
              "Cabin Pressurization                0\n",
              "Engine Surge and Stall              0\n",
              "Engine Shutdown                     0\n",
              "Flight Controls                     0\n",
              "ATC Service Standard                0\n",
              "Security                            0\n",
              "dtype: int64"
            ]
          },
          "metadata": {
            "tags": []
          },
          "execution_count": 7
        }
      ]
    },
    {
      "cell_type": "code",
      "metadata": {
        "id": "8V-PjnXTPp5r",
        "colab_type": "code",
        "colab": {}
      },
      "source": [
        "df.dropna(subset=['Summary','EventTitle'],inplace=True)"
      ],
      "execution_count": 0,
      "outputs": []
    },
    {
      "cell_type": "code",
      "metadata": {
        "id": "CLZ_qcNZQjUU",
        "colab_type": "code",
        "colab": {}
      },
      "source": [
        "df.reset_index(drop =True, inplace=True)\n"
      ],
      "execution_count": 0,
      "outputs": []
    },
    {
      "cell_type": "markdown",
      "metadata": {
        "id": "TRawuTuOLdzT",
        "colab_type": "text"
      },
      "source": [
        "Loading the LanguageDectotor package from SpaCy ,instantiating and then addidng this to the pipeline"
      ]
    },
    {
      "cell_type": "code",
      "metadata": {
        "id": "kPCowMghS_36",
        "colab_type": "code",
        "colab": {}
      },
      "source": [
        "nlp = spacy.load('en')"
      ],
      "execution_count": 0,
      "outputs": []
    },
    {
      "cell_type": "code",
      "metadata": {
        "id": "9y_t27HDUQAK",
        "colab_type": "code",
        "colab": {}
      },
      "source": [
        "\n",
        "language_detector = LanguageDetector()"
      ],
      "execution_count": 0,
      "outputs": []
    },
    {
      "cell_type": "code",
      "metadata": {
        "id": "pBO0gdTFUCWe",
        "colab_type": "code",
        "colab": {}
      },
      "source": [
        "nlp.add_pipe(language_detector)"
      ],
      "execution_count": 0,
      "outputs": []
    },
    {
      "cell_type": "markdown",
      "metadata": {
        "id": "7pksJTa6L9Jr",
        "colab_type": "text"
      },
      "source": [
        "Function to remove all ascii characters"
      ]
    },
    {
      "cell_type": "code",
      "metadata": {
        "id": "QSll_csfdvRW",
        "colab_type": "code",
        "colab": {}
      },
      "source": [
        "def remove_non_ascii(text):\n",
        "    return ''.join(i for i in text if ord(i)<128)\n",
        " \n"
      ],
      "execution_count": 0,
      "outputs": []
    },
    {
      "cell_type": "code",
      "metadata": {
        "id": "dlk5X3iagzBe",
        "colab_type": "code",
        "colab": {}
      },
      "source": [
        "df['Summary'] = df['Summary'].apply(remove_non_ascii)"
      ],
      "execution_count": 0,
      "outputs": []
    },
    {
      "cell_type": "markdown",
      "metadata": {
        "id": "FmREzShbMEZA",
        "colab_type": "text"
      },
      "source": [
        "Applying the language Detection pipeline to the summary column of our database. Creating a list of all the languages corresponding to each row of our summary data and then putting this altogether in a dataframe"
      ]
    },
    {
      "cell_type": "code",
      "metadata": {
        "id": "eOxYyNTOg3Qf",
        "colab_type": "code",
        "colab": {}
      },
      "source": [
        "docx = df['Summary'].apply(nlp)"
      ],
      "execution_count": 0,
      "outputs": []
    },
    {
      "cell_type": "code",
      "metadata": {
        "id": "42kQX2Feg-cX",
        "colab_type": "code",
        "colab": {}
      },
      "source": [
        "languages=[]\n",
        "for i in docx:\n",
        "  languages.append(i._.languages)"
      ],
      "execution_count": 0,
      "outputs": []
    },
    {
      "cell_type": "code",
      "metadata": {
        "id": "86W9iRXvheAK",
        "colab_type": "code",
        "colab": {}
      },
      "source": [
        "df_lang = pd.DataFrame(languages)\n"
      ],
      "execution_count": 0,
      "outputs": []
    },
    {
      "cell_type": "code",
      "metadata": {
        "id": "T5r1__LznEE6",
        "colab_type": "code",
        "colab": {}
      },
      "source": [
        "df_lang.rename(index= str, columns={0: 'Language', 1: 'Language2'},inplace=True)"
      ],
      "execution_count": 0,
      "outputs": []
    },
    {
      "cell_type": "code",
      "metadata": {
        "id": "0YUM5Oy4ocVH",
        "colab_type": "code",
        "outputId": "3ab8e81a-e23a-45aa-bc42-96a866bd6b1d",
        "colab": {
          "base_uri": "https://localhost:8080/",
          "height": 35
        }
      },
      "source": [
        "df_lang.shape"
      ],
      "execution_count": 0,
      "outputs": [
        {
          "output_type": "execute_result",
          "data": {
            "text/plain": [
              "(19979, 2)"
            ]
          },
          "metadata": {
            "tags": []
          },
          "execution_count": 55
        }
      ]
    },
    {
      "cell_type": "code",
      "metadata": {
        "id": "VRS7BM5Po32Y",
        "colab_type": "code",
        "outputId": "64cb1c70-a22e-40dd-b270-fa24c8b379a6",
        "colab": {
          "base_uri": "https://localhost:8080/",
          "height": 54
        }
      },
      "source": [
        "df_lang['Language'].unique()"
      ],
      "execution_count": 0,
      "outputs": [
        {
          "output_type": "execute_result",
          "data": {
            "text/plain": [
              "array(['en', 'es', 'fr', 'pt', None, 'de', 'gl', 'is', 'tr', 'nl', 'da',\n",
              "       'sv', 'cs', 'fi', 'ia', 'hu', 'gd', 'nn', 'la'], dtype=object)"
            ]
          },
          "metadata": {
            "tags": []
          },
          "execution_count": 56
        }
      ]
    },
    {
      "cell_type": "code",
      "metadata": {
        "id": "WeNt0GvBw7h_",
        "colab_type": "code",
        "colab": {}
      },
      "source": [
        "df_lang['LangMap']=df_lang['Language'].map({'en' :'Engllish','es':'Español','fr':'French','pt':'Portuguese','de':'German','gl':'Galician','is':'Icelandic','tr':'Turkish',\n",
        "                        'nl':'Dutch','sv' : 'Swedish','cs' : 'Czech','fi' :'Finnish', 'ia':'Interlingua','hu':'Hungarian','gd':'Gaelic','nn':'Norwegian Nynorsk','la':'Latin'})\n"
      ],
      "execution_count": 0,
      "outputs": []
    },
    {
      "cell_type": "code",
      "metadata": {
        "id": "9YCVPOSip657",
        "colab_type": "code",
        "colab": {}
      },
      "source": [
        "df_merge= pd.concat([df, df_lang], axis = 1)"
      ],
      "execution_count": 0,
      "outputs": []
    },
    {
      "cell_type": "code",
      "metadata": {
        "id": "ejTSuhnFqnSH",
        "colab_type": "code",
        "outputId": "4e20b9f6-dbbd-4123-f9b1-9a4f0947f07c",
        "colab": {
          "base_uri": "https://localhost:8080/",
          "height": 35
        }
      },
      "source": [
        "df_lang.reset_index(drop =True, inplace=True)\n"
      ],
      "execution_count": 0,
      "outputs": [
        {
          "output_type": "execute_result",
          "data": {
            "text/plain": [
              "RangeIndex(start=0, stop=19979, step=1)"
            ]
          },
          "metadata": {
            "tags": []
          },
          "execution_count": 64
        }
      ]
    },
    {
      "cell_type": "code",
      "metadata": {
        "id": "e-3UhGJmq3Qq",
        "colab_type": "code",
        "colab": {}
      },
      "source": [
        "df_merge = df.merge(df_lang,left_index=True, right_index=True)"
      ],
      "execution_count": 0,
      "outputs": []
    },
    {
      "cell_type": "code",
      "metadata": {
        "id": "ehgouVKt4yS7",
        "colab_type": "code",
        "colab": {}
      },
      "source": [
        "df_final = df_merge[['Report ID',\n",
        " 'EventTitle',\n",
        " 'Summary',\n",
        " 'LangMap',\n",
        " 'Altitude Deviation',\n",
        " 'Birdstrike',\n",
        " 'Deep Landing',\n",
        " 'EGPWS',\n",
        " 'Hard/Heavy Landing',\n",
        " 'Runway/Taxiway Incursion',\n",
        " 'Rejected Take Off',\n",
        " 'Stall Warning',\n",
        " 'TCAS',\n",
        " 'Unstable Approach',\n",
        " 'Cabin Fire/Smoke/Fumes',\n",
        " 'Inadvertant Slide Deployment',\n",
        " 'Passenger and Cabin Crew Injury',\n",
        " 'Rapid Deplaning and Evacuation',\n",
        " 'Turbulence',\n",
        " 'Brakes and Steering',\n",
        " 'Cabin Pressurization',\n",
        " 'Engine Surge and Stall',\n",
        " 'Engine Shutdown',\n",
        " 'Flight Controls',\n",
        " 'ATC Service Standard',\n",
        " 'Security',\n",
        " 'Language',\n",
        " 'Language2',\n",
        "]]"
      ],
      "execution_count": 0,
      "outputs": []
    },
    {
      "cell_type": "code",
      "metadata": {
        "id": "k5wFkubTJk83",
        "colab_type": "code",
        "outputId": "05ec1aff-156b-4883-92cb-61470bc7c1ff",
        "colab": {
          "base_uri": "https://localhost:8080/",
          "height": 55
        }
      },
      "source": [
        "df_merge[df_merge['LangMap'] == 'Czech'].loc[4475]['Summary']"
      ],
      "execution_count": 0,
      "outputs": [
        {
          "output_type": "execute_result",
          "data": {
            "text/plain": [
              "'cas cca 4:20 utc- upozorneni od cestujiciho sediciho na leve strane u motoru na unik kapaliny z leveho motoru- f / o provedl vizualni kontrolu a potvrdil unik kapaliny tekouci po spodni zadni casti krytu motoru- ******************* vizualni kontrolu, s potvrzenim uniku. tekouci cira kapalina po krytu motoru- *************************************** ******** ********* ve fl190. komunikace s atc - ***************** situace konzultovana s opc a mcc - v celem case probihala komunika s vk o vznikle situaci- f / o provedl jeste jednou vizualni kontrolu se stejnym zjistenim- cptosobne oznamil vk o nutnosti vypnout levy motor a vyhlasil pripravu kabiny na nouzovou situaci, s navratem do prg. max 20 min na pripravu- ************* *************** vyhlasen pan pan pan a nasledne klesani do fl100 a direct *************** single engine operation checklist- na atc oznameno pocet cestujicich, *************** na palube a dg (zadne) a viditelny unik paliva z leveho motoru- ****** ************** cca ve fl100- cptprovedl hlaseni cestujicim- ils 06- provedeno standardni hlaseni pro ccv prubehu priblizeni- po pristani zastaveni na draze na urovni twy l a provedena vizualni kontrola leveho motoru hzs a nasledna komunikace s hzs na 121. 6- pojizdeni na stojanku a podekovani cestujicim za spolupraci- ****** cestujich do autobusu- pohovor s fsq a alko test- ******** ***************** a nasledne pokracovani sluzby'"
            ]
          },
          "metadata": {
            "tags": []
          },
          "execution_count": 70
        }
      ]
    },
    {
      "cell_type": "code",
      "metadata": {
        "id": "QzO60fZ25XoJ",
        "colab_type": "code",
        "outputId": "51090bbc-a67a-437f-97c4-4d9b4b1659ad",
        "colab": {
          "base_uri": "https://localhost:8080/",
          "height": 50
        }
      },
      "source": [
        "import spacy.cli\n",
        "spacy.cli.download(\"en_core_web_lg\")"
      ],
      "execution_count": 5,
      "outputs": [
        {
          "output_type": "stream",
          "text": [
            "\u001b[38;5;2m✔ Download and installation successful\u001b[0m\n",
            "You can now load the model via spacy.load('en_core_web_lg')\n"
          ],
          "name": "stdout"
        }
      ]
    },
    {
      "cell_type": "code",
      "metadata": {
        "id": "qg7s3Xlbmvqo",
        "colab_type": "code",
        "colab": {}
      },
      "source": [
        "from google.cloud import translate_v2\n",
        "from google.cloud import storage\n",
        "#client = translate.Client.from_service_account_json('/content/My First Project-da1df09996b6.json')\n",
        "import os\n",
        "os.environ[\"GOOGLE_APPLICATION_CREDENTIALS\"] = \"/content/My First Project-da1df09996b6.json\""
      ],
      "execution_count": 0,
      "outputs": []
    },
    {
      "cell_type": "code",
      "metadata": {
        "id": "ufze5ygVq-yl",
        "colab_type": "code",
        "colab": {}
      },
      "source": [
        "def translate_text(text, target ='en'):\n",
        "  translation = translate_client.translate(text, target_language= target)\n",
        "  return translation['translatedText']\n",
        "  "
      ],
      "execution_count": 0,
      "outputs": []
    },
    {
      "cell_type": "code",
      "metadata": {
        "id": "iLCF4jJey8aH",
        "colab_type": "code",
        "colab": {}
      },
      "source": [
        "df_final['Trans']=df_final[df_final['LangMap']=='Turkish']['Summary'].apply(lambda x : translate_text(x))\n",
        "#df_final['Trans']=df_final[df_final['LangMap']=='Latin']['Summary'].apply(lambda x : translate_text(x))\n",
        "\n",
        "df_test1 = df_final"
      ],
      "execution_count": 0,
      "outputs": []
    },
    {
      "cell_type": "code",
      "metadata": {
        "id": "YttSirKhz5zv",
        "colab_type": "code",
        "colab": {}
      },
      "source": [
        "df_test1['Trans']=df_test1[['Summary','LangMap','Trans']].apply(lambda x : translate_text(x['Summary']) if x['LangMap']=='Latin' else x['Trans'], axis = 1)"
      ],
      "execution_count": 0,
      "outputs": []
    },
    {
      "cell_type": "code",
      "metadata": {
        "id": "DMyPwysDGBRQ",
        "colab_type": "code",
        "colab": {}
      },
      "source": [
        "df_test1['Trans']=df_test1[['Summary','LangMap','Trans']].apply(lambda x : translate_text(x['Summary']) if x['LangMap']=='Hungarian' else x['Trans'], axis = 1)"
      ],
      "execution_count": 0,
      "outputs": []
    },
    {
      "cell_type": "code",
      "metadata": {
        "id": "PyfSDUIBGVs3",
        "colab_type": "code",
        "colab": {}
      },
      "source": [
        "df_test1['Trans']=df_test1[['Summary','LangMap','Trans']].apply(lambda x : translate_text(x['Summary']) if x['LangMap']=='Norwegian Nynorsk' else x['Trans'], axis = 1)"
      ],
      "execution_count": 0,
      "outputs": []
    },
    {
      "cell_type": "code",
      "metadata": {
        "id": "jQqebo7HGbbl",
        "colab_type": "code",
        "colab": {}
      },
      "source": [
        "df_test1['Trans']=df_test1[['Summary','LangMap','Trans']].apply(lambda x : translate_text(x['Summary']) if x['LangMap']=='Gaelic' else x['Trans'], axis = 1)"
      ],
      "execution_count": 0,
      "outputs": []
    },
    {
      "cell_type": "code",
      "metadata": {
        "id": "oc8H5jrFGnD-",
        "colab_type": "code",
        "colab": {}
      },
      "source": [
        "df_test1['Trans']=df_test1[['Summary','LangMap','Trans']].apply(lambda x : translate_text(x['Summary']) if x['LangMap']=='Icelandic' else x['Trans'], axis = 1)"
      ],
      "execution_count": 0,
      "outputs": []
    },
    {
      "cell_type": "code",
      "metadata": {
        "id": "nvkt5OMHGxA9",
        "colab_type": "code",
        "colab": {}
      },
      "source": [
        "df_test1['Trans']=df_test1[['Summary','LangMap','Trans']].apply(lambda x : translate_text(x['Summary']) if x['LangMap']=='Interlingua' else x['Trans'], axis = 1)"
      ],
      "execution_count": 0,
      "outputs": []
    },
    {
      "cell_type": "code",
      "metadata": {
        "id": "Hg1HeyG7G77Z",
        "colab_type": "code",
        "colab": {}
      },
      "source": [
        "df_test1['Trans']=df_test1[['Summary','LangMap','Trans']].apply(lambda x : translate_text(x['Summary']) if x['LangMap']=='Finnish' else x['Trans'], axis = 1)"
      ],
      "execution_count": 0,
      "outputs": []
    },
    {
      "cell_type": "code",
      "metadata": {
        "id": "6HqTWc9rHDcv",
        "colab_type": "code",
        "colab": {}
      },
      "source": [
        "df_test1['Trans']=df_test1[['Summary','LangMap','Trans']].apply(lambda x : translate_text(x['Summary']) if x['LangMap']=='Czech' else x['Trans'], axis = 1)"
      ],
      "execution_count": 0,
      "outputs": []
    },
    {
      "cell_type": "code",
      "metadata": {
        "id": "q5o8ppswHKF3",
        "colab_type": "code",
        "colab": {}
      },
      "source": [
        "df_test1['Trans']=df_test1[['Summary','LangMap','Trans']].apply(lambda x : translate_text(x['Summary']) if x['LangMap']=='Swedish' else x['Trans'], axis = 1)"
      ],
      "execution_count": 0,
      "outputs": []
    },
    {
      "cell_type": "code",
      "metadata": {
        "id": "lbeh_nUQHQGP",
        "colab_type": "code",
        "colab": {}
      },
      "source": [
        "df_test1['Trans']=df_test1[['Summary','LangMap','Trans']].apply(lambda x : translate_text(x['Summary']) if x['LangMap']=='Dutch' else x['Trans'], axis = 1)"
      ],
      "execution_count": 0,
      "outputs": []
    },
    {
      "cell_type": "code",
      "metadata": {
        "id": "LeHk8x2GHZLx",
        "colab_type": "code",
        "colab": {}
      },
      "source": [
        "df_test1['Trans']=df_test1[['Summary','LangMap','Trans']].apply(lambda x : translate_text(x['Summary']) if x['LangMap']=='German' else x['Trans'], axis = 1)"
      ],
      "execution_count": 0,
      "outputs": []
    },
    {
      "cell_type": "code",
      "metadata": {
        "id": "Lm-tkShZH45b",
        "colab_type": "code",
        "colab": {}
      },
      "source": [
        "df_test1['Trans']=df_test1[['Summary','LangMap','Trans']].apply(lambda x : translate_text(x['Summary']) if x['LangMap']=='Galician' else x['Trans'], axis = 1)"
      ],
      "execution_count": 0,
      "outputs": []
    },
    {
      "cell_type": "code",
      "metadata": {
        "id": "Qr1i9bYhH_pM",
        "colab_type": "code",
        "colab": {}
      },
      "source": [
        "df_test1['Trans']=df_test1[['Summary','LangMap','Trans']].apply(lambda x : translate_text(x['Summary']) if x['LangMap']=='Portuguese' else x['Trans'], axis = 1)"
      ],
      "execution_count": 0,
      "outputs": []
    },
    {
      "cell_type": "code",
      "metadata": {
        "id": "nlRM_00aOkX_",
        "colab_type": "code",
        "colab": {}
      },
      "source": [
        "df_test1['Trans']=df_test1[['Summary','LangMap','Trans']].apply(lambda x : x['Summary'] if x['LangMap']=='Engllish' else x['Trans'], axis = 1)"
      ],
      "execution_count": 0,
      "outputs": []
    },
    {
      "cell_type": "code",
      "metadata": {
        "id": "_6LhSfbtDM9j",
        "colab_type": "code",
        "colab": {}
      },
      "source": [
        "df_test.columns.values"
      ],
      "execution_count": 0,
      "outputs": []
    },
    {
      "cell_type": "code",
      "metadata": {
        "id": "zycd4FtRO5tE",
        "colab_type": "code",
        "colab": {}
      },
      "source": [
        "df_test1 = df_test1[['Report ID', 'EventTitle', 'Summary', 'LangMap','Trans',\n",
        "       'Altitude Deviation', 'Birdstrike', 'Deep Landing', 'EGPWS',\n",
        "       'Hard/Heavy Landing', 'Runway/Taxiway Incursion',\n",
        "       'Rejected Take Off', 'Stall Warning', 'TCAS', 'Unstable Approach',\n",
        "       'Cabin Fire/Smoke/Fumes', 'Inadvertant Slide Deployment',\n",
        "       'Passenger and Cabin Crew Injury',\n",
        "       'Rapid Deplaning and Evacuation', 'Turbulence',\n",
        "       'Brakes and Steering', 'Cabin Pressurization',\n",
        "       'Engine Surge and Stall', 'Engine Shutdown', 'Flight Controls',\n",
        "       'ATC Service Standard', 'Security', 'Language', 'Language2']]"
      ],
      "execution_count": 0,
      "outputs": []
    },
    {
      "cell_type": "code",
      "metadata": {
        "id": "wnkz7moBPFpz",
        "colab_type": "code",
        "colab": {}
      },
      "source": [
        "df_test1.to_csv('IATA_transformed.csv')"
      ],
      "execution_count": 0,
      "outputs": []
    },
    {
      "cell_type": "code",
      "metadata": {
        "id": "AgvxKBLvPIRz",
        "colab_type": "code",
        "outputId": "7275f4fe-5b4d-43c2-d6ec-88cd638f426d",
        "colab": {
          "base_uri": "https://localhost:8080/",
          "height": 35
        }
      },
      "source": [
        "df_test1[df_test1['LangMap']=='French'].shape"
      ],
      "execution_count": 0,
      "outputs": [
        {
          "output_type": "execute_result",
          "data": {
            "text/plain": [
              "(153, 29)"
            ]
          },
          "metadata": {
            "tags": []
          },
          "execution_count": 254
        }
      ]
    },
    {
      "cell_type": "code",
      "metadata": {
        "id": "oiDVfl1EUU9l",
        "colab_type": "code",
        "colab": {}
      },
      "source": [
        "df_translation = pd.read_csv('IATA_transformed.csv', index_col=0)"
      ],
      "execution_count": 0,
      "outputs": []
    },
    {
      "cell_type": "code",
      "metadata": {
        "id": "UF8mOjmO4JqX",
        "colab_type": "code",
        "outputId": "ce8c045e-caf4-4fb5-c524-dc1e81e1fece",
        "colab": {
          "base_uri": "https://localhost:8080/",
          "height": 450
        }
      },
      "source": [
        "df_translation.sample(5)"
      ],
      "execution_count": 8,
      "outputs": [
        {
          "output_type": "execute_result",
          "data": {
            "text/html": [
              "<div>\n",
              "<style scoped>\n",
              "    .dataframe tbody tr th:only-of-type {\n",
              "        vertical-align: middle;\n",
              "    }\n",
              "\n",
              "    .dataframe tbody tr th {\n",
              "        vertical-align: top;\n",
              "    }\n",
              "\n",
              "    .dataframe thead th {\n",
              "        text-align: right;\n",
              "    }\n",
              "</style>\n",
              "<table border=\"1\" class=\"dataframe\">\n",
              "  <thead>\n",
              "    <tr style=\"text-align: right;\">\n",
              "      <th></th>\n",
              "      <th>Report ID</th>\n",
              "      <th>EventTitle</th>\n",
              "      <th>Summary</th>\n",
              "      <th>LangMap</th>\n",
              "      <th>Trans</th>\n",
              "      <th>Altitude Deviation</th>\n",
              "      <th>Birdstrike</th>\n",
              "      <th>Deep Landing</th>\n",
              "      <th>EGPWS</th>\n",
              "      <th>Hard/Heavy Landing</th>\n",
              "      <th>Runway/Taxiway Incursion</th>\n",
              "      <th>Rejected Take Off</th>\n",
              "      <th>Stall Warning</th>\n",
              "      <th>TCAS</th>\n",
              "      <th>Unstable Approach</th>\n",
              "      <th>Cabin Fire/Smoke/Fumes</th>\n",
              "      <th>Inadvertant Slide Deployment</th>\n",
              "      <th>Passenger and Cabin Crew Injury</th>\n",
              "      <th>Rapid Deplaning and Evacuation</th>\n",
              "      <th>Turbulence</th>\n",
              "      <th>Brakes and Steering</th>\n",
              "      <th>Cabin Pressurization</th>\n",
              "      <th>Engine Surge and Stall</th>\n",
              "      <th>Engine Shutdown</th>\n",
              "      <th>Flight Controls</th>\n",
              "      <th>ATC Service Standard</th>\n",
              "      <th>Security</th>\n",
              "      <th>Language</th>\n",
              "      <th>Language2</th>\n",
              "    </tr>\n",
              "  </thead>\n",
              "  <tbody>\n",
              "    <tr>\n",
              "      <th>4015</th>\n",
              "      <td>4021</td>\n",
              "      <td>ATC - Service STD, Confusion, Clearance, Vecto...</td>\n",
              "      <td>landing in fra on 25l. spacing to previous a /...</td>\n",
              "      <td>Engllish</td>\n",
              "      <td>landing in fra on 25l. spacing to previous a /...</td>\n",
              "      <td>0</td>\n",
              "      <td>0</td>\n",
              "      <td>0</td>\n",
              "      <td>0</td>\n",
              "      <td>0</td>\n",
              "      <td>0</td>\n",
              "      <td>0</td>\n",
              "      <td>0</td>\n",
              "      <td>0</td>\n",
              "      <td>0</td>\n",
              "      <td>0</td>\n",
              "      <td>0</td>\n",
              "      <td>0</td>\n",
              "      <td>0</td>\n",
              "      <td>0</td>\n",
              "      <td>0</td>\n",
              "      <td>0</td>\n",
              "      <td>0</td>\n",
              "      <td>0</td>\n",
              "      <td>0</td>\n",
              "      <td>1</td>\n",
              "      <td>0</td>\n",
              "      <td>en</td>\n",
              "      <td>NaN</td>\n",
              "    </tr>\n",
              "    <tr>\n",
              "      <th>12088</th>\n",
              "      <td>12098</td>\n",
              "      <td>ENG failure during flight</td>\n",
              "      <td>summary: *************************************...</td>\n",
              "      <td>Engllish</td>\n",
              "      <td>summary: *************************************...</td>\n",
              "      <td>0</td>\n",
              "      <td>0</td>\n",
              "      <td>0</td>\n",
              "      <td>0</td>\n",
              "      <td>0</td>\n",
              "      <td>0</td>\n",
              "      <td>0</td>\n",
              "      <td>0</td>\n",
              "      <td>0</td>\n",
              "      <td>0</td>\n",
              "      <td>0</td>\n",
              "      <td>0</td>\n",
              "      <td>0</td>\n",
              "      <td>0</td>\n",
              "      <td>0</td>\n",
              "      <td>0</td>\n",
              "      <td>0</td>\n",
              "      <td>1</td>\n",
              "      <td>0</td>\n",
              "      <td>0</td>\n",
              "      <td>0</td>\n",
              "      <td>0</td>\n",
              "      <td>en</td>\n",
              "      <td>NaN</td>\n",
              "    </tr>\n",
              "    <tr>\n",
              "      <th>12814</th>\n",
              "      <td>12824</td>\n",
              "      <td>Overspeed during cruise</td>\n",
              "      <td>in light turbulence and varying wind, airspeed...</td>\n",
              "      <td>Engllish</td>\n",
              "      <td>in light turbulence and varying wind, airspeed...</td>\n",
              "      <td>0</td>\n",
              "      <td>0</td>\n",
              "      <td>0</td>\n",
              "      <td>0</td>\n",
              "      <td>0</td>\n",
              "      <td>0</td>\n",
              "      <td>0</td>\n",
              "      <td>1</td>\n",
              "      <td>0</td>\n",
              "      <td>0</td>\n",
              "      <td>0</td>\n",
              "      <td>0</td>\n",
              "      <td>0</td>\n",
              "      <td>0</td>\n",
              "      <td>0</td>\n",
              "      <td>0</td>\n",
              "      <td>0</td>\n",
              "      <td>0</td>\n",
              "      <td>0</td>\n",
              "      <td>0</td>\n",
              "      <td>0</td>\n",
              "      <td>0</td>\n",
              "      <td>en</td>\n",
              "      <td>NaN</td>\n",
              "    </tr>\n",
              "    <tr>\n",
              "      <th>8967</th>\n",
              "      <td>8974</td>\n",
              "      <td>Rejected take off</td>\n",
              "      <td>during take off rolling when the aircraft spee...</td>\n",
              "      <td>Engllish</td>\n",
              "      <td>during take off rolling when the aircraft spee...</td>\n",
              "      <td>0</td>\n",
              "      <td>0</td>\n",
              "      <td>0</td>\n",
              "      <td>0</td>\n",
              "      <td>0</td>\n",
              "      <td>0</td>\n",
              "      <td>1</td>\n",
              "      <td>0</td>\n",
              "      <td>0</td>\n",
              "      <td>0</td>\n",
              "      <td>0</td>\n",
              "      <td>0</td>\n",
              "      <td>0</td>\n",
              "      <td>0</td>\n",
              "      <td>0</td>\n",
              "      <td>0</td>\n",
              "      <td>0</td>\n",
              "      <td>0</td>\n",
              "      <td>0</td>\n",
              "      <td>0</td>\n",
              "      <td>0</td>\n",
              "      <td>0</td>\n",
              "      <td>en</td>\n",
              "      <td>NaN</td>\n",
              "    </tr>\n",
              "    <tr>\n",
              "      <th>2038</th>\n",
              "      <td>2040</td>\n",
              "      <td>(FOP) STICK SHAKER AFTER T/O DUE WAKE TURBULEN...</td>\n",
              "      <td>as preceding a / c (**** 744) lifted off r / w...</td>\n",
              "      <td>Engllish</td>\n",
              "      <td>as preceding a / c (**** 744) lifted off r / w...</td>\n",
              "      <td>0</td>\n",
              "      <td>0</td>\n",
              "      <td>0</td>\n",
              "      <td>0</td>\n",
              "      <td>0</td>\n",
              "      <td>0</td>\n",
              "      <td>0</td>\n",
              "      <td>1</td>\n",
              "      <td>0</td>\n",
              "      <td>0</td>\n",
              "      <td>0</td>\n",
              "      <td>0</td>\n",
              "      <td>0</td>\n",
              "      <td>0</td>\n",
              "      <td>0</td>\n",
              "      <td>0</td>\n",
              "      <td>0</td>\n",
              "      <td>0</td>\n",
              "      <td>0</td>\n",
              "      <td>0</td>\n",
              "      <td>0</td>\n",
              "      <td>0</td>\n",
              "      <td>en</td>\n",
              "      <td>NaN</td>\n",
              "    </tr>\n",
              "  </tbody>\n",
              "</table>\n",
              "</div>"
            ],
            "text/plain": [
              "       Report ID  ... Language2\n",
              "4015        4021  ...       NaN\n",
              "12088      12098  ...       NaN\n",
              "12814      12824  ...       NaN\n",
              "8967        8974  ...       NaN\n",
              "2038        2040  ...       NaN\n",
              "\n",
              "[5 rows x 29 columns]"
            ]
          },
          "metadata": {
            "tags": []
          },
          "execution_count": 8
        }
      ]
    },
    {
      "cell_type": "code",
      "metadata": {
        "id": "gu-NpTR1RPfQ",
        "colab_type": "code",
        "outputId": "42115300-681c-4bee-a57b-de41b6c2e1f7",
        "colab": {
          "base_uri": "https://localhost:8080/",
          "height": 34
        }
      },
      "source": [
        "df_translation[df_translation['Trans'].notnull()]['Trans'].drop"
      ],
      "execution_count": 9,
      "outputs": [
        {
          "output_type": "execute_result",
          "data": {
            "text/plain": [
              "(18472,)"
            ]
          },
          "metadata": {
            "tags": []
          },
          "execution_count": 9
        }
      ]
    },
    {
      "cell_type": "code",
      "metadata": {
        "id": "XhjYK-FqB5hX",
        "colab_type": "code",
        "colab": {}
      },
      "source": [
        "import en_core_web_lg\n",
        "nlp_w2v = en_core_web_lg.load()"
      ],
      "execution_count": 0,
      "outputs": []
    },
    {
      "cell_type": "code",
      "metadata": {
        "id": "ft2ML-694ob_",
        "colab_type": "code",
        "colab": {}
      },
      "source": [
        "train_vec_glove = []\n",
        "counter = 0\n",
        "for doc in nlp_w2v.pipe(df_translation[df_translation['Trans'].notnull()]['Trans'], batch_size=500):\n",
        "    \n",
        "    if doc.has_vector:\n",
        "        train_vec_glove.append(doc.vector)\n",
        "    else:\n",
        "        train_vec_glove.append(np.zeros((300,), dtype=\"float32\"))\n",
        "    counter +=1\n",
        "\n",
        "\n",
        "\n"
      ],
      "execution_count": 0,
      "outputs": []
    },
    {
      "cell_type": "code",
      "metadata": {
        "id": "OQiGLQkRPk76",
        "colab_type": "code",
        "colab": {}
      },
      "source": [
        "df_word_space = pd.DataFrame(train_vec_glove)"
      ],
      "execution_count": 0,
      "outputs": []
    },
    {
      "cell_type": "code",
      "metadata": {
        "id": "2qjA3wN1rm93",
        "colab_type": "code",
        "colab": {}
      },
      "source": [
        "df_word_space.to_csv('Word_vectors.csv')"
      ],
      "execution_count": 0,
      "outputs": []
    },
    {
      "cell_type": "code",
      "metadata": {
        "id": "K6XxCI4EtshI",
        "colab_type": "code",
        "colab": {}
      },
      "source": [
        "df_word_space =pd.read_csv('Word_vectors.csv',index_col=0)"
      ],
      "execution_count": 0,
      "outputs": []
    },
    {
      "cell_type": "code",
      "metadata": {
        "id": "gUEOPNeRZlVb",
        "colab_type": "code",
        "outputId": "9c34142a-e55e-4a24-c42b-7b5fdbce02f4",
        "colab": {
          "base_uri": "https://localhost:8080/",
          "height": 244
        }
      },
      "source": [
        "df_word_space.tail()"
      ],
      "execution_count": 14,
      "outputs": [
        {
          "output_type": "execute_result",
          "data": {
            "text/html": [
              "<div>\n",
              "<style scoped>\n",
              "    .dataframe tbody tr th:only-of-type {\n",
              "        vertical-align: middle;\n",
              "    }\n",
              "\n",
              "    .dataframe tbody tr th {\n",
              "        vertical-align: top;\n",
              "    }\n",
              "\n",
              "    .dataframe thead th {\n",
              "        text-align: right;\n",
              "    }\n",
              "</style>\n",
              "<table border=\"1\" class=\"dataframe\">\n",
              "  <thead>\n",
              "    <tr style=\"text-align: right;\">\n",
              "      <th></th>\n",
              "      <th>0</th>\n",
              "      <th>1</th>\n",
              "      <th>2</th>\n",
              "      <th>3</th>\n",
              "      <th>4</th>\n",
              "      <th>5</th>\n",
              "      <th>6</th>\n",
              "      <th>7</th>\n",
              "      <th>8</th>\n",
              "      <th>9</th>\n",
              "      <th>10</th>\n",
              "      <th>11</th>\n",
              "      <th>12</th>\n",
              "      <th>13</th>\n",
              "      <th>14</th>\n",
              "      <th>15</th>\n",
              "      <th>16</th>\n",
              "      <th>17</th>\n",
              "      <th>18</th>\n",
              "      <th>19</th>\n",
              "      <th>20</th>\n",
              "      <th>21</th>\n",
              "      <th>22</th>\n",
              "      <th>23</th>\n",
              "      <th>24</th>\n",
              "      <th>25</th>\n",
              "      <th>26</th>\n",
              "      <th>27</th>\n",
              "      <th>28</th>\n",
              "      <th>29</th>\n",
              "      <th>30</th>\n",
              "      <th>31</th>\n",
              "      <th>32</th>\n",
              "      <th>33</th>\n",
              "      <th>34</th>\n",
              "      <th>35</th>\n",
              "      <th>36</th>\n",
              "      <th>37</th>\n",
              "      <th>38</th>\n",
              "      <th>39</th>\n",
              "      <th>...</th>\n",
              "      <th>260</th>\n",
              "      <th>261</th>\n",
              "      <th>262</th>\n",
              "      <th>263</th>\n",
              "      <th>264</th>\n",
              "      <th>265</th>\n",
              "      <th>266</th>\n",
              "      <th>267</th>\n",
              "      <th>268</th>\n",
              "      <th>269</th>\n",
              "      <th>270</th>\n",
              "      <th>271</th>\n",
              "      <th>272</th>\n",
              "      <th>273</th>\n",
              "      <th>274</th>\n",
              "      <th>275</th>\n",
              "      <th>276</th>\n",
              "      <th>277</th>\n",
              "      <th>278</th>\n",
              "      <th>279</th>\n",
              "      <th>280</th>\n",
              "      <th>281</th>\n",
              "      <th>282</th>\n",
              "      <th>283</th>\n",
              "      <th>284</th>\n",
              "      <th>285</th>\n",
              "      <th>286</th>\n",
              "      <th>287</th>\n",
              "      <th>288</th>\n",
              "      <th>289</th>\n",
              "      <th>290</th>\n",
              "      <th>291</th>\n",
              "      <th>292</th>\n",
              "      <th>293</th>\n",
              "      <th>294</th>\n",
              "      <th>295</th>\n",
              "      <th>296</th>\n",
              "      <th>297</th>\n",
              "      <th>298</th>\n",
              "      <th>299</th>\n",
              "    </tr>\n",
              "  </thead>\n",
              "  <tbody>\n",
              "    <tr>\n",
              "      <th>18467</th>\n",
              "      <td>0.001337</td>\n",
              "      <td>0.190330</td>\n",
              "      <td>-0.138943</td>\n",
              "      <td>0.031240</td>\n",
              "      <td>0.035461</td>\n",
              "      <td>0.001659</td>\n",
              "      <td>-0.087530</td>\n",
              "      <td>-0.074111</td>\n",
              "      <td>0.051255</td>\n",
              "      <td>1.502308</td>\n",
              "      <td>-0.062256</td>\n",
              "      <td>0.091555</td>\n",
              "      <td>-0.038606</td>\n",
              "      <td>-0.059034</td>\n",
              "      <td>-0.002532</td>\n",
              "      <td>-0.102394</td>\n",
              "      <td>0.037767</td>\n",
              "      <td>1.430937</td>\n",
              "      <td>-0.199997</td>\n",
              "      <td>-0.027772</td>\n",
              "      <td>-0.083884</td>\n",
              "      <td>-0.004008</td>\n",
              "      <td>-0.293448</td>\n",
              "      <td>-0.090982</td>\n",
              "      <td>0.122086</td>\n",
              "      <td>-0.030163</td>\n",
              "      <td>0.011447</td>\n",
              "      <td>-0.043247</td>\n",
              "      <td>0.072882</td>\n",
              "      <td>-0.074794</td>\n",
              "      <td>0.041327</td>\n",
              "      <td>0.043096</td>\n",
              "      <td>-0.063236</td>\n",
              "      <td>-0.042029</td>\n",
              "      <td>0.041217</td>\n",
              "      <td>-0.101227</td>\n",
              "      <td>0.044283</td>\n",
              "      <td>0.097798</td>\n",
              "      <td>-0.057187</td>\n",
              "      <td>0.034594</td>\n",
              "      <td>...</td>\n",
              "      <td>-0.099623</td>\n",
              "      <td>0.165542</td>\n",
              "      <td>-0.010323</td>\n",
              "      <td>-0.090603</td>\n",
              "      <td>0.014173</td>\n",
              "      <td>-0.077340</td>\n",
              "      <td>-0.027641</td>\n",
              "      <td>0.051273</td>\n",
              "      <td>0.430475</td>\n",
              "      <td>-0.242498</td>\n",
              "      <td>0.045578</td>\n",
              "      <td>-0.082231</td>\n",
              "      <td>-0.067885</td>\n",
              "      <td>-0.091779</td>\n",
              "      <td>-0.158681</td>\n",
              "      <td>-0.008888</td>\n",
              "      <td>0.072160</td>\n",
              "      <td>0.061822</td>\n",
              "      <td>-0.102865</td>\n",
              "      <td>0.234915</td>\n",
              "      <td>0.150992</td>\n",
              "      <td>0.029508</td>\n",
              "      <td>0.099832</td>\n",
              "      <td>-0.117595</td>\n",
              "      <td>-0.056211</td>\n",
              "      <td>-0.008236</td>\n",
              "      <td>0.021491</td>\n",
              "      <td>-0.042145</td>\n",
              "      <td>0.232725</td>\n",
              "      <td>0.012673</td>\n",
              "      <td>-0.174244</td>\n",
              "      <td>0.222764</td>\n",
              "      <td>-0.068707</td>\n",
              "      <td>-0.147239</td>\n",
              "      <td>-0.089551</td>\n",
              "      <td>-0.018440</td>\n",
              "      <td>-0.019703</td>\n",
              "      <td>0.038485</td>\n",
              "      <td>0.083408</td>\n",
              "      <td>0.026519</td>\n",
              "    </tr>\n",
              "    <tr>\n",
              "      <th>18468</th>\n",
              "      <td>0.013460</td>\n",
              "      <td>0.149025</td>\n",
              "      <td>-0.093260</td>\n",
              "      <td>-0.076260</td>\n",
              "      <td>0.116308</td>\n",
              "      <td>0.149508</td>\n",
              "      <td>-0.082984</td>\n",
              "      <td>-0.149362</td>\n",
              "      <td>-0.068675</td>\n",
              "      <td>1.469078</td>\n",
              "      <td>-0.089757</td>\n",
              "      <td>0.123407</td>\n",
              "      <td>-0.148086</td>\n",
              "      <td>-0.020405</td>\n",
              "      <td>-0.033573</td>\n",
              "      <td>-0.108958</td>\n",
              "      <td>-0.038298</td>\n",
              "      <td>1.531026</td>\n",
              "      <td>-0.207675</td>\n",
              "      <td>0.064367</td>\n",
              "      <td>-0.033560</td>\n",
              "      <td>0.079259</td>\n",
              "      <td>-0.308850</td>\n",
              "      <td>-0.166101</td>\n",
              "      <td>0.248154</td>\n",
              "      <td>-0.021880</td>\n",
              "      <td>-0.067592</td>\n",
              "      <td>-0.053023</td>\n",
              "      <td>0.129166</td>\n",
              "      <td>-0.050348</td>\n",
              "      <td>0.005772</td>\n",
              "      <td>0.019447</td>\n",
              "      <td>-0.041964</td>\n",
              "      <td>-0.072455</td>\n",
              "      <td>-0.029854</td>\n",
              "      <td>-0.097865</td>\n",
              "      <td>0.083622</td>\n",
              "      <td>0.136045</td>\n",
              "      <td>-0.148623</td>\n",
              "      <td>0.068436</td>\n",
              "      <td>...</td>\n",
              "      <td>-0.066718</td>\n",
              "      <td>0.288615</td>\n",
              "      <td>-0.067468</td>\n",
              "      <td>-0.119144</td>\n",
              "      <td>-0.119397</td>\n",
              "      <td>-0.149215</td>\n",
              "      <td>-0.001042</td>\n",
              "      <td>0.016863</td>\n",
              "      <td>0.530156</td>\n",
              "      <td>-0.315392</td>\n",
              "      <td>-0.048934</td>\n",
              "      <td>-0.159502</td>\n",
              "      <td>0.010967</td>\n",
              "      <td>-0.147262</td>\n",
              "      <td>-0.145723</td>\n",
              "      <td>0.022302</td>\n",
              "      <td>0.103864</td>\n",
              "      <td>0.077082</td>\n",
              "      <td>-0.127653</td>\n",
              "      <td>0.294186</td>\n",
              "      <td>0.181359</td>\n",
              "      <td>0.041374</td>\n",
              "      <td>0.077529</td>\n",
              "      <td>-0.193136</td>\n",
              "      <td>-0.104896</td>\n",
              "      <td>-0.059583</td>\n",
              "      <td>0.025637</td>\n",
              "      <td>-0.070753</td>\n",
              "      <td>0.279494</td>\n",
              "      <td>-0.025961</td>\n",
              "      <td>-0.168679</td>\n",
              "      <td>0.216384</td>\n",
              "      <td>-0.162980</td>\n",
              "      <td>-0.120363</td>\n",
              "      <td>-0.089974</td>\n",
              "      <td>0.044829</td>\n",
              "      <td>-0.006536</td>\n",
              "      <td>0.078625</td>\n",
              "      <td>0.109349</td>\n",
              "      <td>0.092511</td>\n",
              "    </tr>\n",
              "    <tr>\n",
              "      <th>18469</th>\n",
              "      <td>-0.020635</td>\n",
              "      <td>0.252509</td>\n",
              "      <td>-0.133132</td>\n",
              "      <td>-0.135729</td>\n",
              "      <td>0.288330</td>\n",
              "      <td>0.109302</td>\n",
              "      <td>-0.001697</td>\n",
              "      <td>-0.288748</td>\n",
              "      <td>-0.022607</td>\n",
              "      <td>0.796803</td>\n",
              "      <td>-0.091238</td>\n",
              "      <td>0.130761</td>\n",
              "      <td>-0.234004</td>\n",
              "      <td>-0.005497</td>\n",
              "      <td>0.000894</td>\n",
              "      <td>-0.179351</td>\n",
              "      <td>-0.008627</td>\n",
              "      <td>1.713876</td>\n",
              "      <td>-0.231235</td>\n",
              "      <td>0.014357</td>\n",
              "      <td>0.049159</td>\n",
              "      <td>0.126660</td>\n",
              "      <td>-0.432478</td>\n",
              "      <td>-0.181368</td>\n",
              "      <td>0.231968</td>\n",
              "      <td>-0.059568</td>\n",
              "      <td>0.019859</td>\n",
              "      <td>0.084030</td>\n",
              "      <td>0.256277</td>\n",
              "      <td>-0.084063</td>\n",
              "      <td>0.018917</td>\n",
              "      <td>0.177967</td>\n",
              "      <td>-0.063840</td>\n",
              "      <td>-0.252939</td>\n",
              "      <td>0.175934</td>\n",
              "      <td>-0.085429</td>\n",
              "      <td>0.190321</td>\n",
              "      <td>0.214314</td>\n",
              "      <td>-0.241033</td>\n",
              "      <td>0.153894</td>\n",
              "      <td>...</td>\n",
              "      <td>-0.324414</td>\n",
              "      <td>0.229272</td>\n",
              "      <td>-0.048675</td>\n",
              "      <td>-0.188955</td>\n",
              "      <td>-0.183492</td>\n",
              "      <td>-0.086325</td>\n",
              "      <td>-0.082463</td>\n",
              "      <td>-0.057555</td>\n",
              "      <td>0.862421</td>\n",
              "      <td>-0.397940</td>\n",
              "      <td>-0.246373</td>\n",
              "      <td>-0.261613</td>\n",
              "      <td>0.025789</td>\n",
              "      <td>-0.094049</td>\n",
              "      <td>-0.350068</td>\n",
              "      <td>-0.046253</td>\n",
              "      <td>0.153904</td>\n",
              "      <td>0.142870</td>\n",
              "      <td>-0.239527</td>\n",
              "      <td>0.317811</td>\n",
              "      <td>0.239334</td>\n",
              "      <td>0.164386</td>\n",
              "      <td>0.129779</td>\n",
              "      <td>-0.327719</td>\n",
              "      <td>-0.052153</td>\n",
              "      <td>0.016497</td>\n",
              "      <td>0.037031</td>\n",
              "      <td>-0.074475</td>\n",
              "      <td>0.287498</td>\n",
              "      <td>-0.101025</td>\n",
              "      <td>-0.285788</td>\n",
              "      <td>0.278675</td>\n",
              "      <td>-0.453936</td>\n",
              "      <td>-0.274110</td>\n",
              "      <td>-0.116391</td>\n",
              "      <td>0.041438</td>\n",
              "      <td>-0.000089</td>\n",
              "      <td>0.036912</td>\n",
              "      <td>0.284259</td>\n",
              "      <td>0.150243</td>\n",
              "    </tr>\n",
              "    <tr>\n",
              "      <th>18470</th>\n",
              "      <td>0.101641</td>\n",
              "      <td>0.138715</td>\n",
              "      <td>-0.188207</td>\n",
              "      <td>-0.003672</td>\n",
              "      <td>0.156936</td>\n",
              "      <td>0.024288</td>\n",
              "      <td>-0.071164</td>\n",
              "      <td>-0.061186</td>\n",
              "      <td>-0.011654</td>\n",
              "      <td>2.039478</td>\n",
              "      <td>-0.124655</td>\n",
              "      <td>0.063994</td>\n",
              "      <td>0.034428</td>\n",
              "      <td>-0.042402</td>\n",
              "      <td>-0.081270</td>\n",
              "      <td>-0.059772</td>\n",
              "      <td>-0.068873</td>\n",
              "      <td>1.178257</td>\n",
              "      <td>-0.162525</td>\n",
              "      <td>-0.022679</td>\n",
              "      <td>-0.051629</td>\n",
              "      <td>0.009240</td>\n",
              "      <td>-0.128183</td>\n",
              "      <td>0.000204</td>\n",
              "      <td>0.052338</td>\n",
              "      <td>-0.029600</td>\n",
              "      <td>-0.050412</td>\n",
              "      <td>-0.050602</td>\n",
              "      <td>0.038758</td>\n",
              "      <td>-0.116309</td>\n",
              "      <td>-0.011048</td>\n",
              "      <td>0.075922</td>\n",
              "      <td>-0.041426</td>\n",
              "      <td>0.043135</td>\n",
              "      <td>0.056401</td>\n",
              "      <td>-0.086607</td>\n",
              "      <td>0.023210</td>\n",
              "      <td>0.083748</td>\n",
              "      <td>-0.098185</td>\n",
              "      <td>-0.033913</td>\n",
              "      <td>...</td>\n",
              "      <td>0.039644</td>\n",
              "      <td>0.186185</td>\n",
              "      <td>0.021913</td>\n",
              "      <td>0.000607</td>\n",
              "      <td>0.100352</td>\n",
              "      <td>-0.069307</td>\n",
              "      <td>-0.007161</td>\n",
              "      <td>-0.020176</td>\n",
              "      <td>0.301386</td>\n",
              "      <td>-0.056697</td>\n",
              "      <td>0.100660</td>\n",
              "      <td>-0.014382</td>\n",
              "      <td>-0.025319</td>\n",
              "      <td>-0.165569</td>\n",
              "      <td>-0.043531</td>\n",
              "      <td>0.039346</td>\n",
              "      <td>0.031810</td>\n",
              "      <td>0.097624</td>\n",
              "      <td>-0.048268</td>\n",
              "      <td>0.176718</td>\n",
              "      <td>0.184863</td>\n",
              "      <td>0.034243</td>\n",
              "      <td>0.029479</td>\n",
              "      <td>-0.049539</td>\n",
              "      <td>-0.023949</td>\n",
              "      <td>-0.074321</td>\n",
              "      <td>0.037791</td>\n",
              "      <td>-0.081155</td>\n",
              "      <td>0.162596</td>\n",
              "      <td>-0.005583</td>\n",
              "      <td>-0.195910</td>\n",
              "      <td>0.112375</td>\n",
              "      <td>-0.038289</td>\n",
              "      <td>-0.106320</td>\n",
              "      <td>-0.017362</td>\n",
              "      <td>0.026187</td>\n",
              "      <td>-0.028597</td>\n",
              "      <td>0.010269</td>\n",
              "      <td>0.051945</td>\n",
              "      <td>0.048405</td>\n",
              "    </tr>\n",
              "    <tr>\n",
              "      <th>18471</th>\n",
              "      <td>0.043757</td>\n",
              "      <td>0.130357</td>\n",
              "      <td>-0.096733</td>\n",
              "      <td>-0.063770</td>\n",
              "      <td>0.176848</td>\n",
              "      <td>0.074065</td>\n",
              "      <td>-0.045201</td>\n",
              "      <td>-0.048908</td>\n",
              "      <td>0.000003</td>\n",
              "      <td>1.477917</td>\n",
              "      <td>-0.011601</td>\n",
              "      <td>0.115751</td>\n",
              "      <td>-0.053230</td>\n",
              "      <td>-0.024952</td>\n",
              "      <td>-0.116700</td>\n",
              "      <td>-0.074265</td>\n",
              "      <td>-0.106437</td>\n",
              "      <td>1.115289</td>\n",
              "      <td>-0.176739</td>\n",
              "      <td>-0.004039</td>\n",
              "      <td>0.000812</td>\n",
              "      <td>0.092392</td>\n",
              "      <td>-0.151823</td>\n",
              "      <td>-0.015341</td>\n",
              "      <td>0.109446</td>\n",
              "      <td>-0.035765</td>\n",
              "      <td>-0.059309</td>\n",
              "      <td>-0.074913</td>\n",
              "      <td>0.057992</td>\n",
              "      <td>-0.080226</td>\n",
              "      <td>0.002434</td>\n",
              "      <td>0.072750</td>\n",
              "      <td>-0.038729</td>\n",
              "      <td>-0.008761</td>\n",
              "      <td>-0.010530</td>\n",
              "      <td>-0.160597</td>\n",
              "      <td>0.012232</td>\n",
              "      <td>0.113313</td>\n",
              "      <td>-0.022861</td>\n",
              "      <td>0.027584</td>\n",
              "      <td>...</td>\n",
              "      <td>-0.030604</td>\n",
              "      <td>0.118256</td>\n",
              "      <td>0.021353</td>\n",
              "      <td>-0.072639</td>\n",
              "      <td>0.025611</td>\n",
              "      <td>-0.162780</td>\n",
              "      <td>-0.056709</td>\n",
              "      <td>0.043653</td>\n",
              "      <td>0.295126</td>\n",
              "      <td>-0.138263</td>\n",
              "      <td>0.076551</td>\n",
              "      <td>-0.051910</td>\n",
              "      <td>0.011879</td>\n",
              "      <td>-0.099266</td>\n",
              "      <td>-0.131146</td>\n",
              "      <td>0.022931</td>\n",
              "      <td>-0.000649</td>\n",
              "      <td>0.084206</td>\n",
              "      <td>-0.047305</td>\n",
              "      <td>0.133042</td>\n",
              "      <td>0.161443</td>\n",
              "      <td>0.031975</td>\n",
              "      <td>0.101918</td>\n",
              "      <td>-0.057237</td>\n",
              "      <td>-0.032899</td>\n",
              "      <td>-0.027919</td>\n",
              "      <td>0.054171</td>\n",
              "      <td>-0.069265</td>\n",
              "      <td>0.201534</td>\n",
              "      <td>0.048503</td>\n",
              "      <td>-0.157611</td>\n",
              "      <td>0.158916</td>\n",
              "      <td>-0.046835</td>\n",
              "      <td>-0.070458</td>\n",
              "      <td>-0.092567</td>\n",
              "      <td>-0.014530</td>\n",
              "      <td>0.040538</td>\n",
              "      <td>0.146516</td>\n",
              "      <td>0.024595</td>\n",
              "      <td>0.011458</td>\n",
              "    </tr>\n",
              "  </tbody>\n",
              "</table>\n",
              "<p>5 rows × 300 columns</p>\n",
              "</div>"
            ],
            "text/plain": [
              "              0         1         2  ...       297       298       299\n",
              "18467  0.001337  0.190330 -0.138943  ...  0.038485  0.083408  0.026519\n",
              "18468  0.013460  0.149025 -0.093260  ...  0.078625  0.109349  0.092511\n",
              "18469 -0.020635  0.252509 -0.133132  ...  0.036912  0.284259  0.150243\n",
              "18470  0.101641  0.138715 -0.188207  ...  0.010269  0.051945  0.048405\n",
              "18471  0.043757  0.130357 -0.096733  ...  0.146516  0.024595  0.011458\n",
              "\n",
              "[5 rows x 300 columns]"
            ]
          },
          "metadata": {
            "tags": []
          },
          "execution_count": 14
        }
      ]
    },
    {
      "cell_type": "code",
      "metadata": {
        "id": "WtWMzw0mVzZ0",
        "colab_type": "code",
        "colab": {}
      },
      "source": [
        "df_data = df_translation[df_translation['Trans'].notnull()]"
      ],
      "execution_count": 0,
      "outputs": []
    },
    {
      "cell_type": "code",
      "metadata": {
        "id": "GuiEYRy7TP5G",
        "colab_type": "code",
        "outputId": "b3915a30-cee9-40c6-ab7e-947d1d544311",
        "colab": {
          "base_uri": "https://localhost:8080/",
          "height": 408
        }
      },
      "source": [
        "df_data.sample(3)"
      ],
      "execution_count": 16,
      "outputs": [
        {
          "output_type": "execute_result",
          "data": {
            "text/html": [
              "<div>\n",
              "<style scoped>\n",
              "    .dataframe tbody tr th:only-of-type {\n",
              "        vertical-align: middle;\n",
              "    }\n",
              "\n",
              "    .dataframe tbody tr th {\n",
              "        vertical-align: top;\n",
              "    }\n",
              "\n",
              "    .dataframe thead th {\n",
              "        text-align: right;\n",
              "    }\n",
              "</style>\n",
              "<table border=\"1\" class=\"dataframe\">\n",
              "  <thead>\n",
              "    <tr style=\"text-align: right;\">\n",
              "      <th></th>\n",
              "      <th>Report ID</th>\n",
              "      <th>EventTitle</th>\n",
              "      <th>Summary</th>\n",
              "      <th>LangMap</th>\n",
              "      <th>Trans</th>\n",
              "      <th>Altitude Deviation</th>\n",
              "      <th>Birdstrike</th>\n",
              "      <th>Deep Landing</th>\n",
              "      <th>EGPWS</th>\n",
              "      <th>Hard/Heavy Landing</th>\n",
              "      <th>Runway/Taxiway Incursion</th>\n",
              "      <th>Rejected Take Off</th>\n",
              "      <th>Stall Warning</th>\n",
              "      <th>TCAS</th>\n",
              "      <th>Unstable Approach</th>\n",
              "      <th>Cabin Fire/Smoke/Fumes</th>\n",
              "      <th>Inadvertant Slide Deployment</th>\n",
              "      <th>Passenger and Cabin Crew Injury</th>\n",
              "      <th>Rapid Deplaning and Evacuation</th>\n",
              "      <th>Turbulence</th>\n",
              "      <th>Brakes and Steering</th>\n",
              "      <th>Cabin Pressurization</th>\n",
              "      <th>Engine Surge and Stall</th>\n",
              "      <th>Engine Shutdown</th>\n",
              "      <th>Flight Controls</th>\n",
              "      <th>ATC Service Standard</th>\n",
              "      <th>Security</th>\n",
              "      <th>Language</th>\n",
              "      <th>Language2</th>\n",
              "    </tr>\n",
              "  </thead>\n",
              "  <tbody>\n",
              "    <tr>\n",
              "      <th>18562</th>\n",
              "      <td>18582</td>\n",
              "      <td>ENGINE VIBRATION #4 A &amp; B SYSTEM - 5 UNITS</td>\n",
              "      <td>engine shutdown iaw qrh</td>\n",
              "      <td>Engllish</td>\n",
              "      <td>engine shutdown iaw qrh</td>\n",
              "      <td>0</td>\n",
              "      <td>0</td>\n",
              "      <td>0</td>\n",
              "      <td>0</td>\n",
              "      <td>0</td>\n",
              "      <td>0</td>\n",
              "      <td>0</td>\n",
              "      <td>0</td>\n",
              "      <td>0</td>\n",
              "      <td>0</td>\n",
              "      <td>0</td>\n",
              "      <td>0</td>\n",
              "      <td>0</td>\n",
              "      <td>0</td>\n",
              "      <td>0</td>\n",
              "      <td>0</td>\n",
              "      <td>0</td>\n",
              "      <td>0</td>\n",
              "      <td>1</td>\n",
              "      <td>0</td>\n",
              "      <td>0</td>\n",
              "      <td>0</td>\n",
              "      <td>en</td>\n",
              "      <td>NaN</td>\n",
              "    </tr>\n",
              "    <tr>\n",
              "      <th>4000</th>\n",
              "      <td>4006</td>\n",
              "      <td>burn injury</td>\n",
              "      <td>i and *** (ap) were taking out f / d food out ...</td>\n",
              "      <td>Engllish</td>\n",
              "      <td>i and *** (ap) were taking out f / d food out ...</td>\n",
              "      <td>0</td>\n",
              "      <td>0</td>\n",
              "      <td>0</td>\n",
              "      <td>0</td>\n",
              "      <td>0</td>\n",
              "      <td>0</td>\n",
              "      <td>0</td>\n",
              "      <td>0</td>\n",
              "      <td>0</td>\n",
              "      <td>0</td>\n",
              "      <td>0</td>\n",
              "      <td>0</td>\n",
              "      <td>1</td>\n",
              "      <td>0</td>\n",
              "      <td>0</td>\n",
              "      <td>0</td>\n",
              "      <td>0</td>\n",
              "      <td>0</td>\n",
              "      <td>0</td>\n",
              "      <td>0</td>\n",
              "      <td>0</td>\n",
              "      <td>0</td>\n",
              "      <td>en</td>\n",
              "      <td>NaN</td>\n",
              "    </tr>\n",
              "    <tr>\n",
              "      <th>1934</th>\n",
              "      <td>1936</td>\n",
              "      <td>Speed exceedance - turbulence</td>\n",
              "      <td>due to unexpected severe turbulence at fl 301 ...</td>\n",
              "      <td>Engllish</td>\n",
              "      <td>due to unexpected severe turbulence at fl 301 ...</td>\n",
              "      <td>0</td>\n",
              "      <td>0</td>\n",
              "      <td>0</td>\n",
              "      <td>0</td>\n",
              "      <td>0</td>\n",
              "      <td>0</td>\n",
              "      <td>0</td>\n",
              "      <td>0</td>\n",
              "      <td>0</td>\n",
              "      <td>0</td>\n",
              "      <td>0</td>\n",
              "      <td>0</td>\n",
              "      <td>0</td>\n",
              "      <td>0</td>\n",
              "      <td>1</td>\n",
              "      <td>0</td>\n",
              "      <td>0</td>\n",
              "      <td>0</td>\n",
              "      <td>0</td>\n",
              "      <td>0</td>\n",
              "      <td>0</td>\n",
              "      <td>0</td>\n",
              "      <td>en</td>\n",
              "      <td>NaN</td>\n",
              "    </tr>\n",
              "  </tbody>\n",
              "</table>\n",
              "</div>"
            ],
            "text/plain": [
              "       Report ID                                  EventTitle  ... Language Language2\n",
              "18562      18582  ENGINE VIBRATION #4 A & B SYSTEM - 5 UNITS  ...       en       NaN\n",
              "4000        4006                                 burn injury  ...       en       NaN\n",
              "1934        1936               Speed exceedance - turbulence  ...       en       NaN\n",
              "\n",
              "[3 rows x 29 columns]"
            ]
          },
          "metadata": {
            "tags": []
          },
          "execution_count": 16
        }
      ]
    },
    {
      "cell_type": "code",
      "metadata": {
        "id": "BKyChacWsJmG",
        "colab_type": "code",
        "colab": {}
      },
      "source": [
        ""
      ],
      "execution_count": 0,
      "outputs": []
    },
    {
      "cell_type": "code",
      "metadata": {
        "id": "APUvoN8cMZ4m",
        "colab_type": "code",
        "outputId": "e1eeb0b1-d99c-440b-d219-e527f81c191c",
        "colab": {
          "base_uri": "https://localhost:8080/",
          "height": 34
        }
      },
      "source": [
        "df_data.reset_index(drop =True, inplace=True)\n",
        "df_data.shape\n"
      ],
      "execution_count": 17,
      "outputs": [
        {
          "output_type": "execute_result",
          "data": {
            "text/plain": [
              "(18472, 29)"
            ]
          },
          "metadata": {
            "tags": []
          },
          "execution_count": 17
        }
      ]
    },
    {
      "cell_type": "code",
      "metadata": {
        "id": "yIjhClIRXqwQ",
        "colab_type": "code",
        "colab": {}
      },
      "source": [
        "index_drop = df_data[df_data['Summary'] == 'no summary'].index.values"
      ],
      "execution_count": 0,
      "outputs": []
    },
    {
      "cell_type": "code",
      "metadata": {
        "id": "gtWvk8KdI_EI",
        "colab_type": "code",
        "outputId": "45c80876-357b-42d2-96e3-c77edbfc7896",
        "colab": {
          "base_uri": "https://localhost:8080/",
          "height": 345
        }
      },
      "source": [
        "df_data_new = df_data.drop(df_data.index[[index_drop]])\n",
        "df_data_new.sample(2)"
      ],
      "execution_count": 19,
      "outputs": [
        {
          "output_type": "stream",
          "text": [
            "/usr/local/lib/python3.6/dist-packages/pandas/core/indexes/base.py:3969: FutureWarning: Using a non-tuple sequence for multidimensional indexing is deprecated; use `arr[tuple(seq)]` instead of `arr[seq]`. In the future this will be interpreted as an array index, `arr[np.array(seq)]`, which will result either in an error or a different result.\n",
            "  result = getitem(key)\n"
          ],
          "name": "stderr"
        },
        {
          "output_type": "execute_result",
          "data": {
            "text/html": [
              "<div>\n",
              "<style scoped>\n",
              "    .dataframe tbody tr th:only-of-type {\n",
              "        vertical-align: middle;\n",
              "    }\n",
              "\n",
              "    .dataframe tbody tr th {\n",
              "        vertical-align: top;\n",
              "    }\n",
              "\n",
              "    .dataframe thead th {\n",
              "        text-align: right;\n",
              "    }\n",
              "</style>\n",
              "<table border=\"1\" class=\"dataframe\">\n",
              "  <thead>\n",
              "    <tr style=\"text-align: right;\">\n",
              "      <th></th>\n",
              "      <th>Report ID</th>\n",
              "      <th>EventTitle</th>\n",
              "      <th>Summary</th>\n",
              "      <th>LangMap</th>\n",
              "      <th>Trans</th>\n",
              "      <th>Altitude Deviation</th>\n",
              "      <th>Birdstrike</th>\n",
              "      <th>Deep Landing</th>\n",
              "      <th>EGPWS</th>\n",
              "      <th>Hard/Heavy Landing</th>\n",
              "      <th>Runway/Taxiway Incursion</th>\n",
              "      <th>Rejected Take Off</th>\n",
              "      <th>Stall Warning</th>\n",
              "      <th>TCAS</th>\n",
              "      <th>Unstable Approach</th>\n",
              "      <th>Cabin Fire/Smoke/Fumes</th>\n",
              "      <th>Inadvertant Slide Deployment</th>\n",
              "      <th>Passenger and Cabin Crew Injury</th>\n",
              "      <th>Rapid Deplaning and Evacuation</th>\n",
              "      <th>Turbulence</th>\n",
              "      <th>Brakes and Steering</th>\n",
              "      <th>Cabin Pressurization</th>\n",
              "      <th>Engine Surge and Stall</th>\n",
              "      <th>Engine Shutdown</th>\n",
              "      <th>Flight Controls</th>\n",
              "      <th>ATC Service Standard</th>\n",
              "      <th>Security</th>\n",
              "      <th>Language</th>\n",
              "      <th>Language2</th>\n",
              "    </tr>\n",
              "  </thead>\n",
              "  <tbody>\n",
              "    <tr>\n",
              "      <th>4652</th>\n",
              "      <td>5063</td>\n",
              "      <td>Flight Management - Runway Incursion</td>\n",
              "      <td>landing rwy 34l in fco, at taxiway ad, aircraf...</td>\n",
              "      <td>Engllish</td>\n",
              "      <td>landing rwy 34l in fco, at taxiway ad, aircraf...</td>\n",
              "      <td>0</td>\n",
              "      <td>0</td>\n",
              "      <td>0</td>\n",
              "      <td>0</td>\n",
              "      <td>0</td>\n",
              "      <td>1</td>\n",
              "      <td>0</td>\n",
              "      <td>0</td>\n",
              "      <td>0</td>\n",
              "      <td>0</td>\n",
              "      <td>0</td>\n",
              "      <td>0</td>\n",
              "      <td>0</td>\n",
              "      <td>0</td>\n",
              "      <td>0</td>\n",
              "      <td>0</td>\n",
              "      <td>0</td>\n",
              "      <td>0</td>\n",
              "      <td>0</td>\n",
              "      <td>0</td>\n",
              "      <td>0</td>\n",
              "      <td>0</td>\n",
              "      <td>en</td>\n",
              "      <td>NaN</td>\n",
              "    </tr>\n",
              "    <tr>\n",
              "      <th>10639</th>\n",
              "      <td>11549</td>\n",
              "      <td>TAXIWAY INCURSION</td>\n",
              "      <td>crew understood initial taxi clearance from st...</td>\n",
              "      <td>Engllish</td>\n",
              "      <td>crew understood initial taxi clearance from st...</td>\n",
              "      <td>0</td>\n",
              "      <td>0</td>\n",
              "      <td>0</td>\n",
              "      <td>0</td>\n",
              "      <td>0</td>\n",
              "      <td>1</td>\n",
              "      <td>0</td>\n",
              "      <td>0</td>\n",
              "      <td>0</td>\n",
              "      <td>0</td>\n",
              "      <td>0</td>\n",
              "      <td>0</td>\n",
              "      <td>0</td>\n",
              "      <td>0</td>\n",
              "      <td>0</td>\n",
              "      <td>0</td>\n",
              "      <td>0</td>\n",
              "      <td>0</td>\n",
              "      <td>0</td>\n",
              "      <td>0</td>\n",
              "      <td>0</td>\n",
              "      <td>0</td>\n",
              "      <td>en</td>\n",
              "      <td>NaN</td>\n",
              "    </tr>\n",
              "  </tbody>\n",
              "</table>\n",
              "</div>"
            ],
            "text/plain": [
              "       Report ID                            EventTitle  ... Language Language2\n",
              "4652        5063  Flight Management - Runway Incursion  ...       en       NaN\n",
              "10639      11549                     TAXIWAY INCURSION  ...       en       NaN\n",
              "\n",
              "[2 rows x 29 columns]"
            ]
          },
          "metadata": {
            "tags": []
          },
          "execution_count": 19
        }
      ]
    },
    {
      "cell_type": "code",
      "metadata": {
        "id": "ulT1HLPmONz3",
        "colab_type": "code",
        "colab": {}
      },
      "source": [
        "df_word_space_new = df_word_space.drop(df_data.index[[index_drop]])\n",
        "df_word_space_new.shape\n",
        "#df_data[df_data['Summary'] == 'no summary']"
      ],
      "execution_count": 0,
      "outputs": []
    },
    {
      "cell_type": "code",
      "metadata": {
        "id": "Aid_rRhQsN7U",
        "colab_type": "code",
        "colab": {}
      },
      "source": [
        "from sklearn.model_selection import train_test_split, StratifiedKFold, RandomizedSearchCV, GridSearchCV\n",
        "from sklearn.metrics import roc_auc_score, roc_curve, auc"
      ],
      "execution_count": 0,
      "outputs": []
    },
    {
      "cell_type": "code",
      "metadata": {
        "id": "784iwFJHsY_x",
        "colab_type": "code",
        "colab": {}
      },
      "source": [
        "X_train, X_test, y_train, y_test = train_test_split(df_word_space_new, df_data_new['Passenger and Cabin Crew Injury'], test_size=0.20, random_state=42)\n"
      ],
      "execution_count": 0,
      "outputs": []
    },
    {
      "cell_type": "code",
      "metadata": {
        "id": "J04AQbgys5JL",
        "colab_type": "code",
        "colab": {}
      },
      "source": [
        "from sklearn.linear_model import RidgeClassifier, LogisticRegression\n"
      ],
      "execution_count": 0,
      "outputs": []
    },
    {
      "cell_type": "code",
      "metadata": {
        "id": "H6dzzCyDtNH3",
        "colab_type": "code",
        "colab": {}
      },
      "source": [
        "model = RidgeClassifier(alpha=5000)"
      ],
      "execution_count": 0,
      "outputs": []
    },
    {
      "cell_type": "code",
      "metadata": {
        "id": "7UYTkH5ZtR4-",
        "colab_type": "code",
        "outputId": "fa0fd903-7267-4233-f86c-0dac698a5823",
        "colab": {
          "base_uri": "https://localhost:8080/",
          "height": 67
        }
      },
      "source": [
        "model.fit(X_train,y_train)"
      ],
      "execution_count": 25,
      "outputs": [
        {
          "output_type": "execute_result",
          "data": {
            "text/plain": [
              "RidgeClassifier(alpha=5000, class_weight=None, copy_X=True, fit_intercept=True,\n",
              "                max_iter=None, normalize=False, random_state=None,\n",
              "                solver='auto', tol=0.001)"
            ]
          },
          "metadata": {
            "tags": []
          },
          "execution_count": 25
        }
      ]
    },
    {
      "cell_type": "code",
      "metadata": {
        "id": "9GwTnGKotaLD",
        "colab_type": "code",
        "outputId": "c1ae9624-c15a-4472-bf53-8d8dd1a5d1fc",
        "colab": {
          "base_uri": "https://localhost:8080/",
          "height": 34
        }
      },
      "source": [
        "model.score(X_test,y_test)"
      ],
      "execution_count": 26,
      "outputs": [
        {
          "output_type": "execute_result",
          "data": {
            "text/plain": [
              "0.9338865836791148"
            ]
          },
          "metadata": {
            "tags": []
          },
          "execution_count": 26
        }
      ]
    },
    {
      "cell_type": "code",
      "metadata": {
        "id": "HFKt5DbathAy",
        "colab_type": "code",
        "colab": {}
      },
      "source": [
        "model2 = LogisticRegression()"
      ],
      "execution_count": 0,
      "outputs": []
    },
    {
      "cell_type": "code",
      "metadata": {
        "id": "ET0e-TCmtq67",
        "colab_type": "code",
        "outputId": "b6e92963-8649-4517-ce37-d63b6de7ce9a",
        "colab": {
          "base_uri": "https://localhost:8080/",
          "height": 154
        }
      },
      "source": [
        "model2.fit(X_train,y_train)"
      ],
      "execution_count": 28,
      "outputs": [
        {
          "output_type": "stream",
          "text": [
            "/usr/local/lib/python3.6/dist-packages/sklearn/linear_model/logistic.py:432: FutureWarning: Default solver will be changed to 'lbfgs' in 0.22. Specify a solver to silence this warning.\n",
            "  FutureWarning)\n"
          ],
          "name": "stderr"
        },
        {
          "output_type": "execute_result",
          "data": {
            "text/plain": [
              "LogisticRegression(C=1.0, class_weight=None, dual=False, fit_intercept=True,\n",
              "                   intercept_scaling=1, l1_ratio=None, max_iter=100,\n",
              "                   multi_class='warn', n_jobs=None, penalty='l2',\n",
              "                   random_state=None, solver='warn', tol=0.0001, verbose=0,\n",
              "                   warm_start=False)"
            ]
          },
          "metadata": {
            "tags": []
          },
          "execution_count": 28
        }
      ]
    },
    {
      "cell_type": "code",
      "metadata": {
        "id": "Bd7gSBWPtuZ-",
        "colab_type": "code",
        "outputId": "2fefb650-1bf9-41db-b196-37d73e59b4a5",
        "colab": {
          "base_uri": "https://localhost:8080/",
          "height": 34
        }
      },
      "source": [
        "model2.score(X_test,y_test)"
      ],
      "execution_count": 29,
      "outputs": [
        {
          "output_type": "execute_result",
          "data": {
            "text/plain": [
              "0.9690179806362379"
            ]
          },
          "metadata": {
            "tags": []
          },
          "execution_count": 29
        }
      ]
    },
    {
      "cell_type": "code",
      "metadata": {
        "id": "FhunD3P7R9NZ",
        "colab_type": "code",
        "outputId": "7b8dc24d-9e22-4464-d9fc-15f7bb0b187a",
        "colab": {
          "base_uri": "https://localhost:8080/",
          "height": 34
        }
      },
      "source": [
        "prob_ls = model2.predict_proba(X_test)[:,1]\n",
        "type(prob_ls)"
      ],
      "execution_count": 30,
      "outputs": [
        {
          "output_type": "execute_result",
          "data": {
            "text/plain": [
              "numpy.ndarray"
            ]
          },
          "metadata": {
            "tags": []
          },
          "execution_count": 30
        }
      ]
    },
    {
      "cell_type": "code",
      "metadata": {
        "id": "CGih7kiWSIDi",
        "colab_type": "code",
        "colab": {}
      },
      "source": [
        "auc_score = roc_auc_score(y_test, prob_ls)\n"
      ],
      "execution_count": 0,
      "outputs": []
    },
    {
      "cell_type": "code",
      "metadata": {
        "id": "VIdmJoIATf-U",
        "colab_type": "code",
        "outputId": "4bdf6961-2fb6-48ba-99f7-ede9fa940e22",
        "colab": {
          "base_uri": "https://localhost:8080/",
          "height": 301
        }
      },
      "source": [
        "lr_fpr, lr_tpr, _ = roc_curve(y_test, prob_ls)\n",
        "roc_auc =auc(lr_fpr, lr_tpr)\n",
        "plt.figure()\n",
        "\n",
        "plt.plot(lr_fpr, lr_tpr, color='darkgreen',\n",
        "         lw=2, label='Logistic Regression (area = %0.2f)' % roc_auc)\n",
        "plt.plot([0, 1], [0, 1], color='navy', lw=2, linestyle='--')\n",
        "plt.xlim([0.0, 1.0])\n",
        "plt.ylim([0.0, 1.05])\n",
        "plt.xlabel('False Positive Rate')\n",
        "plt.ylabel('True Positive Rate')\n",
        "plt.title('ROC Curve')\n",
        "plt.legend(loc=\"lower right\")\n",
        "plt.show()\n"
      ],
      "execution_count": 32,
      "outputs": [
        {
          "output_type": "display_data",
          "data": {
            "image/png": "[encoded data removed]",
            "text/plain": [
              "<Figure size 432x288 with 1 Axes>"
            ]
          },
          "metadata": {
            "tags": []
          }
        }
      ]
    },
    {
      "cell_type": "code",
      "metadata": {
        "id": "f6xmw0NHugtV",
        "colab_type": "code",
        "colab": {}
      },
      "source": [
        "from sklearn.metrics import classification_report, confusion_matrix"
      ],
      "execution_count": 0,
      "outputs": []
    },
    {
      "cell_type": "code",
      "metadata": {
        "id": "1TwHNoCfvxyy",
        "colab_type": "code",
        "colab": {}
      },
      "source": [
        "y_pred_lr = model2.predict(X_test)"
      ],
      "execution_count": 0,
      "outputs": []
    },
    {
      "cell_type": "code",
      "metadata": {
        "id": "PFJ4Cnh6wPRF",
        "colab_type": "code",
        "outputId": "25857962-ccb8-4bbd-fe51-03f388c7daf9",
        "colab": {
          "base_uri": "https://localhost:8080/",
          "height": 202
        }
      },
      "source": [
        "print(classification_report(y_pred_lr, y_test))\n",
        "print(confusion_matrix(y_pred_lr, y_test))\n"
      ],
      "execution_count": 35,
      "outputs": [
        {
          "output_type": "stream",
          "text": [
            "              precision    recall  f1-score   support\n",
            "\n",
            "           0       0.99      0.97      0.98      3448\n",
            "           1       0.62      0.88      0.72       167\n",
            "\n",
            "    accuracy                           0.97      3615\n",
            "   macro avg       0.80      0.93      0.85      3615\n",
            "weighted avg       0.98      0.97      0.97      3615\n",
            "\n",
            "[[3356   92]\n",
            " [  20  147]]\n"
          ],
          "name": "stdout"
        }
      ]
    },
    {
      "cell_type": "code",
      "metadata": {
        "id": "LBVciPrS2PBV",
        "colab_type": "code",
        "colab": {}
      },
      "source": [
        "from xgboost import XGBClassifier"
      ],
      "execution_count": 0,
      "outputs": []
    },
    {
      "cell_type": "code",
      "metadata": {
        "id": "bn4qhk872sC-",
        "colab_type": "code",
        "colab": {}
      },
      "source": [
        "model4 =XGBClassifier()"
      ],
      "execution_count": 0,
      "outputs": []
    },
    {
      "cell_type": "code",
      "metadata": {
        "id": "E4iyhgox2v1s",
        "colab_type": "code",
        "outputId": "c3699499-460a-45b0-f0a5-4499997b9322",
        "colab": {
          "base_uri": "https://localhost:8080/",
          "height": 134
        }
      },
      "source": [
        "model4.fit(X_train,y_train)"
      ],
      "execution_count": 38,
      "outputs": [
        {
          "output_type": "execute_result",
          "data": {
            "text/plain": [
              "XGBClassifier(base_score=0.5, booster='gbtree', colsample_bylevel=1,\n",
              "              colsample_bynode=1, colsample_bytree=1, gamma=0,\n",
              "              learning_rate=0.1, max_delta_step=0, max_depth=3,\n",
              "              min_child_weight=1, missing=None, n_estimators=100, n_jobs=1,\n",
              "              nthread=None, objective='binary:logistic', random_state=0,\n",
              "              reg_alpha=0, reg_lambda=1, scale_pos_weight=1, seed=None,\n",
              "              silent=None, subsample=1, verbosity=1)"
            ]
          },
          "metadata": {
            "tags": []
          },
          "execution_count": 38
        }
      ]
    },
    {
      "cell_type": "code",
      "metadata": {
        "id": "8vH5PdHcHqxL",
        "colab_type": "code",
        "outputId": "c98f2e83-64ef-4089-c14d-e319d24948a7",
        "colab": {
          "base_uri": "https://localhost:8080/",
          "height": 34
        }
      },
      "source": [
        "model4.score(X_test,y_test)"
      ],
      "execution_count": 39,
      "outputs": [
        {
          "output_type": "execute_result",
          "data": {
            "text/plain": [
              "0.9690179806362379"
            ]
          },
          "metadata": {
            "tags": []
          },
          "execution_count": 39
        }
      ]
    },
    {
      "cell_type": "code",
      "metadata": {
        "id": "fmy1P57524Ig",
        "colab_type": "code",
        "colab": {}
      },
      "source": [
        "y_pred_xgb = model4.predict(X_test)"
      ],
      "execution_count": 0,
      "outputs": []
    },
    {
      "cell_type": "code",
      "metadata": {
        "id": "cup-FNRrZCf5",
        "colab_type": "code",
        "colab": {}
      },
      "source": [
        "y_proba_xgb = model4.predict_proba(X_test)[:,1]\n"
      ],
      "execution_count": 0,
      "outputs": []
    },
    {
      "cell_type": "code",
      "metadata": {
        "id": "hRvoY9ekZWGe",
        "colab_type": "code",
        "outputId": "889cff25-fdfc-4151-bc3b-68428ca74b2c",
        "colab": {
          "base_uri": "https://localhost:8080/",
          "height": 34
        }
      },
      "source": [
        "auc_score = roc_auc_score(y_test, y_proba_xgb)\n",
        "auc_score"
      ],
      "execution_count": 42,
      "outputs": [
        {
          "output_type": "execute_result",
          "data": {
            "text/plain": [
              "0.9687729282753971"
            ]
          },
          "metadata": {
            "tags": []
          },
          "execution_count": 42
        }
      ]
    },
    {
      "cell_type": "code",
      "metadata": {
        "id": "bi939XadaFwP",
        "colab_type": "code",
        "outputId": "60afcb36-bf41-42e9-9955-cdf76d3b167d",
        "colab": {
          "base_uri": "https://localhost:8080/",
          "height": 301
        }
      },
      "source": [
        "lr_fpr, lr_tpr, _ = roc_curve(y_test, y_proba_xgb)\n",
        "roc_auc =auc(lr_fpr, lr_tpr)\n",
        "plt.figure()\n",
        "\n",
        "plt.plot(lr_fpr, lr_tpr, color='darkgreen',\n",
        "         lw=2, label='Logistic Regression (area = %0.2f)' % roc_auc)\n",
        "plt.plot([0, 1], [0, 1], color='navy', lw=2, linestyle='--')\n",
        "plt.xlim([0.0, 1.0])\n",
        "plt.ylim([0.0, 1.05])\n",
        "plt.xlabel('False Positive Rate')\n",
        "plt.ylabel('True Positive Rate')\n",
        "plt.title('ROC Curve')\n",
        "plt.legend(loc=\"lower right\")\n",
        "plt.show()\n"
      ],
      "execution_count": 43,
      "outputs": [
        {
          "output_type": "display_data",
          "data": {
            "image/png": "[encoded data removed]",
            "text/plain": [
              "<Figure size 432x288 with 1 Axes>"
            ]
          },
          "metadata": {
            "tags": []
          }
        }
      ]
    },
    {
      "cell_type": "code",
      "metadata": {
        "id": "847sOLUI3HVR",
        "colab_type": "code",
        "outputId": "d7450460-2289-4ad2-f67a-0c1931b4ebe7",
        "colab": {
          "base_uri": "https://localhost:8080/",
          "height": 202
        }
      },
      "source": [
        "print(classification_report(y_pred_xgb, y_test))\n",
        "print(confusion_matrix(y_pred_xgb, y_test))"
      ],
      "execution_count": 44,
      "outputs": [
        {
          "output_type": "stream",
          "text": [
            "              precision    recall  f1-score   support\n",
            "\n",
            "           0       0.99      0.97      0.98      3442\n",
            "           1       0.63      0.87      0.73       173\n",
            "\n",
            "    accuracy                           0.97      3615\n",
            "   macro avg       0.81      0.92      0.86      3615\n",
            "weighted avg       0.98      0.97      0.97      3615\n",
            "\n",
            "[[3353   89]\n",
            " [  23  150]]\n"
          ],
          "name": "stdout"
        }
      ]
    },
    {
      "cell_type": "code",
      "metadata": {
        "id": "ScOxsqkE3PKd",
        "colab_type": "code",
        "colab": {}
      },
      "source": [
        "params = {\n",
        "        'min_child_weight': [1, 5, 10],\n",
        "        'gamma': [0.5, 1, 1.5, 2, 5],\n",
        "        'subsample': [0.6, 0.8, 1.0],\n",
        "        'colsample_bytree': [0.6, 0.8, 1.0],\n",
        "        'max_depth': [3, 4, 5]\n",
        "        }"
      ],
      "execution_count": 0,
      "outputs": []
    },
    {
      "cell_type": "code",
      "metadata": {
        "id": "MPx_7GCp3mDV",
        "colab_type": "code",
        "colab": {}
      },
      "source": [
        "xgb = XGBClassifier(learning_rate=0.02, n_estimators=600, objective='binary:logistic',\n",
        "                    silent=True, nthread=1)"
      ],
      "execution_count": 0,
      "outputs": []
    },
    {
      "cell_type": "code",
      "metadata": {
        "id": "8Kk0N4dG5qbi",
        "colab_type": "code",
        "colab": {}
      },
      "source": [
        "from datetime import datetime"
      ],
      "execution_count": 0,
      "outputs": []
    },
    {
      "cell_type": "code",
      "metadata": {
        "id": "b9zr3_1r3um5",
        "colab_type": "code",
        "colab": {}
      },
      "source": [
        "folds = 3\n",
        "param_comb = 5\n",
        "\n",
        "skf = StratifiedKFold(n_splits=folds, shuffle = True, random_state = 1001)\n",
        "\n",
        "random_search = RandomizedSearchCV(xgb, param_distributions=params, n_iter=param_comb, scoring='roc_auc', n_jobs=4, cv=skf.split(X_train,y_train), verbose=3, random_state=1001 )\n",
        "\n",
        "\n",
        "random_search.fit(X_train, y_train)\n"
      ],
      "execution_count": 0,
      "outputs": []
    },
    {
      "cell_type": "code",
      "metadata": {
        "id": "W9plhehr4WYZ",
        "colab_type": "code",
        "colab": {}
      },
      "source": [
        "random_search.best_params_"
      ],
      "execution_count": 0,
      "outputs": []
    },
    {
      "cell_type": "code",
      "metadata": {
        "id": "D4uNOrfpOZHd",
        "colab_type": "code",
        "colab": {}
      },
      "source": [
        "random_search.best_score_"
      ],
      "execution_count": 0,
      "outputs": []
    },
    {
      "cell_type": "code",
      "metadata": {
        "id": "Ar0XwNCAOf5p",
        "colab_type": "code",
        "colab": {}
      },
      "source": [
        "model5 =XGBClassifier(colsample_bytree= 0.8,\n",
        " gamma= 1.5,\n",
        " max_depth= 5,\n",
        " min_child_weight= 1,\n",
        " subsample= 0.6)"
      ],
      "execution_count": 0,
      "outputs": []
    },
    {
      "cell_type": "code",
      "metadata": {
        "id": "1AQqDiWoagyL",
        "colab_type": "code",
        "outputId": "a7beab53-54a9-4b94-dcdd-a7534978184a",
        "colab": {
          "base_uri": "https://localhost:8080/",
          "height": 134
        }
      },
      "source": [
        "model5.fit(X_train,y_train)"
      ],
      "execution_count": 49,
      "outputs": [
        {
          "output_type": "execute_result",
          "data": {
            "text/plain": [
              "XGBClassifier(base_score=0.5, booster='gbtree', colsample_bylevel=1,\n",
              "              colsample_bynode=1, colsample_bytree=0.8, gamma=1.5,\n",
              "              learning_rate=0.1, max_delta_step=0, max_depth=5,\n",
              "              min_child_weight=1, missing=None, n_estimators=100, n_jobs=1,\n",
              "              nthread=None, objective='binary:logistic', random_state=0,\n",
              "              reg_alpha=0, reg_lambda=1, scale_pos_weight=1, seed=None,\n",
              "              silent=None, subsample=0.6, verbosity=1)"
            ]
          },
          "metadata": {
            "tags": []
          },
          "execution_count": 49
        }
      ]
    },
    {
      "cell_type": "code",
      "metadata": {
        "id": "SxHHuxJBbHtT",
        "colab_type": "code",
        "outputId": "97b9341d-3088-4335-fefb-dc90bfff9538",
        "colab": {
          "base_uri": "https://localhost:8080/",
          "height": 34
        }
      },
      "source": [
        "model5.score(X_test, y_test)"
      ],
      "execution_count": 50,
      "outputs": [
        {
          "output_type": "execute_result",
          "data": {
            "text/plain": [
              "0.9742738589211618"
            ]
          },
          "metadata": {
            "tags": []
          },
          "execution_count": 50
        }
      ]
    },
    {
      "cell_type": "code",
      "metadata": {
        "id": "usFTbq1Dbf-b",
        "colab_type": "code",
        "outputId": "5e4938f8-e477-4622-b1b2-1638d36993c2",
        "colab": {
          "base_uri": "https://localhost:8080/",
          "height": 34
        }
      },
      "source": [
        "y_proba_xgb = model5.predict_proba(X_test)[:,1]\n",
        "auc_score = roc_auc_score(y_test, y_proba_xgb)\n",
        "auc_score\n"
      ],
      "execution_count": 51,
      "outputs": [
        {
          "output_type": "execute_result",
          "data": {
            "text/plain": [
              "0.9772625870035098"
            ]
          },
          "metadata": {
            "tags": []
          },
          "execution_count": 51
        }
      ]
    },
    {
      "cell_type": "code",
      "metadata": {
        "id": "hsPeNYsYbxhJ",
        "colab_type": "code",
        "outputId": "3ff38484-a1a0-4e64-ec7e-10e50d0fa0e6",
        "colab": {
          "base_uri": "https://localhost:8080/",
          "height": 301
        }
      },
      "source": [
        "lr_fpr, lr_tpr, _ = roc_curve(y_test, y_proba_xgb)\n",
        "roc_auc =auc(lr_fpr, lr_tpr)\n",
        "plt.figure()\n",
        "\n",
        "plt.plot(lr_fpr, lr_tpr, color='darkgreen',\n",
        "         lw=2, label='Logistic Regression (area = %0.2f)' % roc_auc)\n",
        "plt.plot([0, 1], [0, 1], color='navy', lw=2, linestyle='--')\n",
        "plt.xlim([0.0, 1.0])\n",
        "plt.ylim([0.0, 1.05])\n",
        "plt.xlabel('False Positive Rate')\n",
        "plt.ylabel('True Positive Rate')\n",
        "plt.title('ROC Curve')\n",
        "plt.legend(loc=\"lower right\")\n",
        "plt.show()\n"
      ],
      "execution_count": 52,
      "outputs": [
        {
          "output_type": "display_data",
          "data": {
            "image/png": "[encoded data removed]",
            "text/plain": [
              "<Figure size 432x288 with 1 Axes>"
            ]
          },
          "metadata": {
            "tags": []
          }
        }
      ]
    },
    {
      "cell_type": "code",
      "metadata": {
        "id": "jnMNWpJ-cDOV",
        "colab_type": "code",
        "colab": {}
      },
      "source": [
        "y_pred_xgb = model5.predict(X_test)"
      ],
      "execution_count": 0,
      "outputs": []
    },
    {
      "cell_type": "code",
      "metadata": {
        "id": "xLO5zBG4cL56",
        "colab_type": "code",
        "outputId": "531e6169-629f-450c-d077-18646d5c1c7c",
        "colab": {
          "base_uri": "https://localhost:8080/",
          "height": 202
        }
      },
      "source": [
        "print(classification_report(y_pred_xgb, y_test))\n",
        "print(confusion_matrix(y_pred_xgb, y_test))"
      ],
      "execution_count": 54,
      "outputs": [
        {
          "output_type": "stream",
          "text": [
            "              precision    recall  f1-score   support\n",
            "\n",
            "           0       0.99      0.98      0.99      3431\n",
            "           1       0.69      0.90      0.78       184\n",
            "\n",
            "    accuracy                           0.97      3615\n",
            "   macro avg       0.84      0.94      0.88      3615\n",
            "weighted avg       0.98      0.97      0.98      3615\n",
            "\n",
            "[[3357   74]\n",
            " [  19  165]]\n"
          ],
          "name": "stdout"
        }
      ]
    },
    {
      "cell_type": "code",
      "metadata": {
        "id": "-cxtRhZOcRvY",
        "colab_type": "code",
        "outputId": "6fcb230c-3e4d-4bfb-b2b3-17f3bf25faef",
        "colab": {
          "base_uri": "https://localhost:8080/",
          "height": 34
        }
      },
      "source": [
        "from keras.layers import Dense, GRU,LSTM, Embedding, Flatten, Bidirectional,GlobalMaxPool1D,Conv1D, Dropout, SimpleRNN\n",
        "from keras.layers.embeddings import Embedding\n",
        "from keras.optimizers import Adam, RMSprop, SGD\n",
        "from keras.initializers import Constant\n",
        "from keras.models import Sequential\n",
        "from tensorflow.python.keras.preprocessing.text import Tokenizer\n",
        "from tensorflow.python.keras.preprocessing.sequence import pad_sequences"
      ],
      "execution_count": 55,
      "outputs": [
        {
          "output_type": "stream",
          "text": [
            "Using TensorFlow backend.\n"
          ],
          "name": "stderr"
        }
      ]
    },
    {
      "cell_type": "markdown",
      "metadata": {
        "id": "eA_yHUkt9Bo6",
        "colab_type": "text"
      },
      "source": [
        "#Neural Network\n",
        "\n",
        "As we know that text classifcation can now be powered using Neural Netoworks that have the ability to learn much complex relationships. Seq modelling for NLP related tasks have found the biggest improvement. However as a baseline model we will first consider a very simple Feed Forward Neural Network. Then we will try to beat the performance (Recall, Precission, F1 score) using a seq models like RNN"
      ]
    },
    {
      "cell_type": "code",
      "metadata": {
        "id": "j72efLcudey4",
        "colab_type": "code",
        "colab": {}
      },
      "source": [
        "model = Sequential()"
      ],
      "execution_count": 0,
      "outputs": []
    },
    {
      "cell_type": "code",
      "metadata": {
        "id": "LBcUJdpfdnQE",
        "colab_type": "code",
        "colab": {}
      },
      "source": [
        "model.add(Dense(64, activation='relu',input_shape=(300,)))\n",
        "model.add(Dense(46, activation='relu'))\n",
        "model.add(Dense(12, activation='relu'))\n",
        "model.add(Dense(1, activation='sigmoid'))"
      ],
      "execution_count": 0,
      "outputs": []
    },
    {
      "cell_type": "code",
      "metadata": {
        "id": "n1ZekbLge0sa",
        "colab_type": "code",
        "colab": {}
      },
      "source": [
        "import tensorflow as tf"
      ],
      "execution_count": 0,
      "outputs": []
    },
    {
      "cell_type": "markdown",
      "metadata": {
        "id": "K2108Nvn-IYw",
        "colab_type": "text"
      },
      "source": [
        "creating a custom loss function for validation. This is not available out of the box in Keras so as a result we are creating our own. This is being treated as a binary classifcation problem and hence ROC is a good loss measure"
      ]
    },
    {
      "cell_type": "code",
      "metadata": {
        "id": "5t7LWEq7foDt",
        "colab_type": "code",
        "colab": {}
      },
      "source": [
        "def auroc(y_true, y_pred):\n",
        "    return tf.py_func(roc_auc_score, (y_true, y_pred), tf.double)"
      ],
      "execution_count": 0,
      "outputs": []
    },
    {
      "cell_type": "code",
      "metadata": {
        "id": "0Y_cuK90gagF",
        "colab_type": "code",
        "colab": {}
      },
      "source": [
        "\n",
        "model.compile(loss='binary_crossentropy', optimizer='Adam',metrics=[auroc])\n"
      ],
      "execution_count": 0,
      "outputs": []
    },
    {
      "cell_type": "code",
      "metadata": {
        "id": "pwGd_uhogk2l",
        "colab_type": "code",
        "colab": {}
      },
      "source": [
        "model.fit(X_train.values,y_train.values, epochs= 14,  batch_size=512, validation_data=[X_test.values, y_test.values])"
      ],
      "execution_count": 0,
      "outputs": []
    },
    {
      "cell_type": "code",
      "metadata": {
        "id": "TAwHDnsGhW4e",
        "colab_type": "code",
        "colab": {}
      },
      "source": [
        "y_pred_nn = model.predict_classes(X_test)"
      ],
      "execution_count": 0,
      "outputs": []
    },
    {
      "cell_type": "markdown",
      "metadata": {
        "id": "TrChPcDL-xop",
        "colab_type": "text"
      },
      "source": [
        "Now the baseline feed forward Neural Network is already beeter than our XGB model with a precision of 74% and recall of 82% and an F1score which is a harmonic mean of precision and recall of about 78%"
      ]
    },
    {
      "cell_type": "code",
      "metadata": {
        "id": "-bL51vC1itb9",
        "colab_type": "code",
        "outputId": "050383d9-de26-477b-9c79-d1019a588bc1",
        "colab": {
          "base_uri": "https://localhost:8080/",
          "height": 202
        }
      },
      "source": [
        "print(confusion_matrix(y_pred_nn, y_test.values))\n",
        "print(classification_report(y_pred_nn, y_test.values))"
      ],
      "execution_count": 63,
      "outputs": [
        {
          "output_type": "stream",
          "text": [
            "[[3338   63]\n",
            " [  38  176]]\n",
            "              precision    recall  f1-score   support\n",
            "\n",
            "           0       0.99      0.98      0.99      3401\n",
            "           1       0.74      0.82      0.78       214\n",
            "\n",
            "    accuracy                           0.97      3615\n",
            "   macro avg       0.86      0.90      0.88      3615\n",
            "weighted avg       0.97      0.97      0.97      3615\n",
            "\n"
          ],
          "name": "stdout"
        }
      ]
    },
    {
      "cell_type": "markdown",
      "metadata": {
        "id": "BjsEc8-g_LLT",
        "colab_type": "text"
      },
      "source": [
        "#Custom Trained Embedding\n",
        "\n",
        "Now we will use a much more sophisticated model which has been shown to perform very well for both text analytics and timeseries data. In this particular case we will create our embedding during our training phase. Remember this embedding is being trained on our domain specfic data and we are not borrowing a pre-trained embedding (GloVe, Word2vec) \n",
        "\n",
        "The process will involve first tokenizing the data and then creating a sequence to reprsent the index of each word\n"
      ]
    },
    {
      "cell_type": "code",
      "metadata": {
        "id": "nokssxM3-f2p",
        "colab_type": "code",
        "colab": {}
      },
      "source": [
        "tokenizer = Tokenizer(num_words=10000)\n",
        "\n",
        "tokenizer.fit_on_texts(df_data_new.Summary)\n",
        "\n",
        "sequences = tokenizer.texts_to_sequences(df_data_new.Summary)"
      ],
      "execution_count": 0,
      "outputs": []
    },
    {
      "cell_type": "code",
      "metadata": {
        "id": "IToghEbg_MJY",
        "colab_type": "code",
        "colab": {}
      },
      "source": [
        "word_index = tokenizer.word_index"
      ],
      "execution_count": 0,
      "outputs": []
    },
    {
      "cell_type": "code",
      "metadata": {
        "id": "q2YmkMFkApyJ",
        "colab_type": "code",
        "colab": {}
      },
      "source": [
        "X_train_k, X_test_k, y_train_k, y_test_k = train_test_split(sequences, df_data_new['Passenger and Cabin Crew Injury'], test_size=0.20, random_state=42)"
      ],
      "execution_count": 0,
      "outputs": []
    },
    {
      "cell_type": "code",
      "metadata": {
        "id": "1dL5owjjBrq6",
        "colab_type": "code",
        "colab": {}
      },
      "source": [
        "X_train_k = pad_sequences(X_train_k, maxlen=300)\n",
        "X_test_k = pad_sequences(X_test_k, maxlen=300)"
      ],
      "execution_count": 0,
      "outputs": []
    },
    {
      "cell_type": "code",
      "metadata": {
        "id": "jThgc6GLBtiA",
        "colab_type": "code",
        "outputId": "3b225725-c409-4e94-b83e-815b5a9c0e2c",
        "colab": {
          "base_uri": "https://localhost:8080/",
          "height": 403
        }
      },
      "source": [
        "model_emb = Sequential()\n",
        "model_emb.add(Embedding(10000,200, input_length=300))\n",
        "model_emb.add(Flatten())\n",
        "model_emb.add(Dense(46, activation='relu'))\n",
        "model_emb.add(Dense(46, activation='relu'))\n",
        "model_emb.add(Dropout(0.1))\n",
        "model_emb.add(Dense(18, activation='relu'))\n",
        "model_emb.add(Dense(6, activation='relu'))\n",
        "model_emb.add(Dense(1, activation='sigmoid'))\n",
        "\n",
        "model_emb.compile(optimizer='Adam', loss='binary_crossentropy', metrics =[auroc])\n",
        "model_emb.summary()\n",
        "\n",
        "  \n",
        "    \n",
        "  \n"
      ],
      "execution_count": 148,
      "outputs": [
        {
          "output_type": "stream",
          "text": [
            "_________________________________________________________________\n",
            "Layer (type)                 Output Shape              Param #   \n",
            "=================================================================\n",
            "embedding_2 (Embedding)      (None, 300, 200)          2000000   \n",
            "_________________________________________________________________\n",
            "flatten_2 (Flatten)          (None, 60000)             0         \n",
            "_________________________________________________________________\n",
            "dense_10 (Dense)             (None, 46)                2760046   \n",
            "_________________________________________________________________\n",
            "dense_11 (Dense)             (None, 46)                2162      \n",
            "_________________________________________________________________\n",
            "dropout_2 (Dropout)          (None, 46)                0         \n",
            "_________________________________________________________________\n",
            "dense_12 (Dense)             (None, 18)                846       \n",
            "_________________________________________________________________\n",
            "dense_13 (Dense)             (None, 6)                 114       \n",
            "_________________________________________________________________\n",
            "dense_14 (Dense)             (None, 1)                 7         \n",
            "=================================================================\n",
            "Total params: 4,763,175\n",
            "Trainable params: 4,763,175\n",
            "Non-trainable params: 0\n",
            "_________________________________________________________________\n"
          ],
          "name": "stdout"
        }
      ]
    },
    {
      "cell_type": "code",
      "metadata": {
        "id": "TN1wWBBeCKn0",
        "colab_type": "code",
        "outputId": "19257265-9b65-429c-ca63-f2a5811d422f",
        "colab": {
          "base_uri": "https://localhost:8080/",
          "height": 101
        }
      },
      "source": [
        "history = model_emb.fit(X_train_k, y_train_k, epochs =2, batch_size=256, validation_data=[X_test_k, y_test_k])"
      ],
      "execution_count": 149,
      "outputs": [
        {
          "output_type": "stream",
          "text": [
            "Train on 14460 samples, validate on 3615 samples\n",
            "Epoch 1/2\n",
            "14460/14460 [==============================] - 14s 981us/step - loss: 0.2326 - auroc: 0.7261 - val_loss: 0.1074 - val_auroc: 0.9737\n",
            "Epoch 2/2\n",
            "14460/14460 [==============================] - 13s 926us/step - loss: 0.0710 - auroc: 0.9856 - val_loss: 0.0693 - val_auroc: 0.9802\n"
          ],
          "name": "stdout"
        }
      ]
    },
    {
      "cell_type": "code",
      "metadata": {
        "id": "aFYYQNOUEhxE",
        "colab_type": "code",
        "colab": {}
      },
      "source": [
        "y_pred_emb = model_emb.predict_classes(X_test_k)"
      ],
      "execution_count": 0,
      "outputs": []
    },
    {
      "cell_type": "markdown",
      "metadata": {
        "id": "nSYlTpy7Au_v",
        "colab_type": "text"
      },
      "source": [
        "The model performs slightly better than our feed forward network where thr f1-score has improved from 78% to 81 %. Not bad for a model where we have performed no hyperparameter tuning"
      ]
    },
    {
      "cell_type": "code",
      "metadata": {
        "id": "chyFIPo5I2WE",
        "colab_type": "code",
        "outputId": "41b209ab-8ad3-474d-8b29-aec43dda8a6c",
        "colab": {
          "base_uri": "https://localhost:8080/",
          "height": 202
        }
      },
      "source": [
        "print(confusion_matrix(y_pred_emb, y_test_k.values))\n",
        "print(classification_report(y_pred_emb, y_test_k.values))"
      ],
      "execution_count": 151,
      "outputs": [
        {
          "output_type": "stream",
          "text": [
            "[[3354   61]\n",
            " [  22  178]]\n",
            "              precision    recall  f1-score   support\n",
            "\n",
            "           0       0.99      0.98      0.99      3415\n",
            "           1       0.74      0.89      0.81       200\n",
            "\n",
            "    accuracy                           0.98      3615\n",
            "   macro avg       0.87      0.94      0.90      3615\n",
            "weighted avg       0.98      0.98      0.98      3615\n",
            "\n"
          ],
          "name": "stdout"
        }
      ]
    },
    {
      "cell_type": "markdown",
      "metadata": {
        "id": "cyL7CaQCBNr4",
        "colab_type": "text"
      },
      "source": [
        "Now as we know this is a hugely imbalanced dataset. We will now try to undersample our data where we will bring down the  number of negative sample equal to the positive sample and use the exact same archtiecture parameters and hyperparameters "
      ]
    },
    {
      "cell_type": "code",
      "metadata": {
        "id": "ZjVRr3m8t8MV",
        "colab_type": "code",
        "colab": {}
      },
      "source": [
        "under_sample_train = pd.DataFrame(np.column_stack((X_train_k,y_train_k)))"
      ],
      "execution_count": 0,
      "outputs": []
    },
    {
      "cell_type": "code",
      "metadata": {
        "id": "vC_AZXnWt7zx",
        "colab_type": "code",
        "colab": {}
      },
      "source": [
        "under_sample_train_min = under_sample_train[under_sample_train[300]==1]\n",
        "under_sample_train_max = under_sample_train[under_sample_train[300]==0]\n",
        "\n",
        "if len(under_sample_train_max)>len(under_sample_train_min):\n",
        "  under_sample_train_max = under_sample_train_max.sample(n=len(under_sample_train_min),replace=True)\n",
        "else:\n",
        "  under_sample_train_min = under_sample_train_min.sample(n=len(under_sample_train_max),replace=True)\n",
        "  \n",
        "trn = pd.concat([under_sample_train_max, under_sample_train_min],axis=0)"
      ],
      "execution_count": 0,
      "outputs": []
    },
    {
      "cell_type": "code",
      "metadata": {
        "id": "amw8sCPQ2GEz",
        "colab_type": "code",
        "colab": {}
      },
      "source": [
        "y_trn = trn[300]\n",
        "x_trn = trn.drop(300, axis = 1)\n",
        "\n"
      ],
      "execution_count": 0,
      "outputs": []
    },
    {
      "cell_type": "code",
      "metadata": {
        "id": "uIGNbroIt7qy",
        "colab_type": "code",
        "colab": {}
      },
      "source": [
        "X_train_und, X_test_und, y_train_und, y_test_und = train_test_split(x_trn, y_trn, test_size=0.20, random_state=42)"
      ],
      "execution_count": 0,
      "outputs": []
    },
    {
      "cell_type": "code",
      "metadata": {
        "id": "9nzLDbfz2tpJ",
        "colab_type": "code",
        "colab": {}
      },
      "source": [
        "X_train_und = pad_sequences(X_train_und.values, maxlen=300)\n",
        "X_test_und = pad_sequences(X_test_und.values, maxlen=300)\n"
      ],
      "execution_count": 0,
      "outputs": []
    },
    {
      "cell_type": "code",
      "metadata": {
        "id": "Hy6BFOVD76FM",
        "colab_type": "code",
        "outputId": "0c617a96-d67e-448d-df73-67a3a49797be",
        "colab": {
          "base_uri": "https://localhost:8080/",
          "height": 134
        }
      },
      "source": [
        "history = model_emb.fit(X_train_und, y_train_und, epochs =3, batch_size=256, validation_data=[X_test_und, y_test_und])"
      ],
      "execution_count": 157,
      "outputs": [
        {
          "output_type": "stream",
          "text": [
            "Train on 1406 samples, validate on 352 samples\n",
            "Epoch 1/3\n",
            "1406/1406 [==============================] - 2s 1ms/step - loss: 0.1606 - auroc: 0.9952 - val_loss: 0.0808 - val_auroc: 0.9989\n",
            "Epoch 2/3\n",
            "1406/1406 [==============================] - 1s 944us/step - loss: 0.0820 - auroc: 0.9971 - val_loss: 0.0580 - val_auroc: 0.9990\n",
            "Epoch 3/3\n",
            "1406/1406 [==============================] - 1s 947us/step - loss: 0.0535 - auroc: 0.9985 - val_loss: 0.0514 - val_auroc: 0.9991\n"
          ],
          "name": "stdout"
        }
      ]
    },
    {
      "cell_type": "code",
      "metadata": {
        "id": "EYsyr6tpaRvP",
        "colab_type": "code",
        "outputId": "0e8b5152-e3c1-44c1-83bc-5bc0ceb74f68",
        "colab": {
          "base_uri": "https://localhost:8080/",
          "height": 301
        }
      },
      "source": [
        "plt.plot(history.history['loss'])\n",
        "plt.plot(history.history['val_loss'])\n",
        "plt.title('model train vs validation loss')\n",
        "plt.ylabel('loss')\n",
        "plt.xlabel('epoch')\n",
        "plt.legend(['train','validation'], loc ='upper right')\n",
        "plt.show()"
      ],
      "execution_count": 158,
      "outputs": [
        {
          "output_type": "display_data",
          "data": {
            "image/png": "[encoded data removed]",
            "text/plain": [
              "<Figure size 432x288 with 1 Axes>"
            ]
          },
          "metadata": {
            "tags": []
          }
        }
      ]
    },
    {
      "cell_type": "code",
      "metadata": {
        "id": "cSLGX26P6oon",
        "colab_type": "code",
        "colab": {}
      },
      "source": [
        "y_pred_emb_und = model_emb.predict_classes(X_test_und)"
      ],
      "execution_count": 0,
      "outputs": []
    },
    {
      "cell_type": "code",
      "metadata": {
        "id": "zdQ21WcW7mVj",
        "colab_type": "code",
        "colab": {
          "base_uri": "https://localhost:8080/",
          "height": 34
        },
        "outputId": "4f800902-34f5-4539-9eea-28636e9d85fe"
      },
      "source": [
        "y_pred_emb_und.shape"
      ],
      "execution_count": 161,
      "outputs": [
        {
          "output_type": "execute_result",
          "data": {
            "text/plain": [
              "(3615, 1)"
            ]
          },
          "metadata": {
            "tags": []
          },
          "execution_count": 161
        }
      ]
    },
    {
      "cell_type": "markdown",
      "metadata": {
        "id": "NG0HDT2gCBDw",
        "colab_type": "text"
      },
      "source": [
        "WOOOW!!! we get an astonishing improvement of an F1-score of 98%. Our undersampling technique has resulted in a huge improvement"
      ]
    },
    {
      "cell_type": "code",
      "metadata": {
        "id": "tKn_B4ZR6oWt",
        "colab_type": "code",
        "colab": {
          "base_uri": "https://localhost:8080/",
          "height": 202
        },
        "outputId": "6da7502c-09ce-4d11-dbfb-1e266f58b3ed"
      },
      "source": [
        "print(confusion_matrix(y_pred_emb_und, y_test_und.values))\n",
        "print(classification_report(y_pred_emb_und, y_test_und.values))"
      ],
      "execution_count": 163,
      "outputs": [
        {
          "output_type": "stream",
          "text": [
            "[[181   5]\n",
            " [  2 164]]\n",
            "              precision    recall  f1-score   support\n",
            "\n",
            "           0       0.99      0.97      0.98       186\n",
            "           1       0.97      0.99      0.98       166\n",
            "\n",
            "    accuracy                           0.98       352\n",
            "   macro avg       0.98      0.98      0.98       352\n",
            "weighted avg       0.98      0.98      0.98       352\n",
            "\n"
          ],
          "name": "stdout"
        }
      ]
    },
    {
      "cell_type": "markdown",
      "metadata": {
        "id": "7feKTdprChG4",
        "colab_type": "text"
      },
      "source": [
        "#Pre-Trained Word Embedding (GloVe)\n",
        "\n",
        "In this particular case we will now try to use a pre-trained GloVe embedding. This is an example of transfer learning where our embedding have been trained on a very large corpus of english text and we will employ this to see if we can get an improved performance. The idea is that this embedding has been trained on English text which is much larger than our custom trained model"
      ]
    },
    {
      "cell_type": "code",
      "metadata": {
        "id": "M57CHyvFr9gb",
        "colab_type": "code",
        "colab": {}
      },
      "source": [
        "X_train_glove, X_test_glove, y_train_glove, y_test_glove = train_test_split(df_word_space_new, df_data_new['Passenger and Cabin Crew Injury'], test_size=0.2, random_state=21)"
      ],
      "execution_count": 0,
      "outputs": []
    },
    {
      "cell_type": "code",
      "metadata": {
        "id": "B4ml8w0tr930",
        "colab_type": "code",
        "outputId": "f61982b3-3b0d-4706-c02b-ce4f3724ca93",
        "colab": {
          "base_uri": "https://localhost:8080/",
          "height": 437
        }
      },
      "source": [
        "#K.clear_session()\n",
        "model_glv = Sequential()\n",
        "model_glv.add(Dense(512, activation='relu', input_dim =300))\n",
        "model_glv.add(Dense(256, activation='relu'))\n",
        "model_glv.add(Dropout(0.1))\n",
        "model_glv.add(Dense(120, activation='relu'))\n",
        "model_glv.add(Dropout(0.1))\n",
        "model_glv.add(Dense(60, activation='relu'))\n",
        "model_glv.add(Dense(18, activation='relu'))\n",
        "model_glv.add(Dense(6, activation='relu'))\n",
        "model_glv.add(Dense(1, activation='sigmoid'))\n",
        "\n",
        "model_glv.compile(optimizer='Adam', loss='binary_crossentropy', metrics =[auroc])\n",
        "model_glv.summary()"
      ],
      "execution_count": 0,
      "outputs": [
        {
          "output_type": "stream",
          "text": [
            "_________________________________________________________________\n",
            "Layer (type)                 Output Shape              Param #   \n",
            "=================================================================\n",
            "dense_61 (Dense)             (None, 512)               154112    \n",
            "_________________________________________________________________\n",
            "dense_62 (Dense)             (None, 256)               131328    \n",
            "_________________________________________________________________\n",
            "dropout_12 (Dropout)         (None, 256)               0         \n",
            "_________________________________________________________________\n",
            "dense_63 (Dense)             (None, 120)               30840     \n",
            "_________________________________________________________________\n",
            "dropout_13 (Dropout)         (None, 120)               0         \n",
            "_________________________________________________________________\n",
            "dense_64 (Dense)             (None, 60)                7260      \n",
            "_________________________________________________________________\n",
            "dense_65 (Dense)             (None, 18)                1098      \n",
            "_________________________________________________________________\n",
            "dense_66 (Dense)             (None, 6)                 114       \n",
            "_________________________________________________________________\n",
            "dense_67 (Dense)             (None, 1)                 7         \n",
            "=================================================================\n",
            "Total params: 324,759\n",
            "Trainable params: 324,759\n",
            "Non-trainable params: 0\n",
            "_________________________________________________________________\n"
          ],
          "name": "stdout"
        }
      ]
    },
    {
      "cell_type": "code",
      "metadata": {
        "id": "gUcjdehMuIzV",
        "colab_type": "code",
        "outputId": "fc9f8281-69fb-4efa-819c-80f1f106bd43",
        "colab": {
          "base_uri": "https://localhost:8080/",
          "height": 235
        }
      },
      "source": [
        "history = model_glv.fit(X_train_glove, y_train_glove, epochs =6, batch_size=256, validation_data=[X_test_glove, y_test_glove])"
      ],
      "execution_count": 0,
      "outputs": [
        {
          "output_type": "stream",
          "text": [
            "Train on 14460 samples, validate on 3615 samples\n",
            "Epoch 1/6\n",
            "14460/14460 [==============================] - 4s 249us/step - loss: 0.2266 - auroc: 0.7604 - val_loss: 0.1104 - val_auroc: 0.9627\n",
            "Epoch 2/6\n",
            "14460/14460 [==============================] - 2s 111us/step - loss: 0.1065 - auroc: 0.9643 - val_loss: 0.1162 - val_auroc: 0.9742\n",
            "Epoch 3/6\n",
            "14460/14460 [==============================] - 2s 108us/step - loss: 0.0931 - auroc: 0.9731 - val_loss: 0.0774 - val_auroc: 0.9781\n",
            "Epoch 4/6\n",
            "14460/14460 [==============================] - 2s 107us/step - loss: 0.0760 - auroc: 0.9779 - val_loss: 0.0778 - val_auroc: 0.9793\n",
            "Epoch 5/6\n",
            "14460/14460 [==============================] - 2s 107us/step - loss: 0.0686 - auroc: 0.9800 - val_loss: 0.0761 - val_auroc: 0.9835\n",
            "Epoch 6/6\n",
            "14460/14460 [==============================] - 2s 109us/step - loss: 0.0692 - auroc: 0.9817 - val_loss: 0.0796 - val_auroc: 0.9838\n"
          ],
          "name": "stdout"
        }
      ]
    },
    {
      "cell_type": "code",
      "metadata": {
        "id": "lFmC_WezwUlN",
        "colab_type": "code",
        "colab": {}
      },
      "source": [
        "y_pred_glv = model_glv.predict_classes(X_test_glove)"
      ],
      "execution_count": 0,
      "outputs": []
    },
    {
      "cell_type": "markdown",
      "metadata": {
        "id": "3UExjp43EUo1",
        "colab_type": "text"
      },
      "source": [
        "The performance has actually degraded when using GloVe embedding. GloVe embedding usually perform better when we have a very small training set. In our case our training set is decent size so our custom embedding were probably able to learn better as it was very domain specific"
      ]
    },
    {
      "cell_type": "code",
      "metadata": {
        "id": "2zgyUz2CuInI",
        "colab_type": "code",
        "outputId": "a31f7d6e-9f0a-4ac2-8419-1c52ea8c5986",
        "colab": {
          "base_uri": "https://localhost:8080/",
          "height": 202
        }
      },
      "source": [
        "print(confusion_matrix(y_pred_glv, y_test_glove.values))\n",
        "print(classification_report(y_pred_glv, y_test_glove.values))"
      ],
      "execution_count": 0,
      "outputs": [
        {
          "output_type": "stream",
          "text": [
            "[[3381   79]\n",
            " [  23  132]]\n",
            "              precision    recall  f1-score   support\n",
            "\n",
            "           0       0.99      0.98      0.99      3460\n",
            "           1       0.63      0.85      0.72       155\n",
            "\n",
            "    accuracy                           0.97      3615\n",
            "   macro avg       0.81      0.91      0.85      3615\n",
            "weighted avg       0.98      0.97      0.97      3615\n",
            "\n"
          ],
          "name": "stdout"
        }
      ]
    },
    {
      "cell_type": "markdown",
      "metadata": {
        "id": "gh9_VKVKFsxt",
        "colab_type": "text"
      },
      "source": [
        "#RNN with custom Embedding\n",
        "\n",
        "Now we will try to use a more sophisticated Neural Network called the RNN. This network has the ability to retain text that was part of precedding time and input them back into the model. This allows for better performance where the context of the sentence is detected by using the a sequence of words. In this example we will use a simple RNN and will train our own embeddings"
      ]
    },
    {
      "cell_type": "code",
      "metadata": {
        "id": "N2eJRqPhVl5-",
        "colab_type": "code",
        "colab": {}
      },
      "source": [
        "X_train_rnn, X_test_rnn, y_train_rnn, y_test_rnn = train_test_split(sequences, df_data_new['Passenger and Cabin Crew Injury'], test_size=0.20, random_state=42)"
      ],
      "execution_count": 0,
      "outputs": []
    },
    {
      "cell_type": "code",
      "metadata": {
        "id": "Y5dAxTjfVlu_",
        "colab_type": "code",
        "colab": {}
      },
      "source": [
        "X_train_rnn = pad_sequences(X_train_rnn, maxlen=500)\n",
        "X_test_rnn = pad_sequences(X_test_rnn, maxlen=500)"
      ],
      "execution_count": 0,
      "outputs": []
    },
    {
      "cell_type": "code",
      "metadata": {
        "id": "eBgGxPL0VRWz",
        "colab_type": "code",
        "outputId": "887161e2-7a24-4449-de35-952065476755",
        "colab": {
          "base_uri": "https://localhost:8080/",
          "height": 269
        }
      },
      "source": [
        "model_rnn = Sequential()\n",
        "model_rnn.add(Embedding(10000, 200))\n",
        "model_rnn.add(SimpleRNN(32, return_sequences=True))\n",
        "model_rnn.add(SimpleRNN(12))\n",
        "\n",
        "model_rnn.add(Dense(1, activation='sigmoid'))\n",
        "\n",
        "model_rnn.compile(optimizer='Adam', loss='binary_crossentropy', metrics =[auroc])\n",
        "model_rnn.summary()"
      ],
      "execution_count": 166,
      "outputs": [
        {
          "output_type": "stream",
          "text": [
            "_________________________________________________________________\n",
            "Layer (type)                 Output Shape              Param #   \n",
            "=================================================================\n",
            "embedding_3 (Embedding)      (None, None, 200)         2000000   \n",
            "_________________________________________________________________\n",
            "simple_rnn_1 (SimpleRNN)     (None, None, 32)          7456      \n",
            "_________________________________________________________________\n",
            "simple_rnn_2 (SimpleRNN)     (None, 12)                540       \n",
            "_________________________________________________________________\n",
            "dense_15 (Dense)             (None, 1)                 13        \n",
            "=================================================================\n",
            "Total params: 2,008,009\n",
            "Trainable params: 2,008,009\n",
            "Non-trainable params: 0\n",
            "_________________________________________________________________\n"
          ],
          "name": "stdout"
        }
      ]
    },
    {
      "cell_type": "code",
      "metadata": {
        "id": "uBTJuiYCYxe8",
        "colab_type": "code",
        "outputId": "5d350f49-2460-4291-9e95-025dbb857ab0",
        "colab": {
          "base_uri": "https://localhost:8080/",
          "height": 168
        }
      },
      "source": [
        "history_rnn = model_rnn.fit(X_train_rnn, y_train_rnn, epochs =4, batch_size=200, validation_data=[X_test_rnn, y_test_rnn])"
      ],
      "execution_count": 0,
      "outputs": [
        {
          "output_type": "stream",
          "text": [
            "Train on 14460 samples, validate on 3615 samples\n",
            "Epoch 1/4\n",
            "14460/14460 [==============================] - 45s 3ms/step - loss: 0.0177 - auroc: 0.9980 - val_loss: 0.1045 - val_auroc: 0.9555\n",
            "Epoch 2/4\n",
            "14460/14460 [==============================] - 43s 3ms/step - loss: 0.0114 - auroc: 0.9991 - val_loss: 0.1045 - val_auroc: 0.9582\n",
            "Epoch 3/4\n",
            "14460/14460 [==============================] - 43s 3ms/step - loss: 0.0083 - auroc: 0.9995 - val_loss: 0.1050 - val_auroc: 0.9600\n",
            "Epoch 4/4\n",
            "14460/14460 [==============================] - 43s 3ms/step - loss: 0.0066 - auroc: 0.9998 - val_loss: 0.1122 - val_auroc: 0.9557\n"
          ],
          "name": "stdout"
        }
      ]
    },
    {
      "cell_type": "code",
      "metadata": {
        "id": "W8M_Uz7bYx8_",
        "colab_type": "code",
        "colab": {}
      },
      "source": [
        "y_pred_rnn = model_rnn.predict_classes(X_test_rnn)"
      ],
      "execution_count": 0,
      "outputs": []
    },
    {
      "cell_type": "markdown",
      "metadata": {
        "id": "B_ggABDbGjS1",
        "colab_type": "text"
      },
      "source": [
        "The RNN model does give us some improvement"
      ]
    },
    {
      "cell_type": "code",
      "metadata": {
        "id": "--a9JmvHZEKH",
        "colab_type": "code",
        "outputId": "53012749-1150-4be7-d382-4cc0a1401d5d",
        "colab": {
          "base_uri": "https://localhost:8080/",
          "height": 202
        }
      },
      "source": [
        "print(confusion_matrix(y_pred_rnn, y_test_k.values))\n",
        "print(classification_report(y_pred_rnn, y_test_k.values))"
      ],
      "execution_count": 0,
      "outputs": [
        {
          "output_type": "stream",
          "text": [
            "[[3347   87]\n",
            " [  29  152]]\n",
            "              precision    recall  f1-score   support\n",
            "\n",
            "           0       0.99      0.97      0.98      3434\n",
            "           1       0.64      0.84      0.72       181\n",
            "\n",
            "    accuracy                           0.97      3615\n",
            "   macro avg       0.81      0.91      0.85      3615\n",
            "weighted avg       0.97      0.97      0.97      3615\n",
            "\n"
          ],
          "name": "stdout"
        }
      ]
    },
    {
      "cell_type": "markdown",
      "metadata": {
        "id": "KEQkx8iyIjV9",
        "colab_type": "text"
      },
      "source": [
        "Now trying the same RNN architecture with undersampled data. "
      ]
    },
    {
      "cell_type": "code",
      "metadata": {
        "id": "DjO7nBQ_GvuU",
        "colab_type": "code",
        "colab": {
          "base_uri": "https://localhost:8080/",
          "height": 168
        },
        "outputId": "e5dbacab-02e5-4baa-c480-f6d70e050ef5"
      },
      "source": [
        "X_train_rnn_und = pad_sequences(X_train_und, maxlen=500)\n",
        "X_test_rnn_und = pad_sequences(X_test_und, maxlen=500)\n",
        "\n",
        "history_rnn_und = model_rnn.fit(X_train_und, y_train_und, epochs =4, batch_size=200, validation_data=[X_test_und, y_test_und])"
      ],
      "execution_count": 167,
      "outputs": [
        {
          "output_type": "stream",
          "text": [
            "Train on 1406 samples, validate on 352 samples\n",
            "Epoch 1/4\n",
            "1406/1406 [==============================] - 4s 3ms/step - loss: 0.6503 - auroc: 0.6901 - val_loss: 0.5338 - val_auroc: 0.8814\n",
            "Epoch 2/4\n",
            "1406/1406 [==============================] - 3s 2ms/step - loss: 0.2874 - auroc: 0.9935 - val_loss: 0.3526 - val_auroc: 0.9394\n",
            "Epoch 3/4\n",
            "1406/1406 [==============================] - 3s 2ms/step - loss: 0.1788 - auroc: 0.9983 - val_loss: 0.3624 - val_auroc: 0.9374\n",
            "Epoch 4/4\n",
            "1406/1406 [==============================] - 2s 2ms/step - loss: 0.1285 - auroc: 0.9997 - val_loss: 0.3649 - val_auroc: 0.9292\n"
          ],
          "name": "stdout"
        }
      ]
    },
    {
      "cell_type": "markdown",
      "metadata": {
        "id": "MUmkTUZwIzE3",
        "colab_type": "text"
      },
      "source": [
        "We see that the performance has improved but still doesnt beat our feed forward network of custom trained embedding layer"
      ]
    },
    {
      "cell_type": "code",
      "metadata": {
        "id": "kw6jY22gGvS9",
        "colab_type": "code",
        "colab": {
          "base_uri": "https://localhost:8080/",
          "height": 202
        },
        "outputId": "1f0b2e56-8669-49bc-ad61-a9fd5c9318df"
      },
      "source": [
        "y_pred_rnn_und = model_rnn.predict_classes(X_test_und)\n",
        "\n",
        "print(confusion_matrix(y_pred_rnn_und, y_test_und.values))\n",
        "print(classification_report(y_pred_rnn_und, y_test_und.values))"
      ],
      "execution_count": 169,
      "outputs": [
        {
          "output_type": "stream",
          "text": [
            "[[164  25]\n",
            " [ 19 144]]\n",
            "              precision    recall  f1-score   support\n",
            "\n",
            "           0       0.90      0.87      0.88       189\n",
            "           1       0.85      0.88      0.87       163\n",
            "\n",
            "    accuracy                           0.88       352\n",
            "   macro avg       0.87      0.88      0.87       352\n",
            "weighted avg       0.88      0.88      0.88       352\n",
            "\n"
          ],
          "name": "stdout"
        }
      ]
    },
    {
      "cell_type": "markdown",
      "metadata": {
        "id": "WZiU06KdGtgL",
        "colab_type": "text"
      },
      "source": [
        "#LSTM with custom embedding\n",
        "\n",
        "Now lets test one last model by replacing simple RNN cells with LSTM cell. LSTM cells have a forget and keep gate . These cells have a tendency to keep much larger sequence reprsentation as compared to a simple RNN"
      ]
    },
    {
      "cell_type": "code",
      "metadata": {
        "id": "212GbE17JArf",
        "colab_type": "code",
        "colab": {}
      },
      "source": [
        "X_train_lstm = pad_sequences(X_train_k, maxlen=800)\n",
        "X_test_lstm = pad_sequences(X_test_k, maxlen=800)"
      ],
      "execution_count": 0,
      "outputs": []
    },
    {
      "cell_type": "code",
      "metadata": {
        "id": "o6a7z5eZKG9q",
        "colab_type": "code",
        "outputId": "afa629b3-b6f2-43fa-adab-1aca9e0e104b",
        "colab": {
          "base_uri": "https://localhost:8080/",
          "height": 235
        }
      },
      "source": [
        "model_lstm = Sequential()\n",
        "model_lstm.add(Embedding(10000,100))\n",
        "model_lstm.add(LSTM(48,recurrent_dropout= 0.3))\n",
        "model_lstm.add(Dense(1, activation='sigmoid'))\n",
        "model_lstm.compile(optimizer='Adam', loss='binary_crossentropy', metrics =[auroc])\n",
        "model_lstm.summary()\n"
      ],
      "execution_count": 198,
      "outputs": [
        {
          "output_type": "stream",
          "text": [
            "_________________________________________________________________\n",
            "Layer (type)                 Output Shape              Param #   \n",
            "=================================================================\n",
            "embedding_9 (Embedding)      (None, None, 100)         1000000   \n",
            "_________________________________________________________________\n",
            "lstm_6 (LSTM)                (None, 48)                28608     \n",
            "_________________________________________________________________\n",
            "dense_21 (Dense)             (None, 1)                 49        \n",
            "=================================================================\n",
            "Total params: 1,028,657\n",
            "Trainable params: 1,028,657\n",
            "Non-trainable params: 0\n",
            "_________________________________________________________________\n"
          ],
          "name": "stdout"
        }
      ]
    },
    {
      "cell_type": "code",
      "metadata": {
        "id": "4hRmbe_AK9Rt",
        "colab_type": "code",
        "outputId": "1245d61e-843b-48cf-f958-15f12f3dc37a",
        "colab": {
          "base_uri": "https://localhost:8080/",
          "height": 168
        }
      },
      "source": [
        "|history_lstm = model_lstm.fit(X_train_lstm, y_train_k, epochs =4, batch_size=512, validation_data=[X_test_lstm, y_test_k])"
      ],
      "execution_count": 0,
      "outputs": [
        {
          "output_type": "stream",
          "text": [
            "Train on 14460 samples, validate on 3615 samples\n",
            "Epoch 1/4\n",
            "14460/14460 [==============================] - 131s 9ms/step - loss: 0.4347 - auroc: 0.6398 - val_loss: 0.2649 - val_auroc: 0.8816\n",
            "Epoch 2/4\n",
            "14460/14460 [==============================] - 123s 8ms/step - loss: 0.2117 - auroc: 0.7912 - val_loss: 0.2018 - val_auroc: 0.9342\n",
            "Epoch 3/4\n",
            "14460/14460 [==============================] - 123s 9ms/step - loss: 0.1405 - auroc: 0.9425 - val_loss: 0.1069 - val_auroc: 0.9585\n",
            "Epoch 4/4\n",
            "14460/14460 [==============================] - 124s 9ms/step - loss: 0.0767 - auroc: 0.9774 - val_loss: 0.0892 - val_auroc: 0.9678\n"
          ],
          "name": "stdout"
        }
      ]
    },
    {
      "cell_type": "code",
      "metadata": {
        "id": "NcYrtXaBLWqZ",
        "colab_type": "code",
        "colab": {}
      },
      "source": [
        "y_pred_lstm = model_lstm.predict_classes(X_test_lstm)"
      ],
      "execution_count": 0,
      "outputs": []
    },
    {
      "cell_type": "code",
      "metadata": {
        "id": "YvNRSpZcMfHe",
        "colab_type": "code",
        "outputId": "7df45ce9-c132-4f61-e2a7-d802b4bd77b2",
        "colab": {
          "base_uri": "https://localhost:8080/",
          "height": 202
        }
      },
      "source": [
        "print(confusion_matrix(y_pred_lstm, y_test_k.values))\n",
        "print(classification_report(y_pred_lstm, y_test_k.values))"
      ],
      "execution_count": 0,
      "outputs": [
        {
          "output_type": "stream",
          "text": [
            "[[3343   71]\n",
            " [  33  168]]\n",
            "              precision    recall  f1-score   support\n",
            "\n",
            "           0       0.99      0.98      0.98      3414\n",
            "           1       0.70      0.84      0.76       201\n",
            "\n",
            "    accuracy                           0.97      3615\n",
            "   macro avg       0.85      0.91      0.87      3615\n",
            "weighted avg       0.97      0.97      0.97      3615\n",
            "\n"
          ],
          "name": "stdout"
        }
      ]
    },
    {
      "cell_type": "code",
      "metadata": {
        "id": "ihpXyfswNHVP",
        "colab_type": "code",
        "outputId": "0f3d4482-ceb1-4dbd-db35-6f3340f88a31",
        "colab": {
          "base_uri": "https://localhost:8080/",
          "height": 301
        }
      },
      "source": [
        "plt.plot(history_lstm.history['loss'])\n",
        "plt.plot(history_lstm.history['val_loss'])\n",
        "plt.title('model train vs validation loss')\n",
        "plt.ylabel('loss')\n",
        "plt.xlabel('epoch')\n",
        "plt.legend(['train','validation'], loc ='upper right')\n",
        "plt.show()"
      ],
      "execution_count": 0,
      "outputs": [
        {
          "output_type": "display_data",
          "data": {
            "image/png": "[encoded data removed]",
            "text/plain": [
              "<Figure size 432x288 with 1 Axes>"
            ]
          },
          "metadata": {
            "tags": []
          }
        }
      ]
    },
    {
      "cell_type": "markdown",
      "metadata": {
        "id": "rFyXOA95ODh6",
        "colab_type": "text"
      },
      "source": [
        "Now trying it with undersampled data using the same LST archtecture"
      ]
    },
    {
      "cell_type": "code",
      "metadata": {
        "id": "F7eE7Qb7Zr4M",
        "colab_type": "code",
        "colab": {
          "base_uri": "https://localhost:8080/",
          "height": 806
        },
        "outputId": "a179bfec-de34-4967-9523-1ae6c54e187f"
      },
      "source": [
        "X_train_lstm_und = pad_sequences(X_train_und, maxlen=300)\n",
        "X_test_lstm_und = pad_sequences(X_test_und, maxlen=300)\n",
        "\n",
        "history_lstm_und = model_lstm.fit(X_train_lstm_und, y_train_und, epochs =23, batch_size=512, validation_data=[X_test_lstm_und, y_test_und])\n",
        "\n"
      ],
      "execution_count": 199,
      "outputs": [
        {
          "output_type": "stream",
          "text": [
            "Train on 1406 samples, validate on 352 samples\n",
            "Epoch 1/23\n",
            "1406/1406 [==============================] - 7s 5ms/step - loss: 0.6927 - auroc: 0.5419 - val_loss: 0.6903 - val_auroc: 0.7157\n",
            "Epoch 2/23\n",
            "1406/1406 [==============================] - 4s 3ms/step - loss: 0.6860 - auroc: 0.8587 - val_loss: 0.6849 - val_auroc: 0.8289\n",
            "Epoch 3/23\n",
            "1406/1406 [==============================] - 4s 3ms/step - loss: 0.6765 - auroc: 0.9450 - val_loss: 0.6767 - val_auroc: 0.8708\n",
            "Epoch 4/23\n",
            "1406/1406 [==============================] - 4s 3ms/step - loss: 0.6622 - auroc: 0.9618 - val_loss: 0.6632 - val_auroc: 0.8948\n",
            "Epoch 5/23\n",
            "1406/1406 [==============================] - 4s 3ms/step - loss: 0.6391 - auroc: 0.9726 - val_loss: 0.6403 - val_auroc: 0.9115\n",
            "Epoch 6/23\n",
            "1406/1406 [==============================] - 4s 3ms/step - loss: 0.6019 - auroc: 0.9732 - val_loss: 0.6005 - val_auroc: 0.9259\n",
            "Epoch 7/23\n",
            "1406/1406 [==============================] - 4s 3ms/step - loss: 0.5378 - auroc: 0.9733 - val_loss: 0.5265 - val_auroc: 0.9370\n",
            "Epoch 8/23\n",
            "1406/1406 [==============================] - 4s 3ms/step - loss: 0.4375 - auroc: 0.9671 - val_loss: 0.3953 - val_auroc: 0.9474\n",
            "Epoch 9/23\n",
            "1406/1406 [==============================] - 4s 3ms/step - loss: 0.3354 - auroc: 0.9598 - val_loss: 0.3311 - val_auroc: 0.9495\n",
            "Epoch 10/23\n",
            "1406/1406 [==============================] - 4s 3ms/step - loss: 0.2717 - auroc: 0.9648 - val_loss: 0.3471 - val_auroc: 0.9505\n",
            "Epoch 11/23\n",
            "1406/1406 [==============================] - 4s 3ms/step - loss: 0.2447 - auroc: 0.9691 - val_loss: 0.2937 - val_auroc: 0.9626\n",
            "Epoch 12/23\n",
            "1406/1406 [==============================] - 4s 3ms/step - loss: 0.1993 - auroc: 0.9809 - val_loss: 0.2502 - val_auroc: 0.9697\n",
            "Epoch 13/23\n",
            "1406/1406 [==============================] - 4s 3ms/step - loss: 0.2017 - auroc: 0.9786 - val_loss: 0.2098 - val_auroc: 0.9729\n",
            "Epoch 14/23\n",
            "1406/1406 [==============================] - 4s 3ms/step - loss: 0.1494 - auroc: 0.9902 - val_loss: 0.2178 - val_auroc: 0.9698\n",
            "Epoch 15/23\n",
            "1406/1406 [==============================] - 4s 3ms/step - loss: 0.1342 - auroc: 0.9935 - val_loss: 0.2253 - val_auroc: 0.9684\n",
            "Epoch 16/23\n",
            "1406/1406 [==============================] - 4s 3ms/step - loss: 0.1211 - auroc: 0.9954 - val_loss: 0.2274 - val_auroc: 0.9682\n",
            "Epoch 17/23\n",
            "1406/1406 [==============================] - 4s 3ms/step - loss: 0.1080 - auroc: 0.9957 - val_loss: 0.2261 - val_auroc: 0.9694\n",
            "Epoch 18/23\n",
            "1406/1406 [==============================] - 4s 3ms/step - loss: 0.0879 - auroc: 0.9973 - val_loss: 0.2257 - val_auroc: 0.9715\n",
            "Epoch 19/23\n",
            "1406/1406 [==============================] - 4s 3ms/step - loss: 0.0791 - auroc: 0.9975 - val_loss: 0.2232 - val_auroc: 0.9741\n",
            "Epoch 20/23\n",
            "1406/1406 [==============================] - 4s 3ms/step - loss: 0.0692 - auroc: 0.9979 - val_loss: 0.2254 - val_auroc: 0.9748\n",
            "Epoch 21/23\n",
            "1406/1406 [==============================] - 4s 3ms/step - loss: 0.0679 - auroc: 0.9976 - val_loss: 0.2348 - val_auroc: 0.9746\n",
            "Epoch 22/23\n",
            "1406/1406 [==============================] - 4s 3ms/step - loss: 0.0469 - auroc: 0.9992 - val_loss: 0.2386 - val_auroc: 0.9741\n",
            "Epoch 23/23\n",
            "1406/1406 [==============================] - 4s 3ms/step - loss: 0.0506 - auroc: 0.9989 - val_loss: 0.2386 - val_auroc: 0.9733\n"
          ],
          "name": "stdout"
        }
      ]
    },
    {
      "cell_type": "code",
      "metadata": {
        "id": "wvyZpYyiKYGG",
        "colab_type": "code",
        "colab": {
          "base_uri": "https://localhost:8080/",
          "height": 301
        },
        "outputId": "e7dc49bb-74e3-4c38-db26-49da55842ecb"
      },
      "source": [
        "plt.plot(history_lstm_und.history['loss'])\n",
        "plt.plot(history_lstm_und.history['val_loss'])\n",
        "plt.title('model train vs validation loss')\n",
        "plt.ylabel('loss')\n",
        "plt.xlabel('epoch')\n",
        "plt.legend(['train','validation'], loc ='upper right')\n",
        "plt.show()"
      ],
      "execution_count": 200,
      "outputs": [
        {
          "output_type": "display_data",
          "data": {
            "image/png": "[encoded data removed]",
            "text/plain": [
              "<Figure size 432x288 with 1 Axes>"
            ]
          },
          "metadata": {
            "tags": []
          }
        }
      ]
    },
    {
      "cell_type": "code",
      "metadata": {
        "id": "AYd9ONWHKdax",
        "colab_type": "code",
        "colab": {}
      },
      "source": [
        "y_pred_lstm_und = model_lstm.predict_classes(X_test_lstm_und)"
      ],
      "execution_count": 0,
      "outputs": []
    },
    {
      "cell_type": "code",
      "metadata": {
        "id": "0gsHMd6DKc6o",
        "colab_type": "code",
        "colab": {
          "base_uri": "https://localhost:8080/",
          "height": 202
        },
        "outputId": "74559026-b688-4bdf-ee45-2efef08f6c95"
      },
      "source": [
        "print(confusion_matrix(y_pred_lstm_und, y_test_und.values))\n",
        "print(classification_report(y_pred_lstm_und, y_test_und.values))"
      ],
      "execution_count": 202,
      "outputs": [
        {
          "output_type": "stream",
          "text": [
            "[[166  10]\n",
            " [ 17 159]]\n",
            "              precision    recall  f1-score   support\n",
            "\n",
            "           0       0.91      0.94      0.92       176\n",
            "           1       0.94      0.90      0.92       176\n",
            "\n",
            "    accuracy                           0.92       352\n",
            "   macro avg       0.92      0.92      0.92       352\n",
            "weighted avg       0.92      0.92      0.92       352\n",
            "\n"
          ],
          "name": "stdout"
        }
      ]
    },
    {
      "cell_type": "markdown",
      "metadata": {
        "id": "BlXP4L6XO349",
        "colab_type": "text"
      },
      "source": [
        "Our best model has been a feed forward neural network with a f1 score of 98% using our own custom-embedding"
      ]
    },
    {
      "cell_type": "code",
      "metadata": {
        "id": "9lyPoE6iLTeW",
        "colab_type": "code",
        "colab": {}
      },
      "source": [
        ""
      ],
      "execution_count": 0,
      "outputs": []
    }
  ]
}