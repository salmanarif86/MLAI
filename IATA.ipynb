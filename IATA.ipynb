{
  "nbformat": 4,
  "nbformat_minor": 0,
  "metadata": {
    "colab": {
      "name": "IATA.ipynb",
      "version": "0.3.2",
      "provenance": [],
      "collapsed_sections": [],
      "toc_visible": true,
      "include_colab_link": true
    },
    "kernelspec": {
      "name": "python3",
      "display_name": "Python 3"
    }
  },
  "cells": [
    {
      "cell_type": "markdown",
      "metadata": {
        "id": "view-in-github",
        "colab_type": "text"
      },
      "source": [
        "<a href=\"https://colab.research.google.com/github/salmanarif86/MLAI/blob/master/IATA.ipynb\" target=\"_parent\"><img src=\"https://colab.research.google.com/assets/colab-badge.svg\" alt=\"Open In Colab\"/></a>"
      ]
    },
    {
      "cell_type": "code",
      "metadata": {
        "id": "07e3hIjmgwyW",
        "colab_type": "code",
        "colab": {}
      },
      "source": [
        "!pip install spacy_cld"
      ],
      "execution_count": 0,
      "outputs": []
    },
    {
      "cell_type": "code",
      "metadata": {
        "id": "OSNaS4KPhCmJ",
        "colab_type": "code",
        "colab": {}
      },
      "source": [
        "!pip install spacy-langdetect"
      ],
      "execution_count": 0,
      "outputs": []
    },
    {
      "cell_type": "markdown",
      "metadata": {
        "id": "xmnoOnvhCVoP",
        "colab_type": "text"
      },
      "source": [
        "### The following program is a attempt to perform multiclass, multiple classification problem. I am attempting to use modern NLP techniques to solve this classfication problem. This is a dataset provided by IATA with incidents summary provided by passengers in about 10 different languages. The incidents are then classified which has been provided to us as labelled data set. I will first identify languages using SpaCy and then translate the language to English using google's NLP language translation API. The next step would be to use pre-trained word embedding GloVe to get a vector reprsentation of all the text in my training set and then use logistic, svm and XGBoost to train my model. Since it is a multi label classifcation problem it has to be strutured as 22 indiviual binary classification problem. 22 because there are a total of 22 target labels in the dataset.\n",
        "\n",
        "### My next step would be to use a LSTM network to perform the same classification problem. I will also attempt to use Keras embedding layer to train my embedding from scratch and  check the peroformance of my classiication task. I will also create my own word2vec model using the dataset I have and see if there is any performance imporovement"
      ]
    },
    {
      "cell_type": "markdown",
      "metadata": {
        "id": "pBmQSD7AGRS-",
        "colab_type": "text"
      },
      "source": [
        "import all important packages including the LanguageDetector provided natively by SpaCy"
      ]
    },
    {
      "cell_type": "code",
      "metadata": {
        "id": "WS_7_7sBOP6t",
        "colab_type": "code",
        "colab": {}
      },
      "source": [
        "import numpy as np\n",
        "import pandas as pd\n",
        "import matplotlib.pyplot as plt\n",
        "import seaborn as sns\n",
        "import spacy\n",
        "from spacy_cld import LanguageDetector\n",
        "sns.set()"
      ],
      "execution_count": 0,
      "outputs": []
    },
    {
      "cell_type": "markdown",
      "metadata": {
        "id": "nvX6wNVuJDkz",
        "colab_type": "text"
      },
      "source": [
        "The first step is to create a dataframe by importing .csv file and using latin encoding as there are quite a few other languages than english. This i found to be the best way to import data when we have other roman languages"
      ]
    },
    {
      "cell_type": "code",
      "metadata": {
        "id": "V7wvtxttOzyn",
        "colab_type": "code",
        "colab": {}
      },
      "source": [
        "df = pd.read_csv('IATA.csv',encoding='latin1')"
      ],
      "execution_count": 0,
      "outputs": []
    },
    {
      "cell_type": "markdown",
      "metadata": {
        "id": "yFbedkq5J9Rj",
        "colab_type": "text"
      },
      "source": [
        "My first step is to quickly see the shape of my dataframe. This gives me quick access to the number of examples and features that I will be dealing with"
      ]
    },
    {
      "cell_type": "code",
      "metadata": {
        "id": "61Ig2s0qO-I9",
        "colab_type": "code",
        "outputId": "f4a7fd57-c31a-4a9f-bca0-05f07dc37cb0",
        "colab": {
          "base_uri": "https://localhost:8080/",
          "height": 34
        }
      },
      "source": [
        "df.shape"
      ],
      "execution_count": 0,
      "outputs": [
        {
          "output_type": "execute_result",
          "data": {
            "text/plain": [
              "(20000, 25)"
            ]
          },
          "metadata": {
            "tags": []
          },
          "execution_count": 6
        }
      ]
    },
    {
      "cell_type": "markdown",
      "metadata": {
        "id": "uudSbDq7KPU_",
        "colab_type": "text"
      },
      "source": [
        "Then i will check the data completeness to see if I have missing data. Looks like i have 16 missing Summary descriptions and 5 missing event titles. However compared to the 20000 examples that I have its safe to drop these rows"
      ]
    },
    {
      "cell_type": "code",
      "metadata": {
        "id": "zQzrLWpBPQRr",
        "colab_type": "code",
        "outputId": "1d1d8b8e-b6c8-481d-8e6e-0301726cee79",
        "colab": {
          "base_uri": "https://localhost:8080/",
          "height": 454
        }
      },
      "source": [
        "df.isna().sum()"
      ],
      "execution_count": 0,
      "outputs": [
        {
          "output_type": "execute_result",
          "data": {
            "text/plain": [
              "Report ID                           0\n",
              "EventTitle                          5\n",
              "Summary                            16\n",
              "Altitude Deviation                  0\n",
              "Birdstrike                          0\n",
              "Deep Landing                        0\n",
              "EGPWS                               0\n",
              "Hard/Heavy Landing                  0\n",
              "Runway/Taxiway Incursion            0\n",
              "Rejected Take Off                   0\n",
              "Stall Warning                       0\n",
              "TCAS                                0\n",
              "Unstable Approach                   0\n",
              "Cabin Fire/Smoke/Fumes              0\n",
              "Inadvertant Slide Deployment        0\n",
              "Passenger and Cabin Crew Injury     0\n",
              "Rapid Deplaning and Evacuation      0\n",
              "Turbulence                          0\n",
              "Brakes and Steering                 0\n",
              "Cabin Pressurization                0\n",
              "Engine Surge and Stall              0\n",
              "Engine Shutdown                     0\n",
              "Flight Controls                     0\n",
              "ATC Service Standard                0\n",
              "Security                            0\n",
              "dtype: int64"
            ]
          },
          "metadata": {
            "tags": []
          },
          "execution_count": 7
        }
      ]
    },
    {
      "cell_type": "code",
      "metadata": {
        "id": "8V-PjnXTPp5r",
        "colab_type": "code",
        "colab": {}
      },
      "source": [
        "df.dropna(subset=['Summary','EventTitle'],inplace=True)"
      ],
      "execution_count": 0,
      "outputs": []
    },
    {
      "cell_type": "code",
      "metadata": {
        "id": "CLZ_qcNZQjUU",
        "colab_type": "code",
        "colab": {}
      },
      "source": [
        "df.reset_index(drop =True, inplace=True)\n"
      ],
      "execution_count": 0,
      "outputs": []
    },
    {
      "cell_type": "markdown",
      "metadata": {
        "id": "TRawuTuOLdzT",
        "colab_type": "text"
      },
      "source": [
        "Loading the LanguageDectotor package from SpaCy ,instantiating and then addidng this to the pipeline"
      ]
    },
    {
      "cell_type": "code",
      "metadata": {
        "id": "kPCowMghS_36",
        "colab_type": "code",
        "colab": {}
      },
      "source": [
        "nlp = spacy.load('en')"
      ],
      "execution_count": 0,
      "outputs": []
    },
    {
      "cell_type": "code",
      "metadata": {
        "id": "9y_t27HDUQAK",
        "colab_type": "code",
        "colab": {}
      },
      "source": [
        "\n",
        "language_detector = LanguageDetector()"
      ],
      "execution_count": 0,
      "outputs": []
    },
    {
      "cell_type": "code",
      "metadata": {
        "id": "pBO0gdTFUCWe",
        "colab_type": "code",
        "colab": {}
      },
      "source": [
        "nlp.add_pipe(language_detector)"
      ],
      "execution_count": 0,
      "outputs": []
    },
    {
      "cell_type": "markdown",
      "metadata": {
        "id": "7pksJTa6L9Jr",
        "colab_type": "text"
      },
      "source": [
        "Function to remove all ascii characters"
      ]
    },
    {
      "cell_type": "code",
      "metadata": {
        "id": "QSll_csfdvRW",
        "colab_type": "code",
        "colab": {}
      },
      "source": [
        "def remove_non_ascii(text):\n",
        "    return ''.join(i for i in text if ord(i)<128)\n",
        " \n"
      ],
      "execution_count": 0,
      "outputs": []
    },
    {
      "cell_type": "code",
      "metadata": {
        "id": "dlk5X3iagzBe",
        "colab_type": "code",
        "colab": {}
      },
      "source": [
        "df['Summary'] = df['Summary'].apply(remove_non_ascii)"
      ],
      "execution_count": 0,
      "outputs": []
    },
    {
      "cell_type": "markdown",
      "metadata": {
        "id": "FmREzShbMEZA",
        "colab_type": "text"
      },
      "source": [
        "Applying the language Detection pipeline to the summary column of our database. Creating a list of all the languages corresponding to each row of our summary data and then putting this altogether in a dataframe"
      ]
    },
    {
      "cell_type": "code",
      "metadata": {
        "id": "eOxYyNTOg3Qf",
        "colab_type": "code",
        "colab": {}
      },
      "source": [
        "docx = df['Summary'].apply(nlp)"
      ],
      "execution_count": 0,
      "outputs": []
    },
    {
      "cell_type": "code",
      "metadata": {
        "id": "42kQX2Feg-cX",
        "colab_type": "code",
        "colab": {}
      },
      "source": [
        "languages=[]\n",
        "for i in docx:\n",
        "  languages.append(i._.languages)"
      ],
      "execution_count": 0,
      "outputs": []
    },
    {
      "cell_type": "code",
      "metadata": {
        "id": "86W9iRXvheAK",
        "colab_type": "code",
        "colab": {}
      },
      "source": [
        "df_lang = pd.DataFrame(languages)\n"
      ],
      "execution_count": 0,
      "outputs": []
    },
    {
      "cell_type": "code",
      "metadata": {
        "id": "T5r1__LznEE6",
        "colab_type": "code",
        "colab": {}
      },
      "source": [
        "df_lang.rename(index= str, columns={0: 'Language', 1: 'Language2'},inplace=True)"
      ],
      "execution_count": 0,
      "outputs": []
    },
    {
      "cell_type": "code",
      "metadata": {
        "id": "0YUM5Oy4ocVH",
        "colab_type": "code",
        "outputId": "3ab8e81a-e23a-45aa-bc42-96a866bd6b1d",
        "colab": {
          "base_uri": "https://localhost:8080/",
          "height": 35
        }
      },
      "source": [
        "df_lang.shape"
      ],
      "execution_count": 0,
      "outputs": [
        {
          "output_type": "execute_result",
          "data": {
            "text/plain": [
              "(19979, 2)"
            ]
          },
          "metadata": {
            "tags": []
          },
          "execution_count": 55
        }
      ]
    },
    {
      "cell_type": "code",
      "metadata": {
        "id": "VRS7BM5Po32Y",
        "colab_type": "code",
        "outputId": "64cb1c70-a22e-40dd-b270-fa24c8b379a6",
        "colab": {
          "base_uri": "https://localhost:8080/",
          "height": 54
        }
      },
      "source": [
        "df_lang['Language'].unique()"
      ],
      "execution_count": 0,
      "outputs": [
        {
          "output_type": "execute_result",
          "data": {
            "text/plain": [
              "array(['en', 'es', 'fr', 'pt', None, 'de', 'gl', 'is', 'tr', 'nl', 'da',\n",
              "       'sv', 'cs', 'fi', 'ia', 'hu', 'gd', 'nn', 'la'], dtype=object)"
            ]
          },
          "metadata": {
            "tags": []
          },
          "execution_count": 56
        }
      ]
    },
    {
      "cell_type": "code",
      "metadata": {
        "id": "WeNt0GvBw7h_",
        "colab_type": "code",
        "colab": {}
      },
      "source": [
        "df_lang['LangMap']=df_lang['Language'].map({'en' :'Engllish','es':'Español','fr':'French','pt':'Portuguese','de':'German','gl':'Galician','is':'Icelandic','tr':'Turkish',\n",
        "                        'nl':'Dutch','sv' : 'Swedish','cs' : 'Czech','fi' :'Finnish', 'ia':'Interlingua','hu':'Hungarian','gd':'Gaelic','nn':'Norwegian Nynorsk','la':'Latin'})\n"
      ],
      "execution_count": 0,
      "outputs": []
    },
    {
      "cell_type": "code",
      "metadata": {
        "id": "9YCVPOSip657",
        "colab_type": "code",
        "colab": {}
      },
      "source": [
        "df_merge= pd.concat([df, df_lang], axis = 1)"
      ],
      "execution_count": 0,
      "outputs": []
    },
    {
      "cell_type": "code",
      "metadata": {
        "id": "ejTSuhnFqnSH",
        "colab_type": "code",
        "outputId": "4e20b9f6-dbbd-4123-f9b1-9a4f0947f07c",
        "colab": {
          "base_uri": "https://localhost:8080/",
          "height": 35
        }
      },
      "source": [
        "df_lang.reset_index(drop =True, inplace=True)\n"
      ],
      "execution_count": 0,
      "outputs": [
        {
          "output_type": "execute_result",
          "data": {
            "text/plain": [
              "RangeIndex(start=0, stop=19979, step=1)"
            ]
          },
          "metadata": {
            "tags": []
          },
          "execution_count": 64
        }
      ]
    },
    {
      "cell_type": "code",
      "metadata": {
        "id": "e-3UhGJmq3Qq",
        "colab_type": "code",
        "colab": {}
      },
      "source": [
        "df_merge = df.merge(df_lang,left_index=True, right_index=True)"
      ],
      "execution_count": 0,
      "outputs": []
    },
    {
      "cell_type": "code",
      "metadata": {
        "id": "ehgouVKt4yS7",
        "colab_type": "code",
        "colab": {}
      },
      "source": [
        "df_final = df_merge[['Report ID',\n",
        " 'EventTitle',\n",
        " 'Summary',\n",
        " 'LangMap',\n",
        " 'Altitude Deviation',\n",
        " 'Birdstrike',\n",
        " 'Deep Landing',\n",
        " 'EGPWS',\n",
        " 'Hard/Heavy Landing',\n",
        " 'Runway/Taxiway Incursion',\n",
        " 'Rejected Take Off',\n",
        " 'Stall Warning',\n",
        " 'TCAS',\n",
        " 'Unstable Approach',\n",
        " 'Cabin Fire/Smoke/Fumes',\n",
        " 'Inadvertant Slide Deployment',\n",
        " 'Passenger and Cabin Crew Injury',\n",
        " 'Rapid Deplaning and Evacuation',\n",
        " 'Turbulence',\n",
        " 'Brakes and Steering',\n",
        " 'Cabin Pressurization',\n",
        " 'Engine Surge and Stall',\n",
        " 'Engine Shutdown',\n",
        " 'Flight Controls',\n",
        " 'ATC Service Standard',\n",
        " 'Security',\n",
        " 'Language',\n",
        " 'Language2',\n",
        "]]"
      ],
      "execution_count": 0,
      "outputs": []
    },
    {
      "cell_type": "code",
      "metadata": {
        "id": "k5wFkubTJk83",
        "colab_type": "code",
        "outputId": "05ec1aff-156b-4883-92cb-61470bc7c1ff",
        "colab": {
          "base_uri": "https://localhost:8080/",
          "height": 55
        }
      },
      "source": [
        "df_merge[df_merge['LangMap'] == 'Czech'].loc[4475]['Summary']"
      ],
      "execution_count": 0,
      "outputs": [
        {
          "output_type": "execute_result",
          "data": {
            "text/plain": [
              "'cas cca 4:20 utc- upozorneni od cestujiciho sediciho na leve strane u motoru na unik kapaliny z leveho motoru- f / o provedl vizualni kontrolu a potvrdil unik kapaliny tekouci po spodni zadni casti krytu motoru- ******************* vizualni kontrolu, s potvrzenim uniku. tekouci cira kapalina po krytu motoru- *************************************** ******** ********* ve fl190. komunikace s atc - ***************** situace konzultovana s opc a mcc - v celem case probihala komunika s vk o vznikle situaci- f / o provedl jeste jednou vizualni kontrolu se stejnym zjistenim- cptosobne oznamil vk o nutnosti vypnout levy motor a vyhlasil pripravu kabiny na nouzovou situaci, s navratem do prg. max 20 min na pripravu- ************* *************** vyhlasen pan pan pan a nasledne klesani do fl100 a direct *************** single engine operation checklist- na atc oznameno pocet cestujicich, *************** na palube a dg (zadne) a viditelny unik paliva z leveho motoru- ****** ************** cca ve fl100- cptprovedl hlaseni cestujicim- ils 06- provedeno standardni hlaseni pro ccv prubehu priblizeni- po pristani zastaveni na draze na urovni twy l a provedena vizualni kontrola leveho motoru hzs a nasledna komunikace s hzs na 121. 6- pojizdeni na stojanku a podekovani cestujicim za spolupraci- ****** cestujich do autobusu- pohovor s fsq a alko test- ******** ***************** a nasledne pokracovani sluzby'"
            ]
          },
          "metadata": {
            "tags": []
          },
          "execution_count": 70
        }
      ]
    },
    {
      "cell_type": "code",
      "metadata": {
        "id": "QzO60fZ25XoJ",
        "colab_type": "code",
        "outputId": "85895408-f32f-477b-dfac-988fbbb4fe32",
        "colab": {
          "base_uri": "https://localhost:8080/",
          "height": 50
        }
      },
      "source": [
        "import spacy.cli\n",
        "spacy.cli.download(\"en_core_web_lg\")"
      ],
      "execution_count": 0,
      "outputs": [
        {
          "output_type": "stream",
          "text": [
            "\u001b[38;5;2m✔ Download and installation successful\u001b[0m\n",
            "You can now load the model via spacy.load('en_core_web_lg')\n"
          ],
          "name": "stdout"
        }
      ]
    },
    {
      "cell_type": "markdown",
      "metadata": {
        "id": "hhjp4eA6Xxt2",
        "colab_type": "text"
      },
      "source": [
        "# New Section"
      ]
    },
    {
      "cell_type": "code",
      "metadata": {
        "id": "qg7s3Xlbmvqo",
        "colab_type": "code",
        "colab": {}
      },
      "source": [
        "from google.cloud import translate_v2\n",
        "from google.cloud import storage\n",
        "#client = translate.Client.from_service_account_json('/content/My First Project-da1df09996b6.json')\n",
        "import os\n",
        "os.environ[\"GOOGLE_APPLICATION_CREDENTIALS\"] = \"/content/My First Project-da1df09996b6.json\""
      ],
      "execution_count": 0,
      "outputs": []
    },
    {
      "cell_type": "code",
      "metadata": {
        "id": "ufze5ygVq-yl",
        "colab_type": "code",
        "colab": {}
      },
      "source": [
        "def translate_text(text, target ='en'):\n",
        "  translation = translate_client.translate(text, target_language= target)\n",
        "  return translation['translatedText']\n",
        "  "
      ],
      "execution_count": 0,
      "outputs": []
    },
    {
      "cell_type": "code",
      "metadata": {
        "id": "iLCF4jJey8aH",
        "colab_type": "code",
        "colab": {}
      },
      "source": [
        "df_final['Trans']=df_final[df_final['LangMap']=='Turkish']['Summary'].apply(lambda x : translate_text(x))\n",
        "#df_final['Trans']=df_final[df_final['LangMap']=='Latin']['Summary'].apply(lambda x : translate_text(x))\n",
        "\n",
        "df_test1 = df_final"
      ],
      "execution_count": 0,
      "outputs": []
    },
    {
      "cell_type": "code",
      "metadata": {
        "id": "YttSirKhz5zv",
        "colab_type": "code",
        "colab": {}
      },
      "source": [
        "df_test1['Trans']=df_test1[['Summary','LangMap','Trans']].apply(lambda x : translate_text(x['Summary']) if x['LangMap']=='Latin' else x['Trans'], axis = 1)"
      ],
      "execution_count": 0,
      "outputs": []
    },
    {
      "cell_type": "code",
      "metadata": {
        "id": "DMyPwysDGBRQ",
        "colab_type": "code",
        "colab": {}
      },
      "source": [
        "df_test1['Trans']=df_test1[['Summary','LangMap','Trans']].apply(lambda x : translate_text(x['Summary']) if x['LangMap']=='Hungarian' else x['Trans'], axis = 1)"
      ],
      "execution_count": 0,
      "outputs": []
    },
    {
      "cell_type": "code",
      "metadata": {
        "id": "PyfSDUIBGVs3",
        "colab_type": "code",
        "colab": {}
      },
      "source": [
        "df_test1['Trans']=df_test1[['Summary','LangMap','Trans']].apply(lambda x : translate_text(x['Summary']) if x['LangMap']=='Norwegian Nynorsk' else x['Trans'], axis = 1)"
      ],
      "execution_count": 0,
      "outputs": []
    },
    {
      "cell_type": "code",
      "metadata": {
        "id": "jQqebo7HGbbl",
        "colab_type": "code",
        "colab": {}
      },
      "source": [
        "df_test1['Trans']=df_test1[['Summary','LangMap','Trans']].apply(lambda x : translate_text(x['Summary']) if x['LangMap']=='Gaelic' else x['Trans'], axis = 1)"
      ],
      "execution_count": 0,
      "outputs": []
    },
    {
      "cell_type": "code",
      "metadata": {
        "id": "oc8H5jrFGnD-",
        "colab_type": "code",
        "colab": {}
      },
      "source": [
        "df_test1['Trans']=df_test1[['Summary','LangMap','Trans']].apply(lambda x : translate_text(x['Summary']) if x['LangMap']=='Icelandic' else x['Trans'], axis = 1)"
      ],
      "execution_count": 0,
      "outputs": []
    },
    {
      "cell_type": "code",
      "metadata": {
        "id": "nvkt5OMHGxA9",
        "colab_type": "code",
        "colab": {}
      },
      "source": [
        "df_test1['Trans']=df_test1[['Summary','LangMap','Trans']].apply(lambda x : translate_text(x['Summary']) if x['LangMap']=='Interlingua' else x['Trans'], axis = 1)"
      ],
      "execution_count": 0,
      "outputs": []
    },
    {
      "cell_type": "code",
      "metadata": {
        "id": "Hg1HeyG7G77Z",
        "colab_type": "code",
        "colab": {}
      },
      "source": [
        "df_test1['Trans']=df_test1[['Summary','LangMap','Trans']].apply(lambda x : translate_text(x['Summary']) if x['LangMap']=='Finnish' else x['Trans'], axis = 1)"
      ],
      "execution_count": 0,
      "outputs": []
    },
    {
      "cell_type": "code",
      "metadata": {
        "id": "6HqTWc9rHDcv",
        "colab_type": "code",
        "colab": {}
      },
      "source": [
        "df_test1['Trans']=df_test1[['Summary','LangMap','Trans']].apply(lambda x : translate_text(x['Summary']) if x['LangMap']=='Czech' else x['Trans'], axis = 1)"
      ],
      "execution_count": 0,
      "outputs": []
    },
    {
      "cell_type": "code",
      "metadata": {
        "id": "q5o8ppswHKF3",
        "colab_type": "code",
        "colab": {}
      },
      "source": [
        "df_test1['Trans']=df_test1[['Summary','LangMap','Trans']].apply(lambda x : translate_text(x['Summary']) if x['LangMap']=='Swedish' else x['Trans'], axis = 1)"
      ],
      "execution_count": 0,
      "outputs": []
    },
    {
      "cell_type": "code",
      "metadata": {
        "id": "lbeh_nUQHQGP",
        "colab_type": "code",
        "colab": {}
      },
      "source": [
        "df_test1['Trans']=df_test1[['Summary','LangMap','Trans']].apply(lambda x : translate_text(x['Summary']) if x['LangMap']=='Dutch' else x['Trans'], axis = 1)"
      ],
      "execution_count": 0,
      "outputs": []
    },
    {
      "cell_type": "code",
      "metadata": {
        "id": "LeHk8x2GHZLx",
        "colab_type": "code",
        "colab": {}
      },
      "source": [
        "df_test1['Trans']=df_test1[['Summary','LangMap','Trans']].apply(lambda x : translate_text(x['Summary']) if x['LangMap']=='German' else x['Trans'], axis = 1)"
      ],
      "execution_count": 0,
      "outputs": []
    },
    {
      "cell_type": "code",
      "metadata": {
        "id": "Lm-tkShZH45b",
        "colab_type": "code",
        "colab": {}
      },
      "source": [
        "df_test1['Trans']=df_test1[['Summary','LangMap','Trans']].apply(lambda x : translate_text(x['Summary']) if x['LangMap']=='Galician' else x['Trans'], axis = 1)"
      ],
      "execution_count": 0,
      "outputs": []
    },
    {
      "cell_type": "code",
      "metadata": {
        "id": "Qr1i9bYhH_pM",
        "colab_type": "code",
        "colab": {}
      },
      "source": [
        "df_test1['Trans']=df_test1[['Summary','LangMap','Trans']].apply(lambda x : translate_text(x['Summary']) if x['LangMap']=='Portuguese' else x['Trans'], axis = 1)"
      ],
      "execution_count": 0,
      "outputs": []
    },
    {
      "cell_type": "code",
      "metadata": {
        "id": "nlRM_00aOkX_",
        "colab_type": "code",
        "colab": {}
      },
      "source": [
        "df_test1['Trans']=df_test1[['Summary','LangMap','Trans']].apply(lambda x : x['Summary'] if x['LangMap']=='Engllish' else x['Trans'], axis = 1)"
      ],
      "execution_count": 0,
      "outputs": []
    },
    {
      "cell_type": "code",
      "metadata": {
        "id": "_6LhSfbtDM9j",
        "colab_type": "code",
        "colab": {}
      },
      "source": [
        "df_test.columns.values"
      ],
      "execution_count": 0,
      "outputs": []
    },
    {
      "cell_type": "code",
      "metadata": {
        "id": "zycd4FtRO5tE",
        "colab_type": "code",
        "colab": {}
      },
      "source": [
        "df_test1 = df_test1[['Report ID', 'EventTitle', 'Summary', 'LangMap','Trans',\n",
        "       'Altitude Deviation', 'Birdstrike', 'Deep Landing', 'EGPWS',\n",
        "       'Hard/Heavy Landing', 'Runway/Taxiway Incursion',\n",
        "       'Rejected Take Off', 'Stall Warning', 'TCAS', 'Unstable Approach',\n",
        "       'Cabin Fire/Smoke/Fumes', 'Inadvertant Slide Deployment',\n",
        "       'Passenger and Cabin Crew Injury',\n",
        "       'Rapid Deplaning and Evacuation', 'Turbulence',\n",
        "       'Brakes and Steering', 'Cabin Pressurization',\n",
        "       'Engine Surge and Stall', 'Engine Shutdown', 'Flight Controls',\n",
        "       'ATC Service Standard', 'Security', 'Language', 'Language2']]"
      ],
      "execution_count": 0,
      "outputs": []
    },
    {
      "cell_type": "code",
      "metadata": {
        "id": "wnkz7moBPFpz",
        "colab_type": "code",
        "colab": {}
      },
      "source": [
        "df_test1.to_csv('IATA_transformed.csv')"
      ],
      "execution_count": 0,
      "outputs": []
    },
    {
      "cell_type": "code",
      "metadata": {
        "id": "AgvxKBLvPIRz",
        "colab_type": "code",
        "outputId": "7275f4fe-5b4d-43c2-d6ec-88cd638f426d",
        "colab": {
          "base_uri": "https://localhost:8080/",
          "height": 35
        }
      },
      "source": [
        "df_test1[df_test1['LangMap']=='French'].shape"
      ],
      "execution_count": 0,
      "outputs": [
        {
          "output_type": "execute_result",
          "data": {
            "text/plain": [
              "(153, 29)"
            ]
          },
          "metadata": {
            "tags": []
          },
          "execution_count": 254
        }
      ]
    },
    {
      "cell_type": "code",
      "metadata": {
        "id": "oiDVfl1EUU9l",
        "colab_type": "code",
        "colab": {}
      },
      "source": [
        "df_translation = pd.read_csv('IATA_transformed.csv', index_col=0)"
      ],
      "execution_count": 0,
      "outputs": []
    },
    {
      "cell_type": "code",
      "metadata": {
        "id": "UF8mOjmO4JqX",
        "colab_type": "code",
        "outputId": "ad6e7d48-c9be-49e6-c7a1-d1367b1c489f",
        "colab": {
          "base_uri": "https://localhost:8080/",
          "height": 635
        }
      },
      "source": [
        "df_translation.sample(5)"
      ],
      "execution_count": 0,
      "outputs": [
        {
          "output_type": "execute_result",
          "data": {
            "text/html": [
              "<div>\n",
              "<style scoped>\n",
              "    .dataframe tbody tr th:only-of-type {\n",
              "        vertical-align: middle;\n",
              "    }\n",
              "\n",
              "    .dataframe tbody tr th {\n",
              "        vertical-align: top;\n",
              "    }\n",
              "\n",
              "    .dataframe thead th {\n",
              "        text-align: right;\n",
              "    }\n",
              "</style>\n",
              "<table border=\"1\" class=\"dataframe\">\n",
              "  <thead>\n",
              "    <tr style=\"text-align: right;\">\n",
              "      <th></th>\n",
              "      <th>Report ID</th>\n",
              "      <th>EventTitle</th>\n",
              "      <th>Summary</th>\n",
              "      <th>LangMap</th>\n",
              "      <th>Trans</th>\n",
              "      <th>Altitude Deviation</th>\n",
              "      <th>Birdstrike</th>\n",
              "      <th>Deep Landing</th>\n",
              "      <th>EGPWS</th>\n",
              "      <th>Hard/Heavy Landing</th>\n",
              "      <th>Runway/Taxiway Incursion</th>\n",
              "      <th>Rejected Take Off</th>\n",
              "      <th>Stall Warning</th>\n",
              "      <th>TCAS</th>\n",
              "      <th>Unstable Approach</th>\n",
              "      <th>Cabin Fire/Smoke/Fumes</th>\n",
              "      <th>Inadvertant Slide Deployment</th>\n",
              "      <th>Passenger and Cabin Crew Injury</th>\n",
              "      <th>Rapid Deplaning and Evacuation</th>\n",
              "      <th>Turbulence</th>\n",
              "      <th>Brakes and Steering</th>\n",
              "      <th>Cabin Pressurization</th>\n",
              "      <th>Engine Surge and Stall</th>\n",
              "      <th>Engine Shutdown</th>\n",
              "      <th>Flight Controls</th>\n",
              "      <th>ATC Service Standard</th>\n",
              "      <th>Security</th>\n",
              "      <th>Language</th>\n",
              "      <th>Language2</th>\n",
              "    </tr>\n",
              "  </thead>\n",
              "  <tbody>\n",
              "    <tr>\n",
              "      <th>7274</th>\n",
              "      <td>7280</td>\n",
              "      <td>FIR - ENG#1 stall on top of descent</td>\n",
              "      <td>on top of descent, descending from fl390 to fl...</td>\n",
              "      <td>Engllish</td>\n",
              "      <td>on top of descent, descending from fl390 to fl...</td>\n",
              "      <td>0</td>\n",
              "      <td>0</td>\n",
              "      <td>0</td>\n",
              "      <td>0</td>\n",
              "      <td>0</td>\n",
              "      <td>0</td>\n",
              "      <td>0</td>\n",
              "      <td>0</td>\n",
              "      <td>0</td>\n",
              "      <td>0</td>\n",
              "      <td>0</td>\n",
              "      <td>0</td>\n",
              "      <td>0</td>\n",
              "      <td>0</td>\n",
              "      <td>0</td>\n",
              "      <td>0</td>\n",
              "      <td>0</td>\n",
              "      <td>1</td>\n",
              "      <td>0</td>\n",
              "      <td>0</td>\n",
              "      <td>0</td>\n",
              "      <td>0</td>\n",
              "      <td>en</td>\n",
              "      <td>NaN</td>\n",
              "    </tr>\n",
              "    <tr>\n",
              "      <th>19905</th>\n",
              "      <td>19926</td>\n",
              "      <td>Rejected take off  low speed abort due EICAS m...</td>\n",
              "      <td>preflight was normal and all briefings and che...</td>\n",
              "      <td>Engllish</td>\n",
              "      <td>preflight was normal and all briefings and che...</td>\n",
              "      <td>0</td>\n",
              "      <td>0</td>\n",
              "      <td>0</td>\n",
              "      <td>0</td>\n",
              "      <td>0</td>\n",
              "      <td>0</td>\n",
              "      <td>1</td>\n",
              "      <td>0</td>\n",
              "      <td>0</td>\n",
              "      <td>0</td>\n",
              "      <td>0</td>\n",
              "      <td>0</td>\n",
              "      <td>0</td>\n",
              "      <td>0</td>\n",
              "      <td>0</td>\n",
              "      <td>0</td>\n",
              "      <td>0</td>\n",
              "      <td>0</td>\n",
              "      <td>0</td>\n",
              "      <td>0</td>\n",
              "      <td>0</td>\n",
              "      <td>0</td>\n",
              "      <td>en</td>\n",
              "      <td>NaN</td>\n",
              "    </tr>\n",
              "    <tr>\n",
              "      <th>1406</th>\n",
              "      <td>1408</td>\n",
              "      <td>Not sure we were on the same page with ground ...</td>\n",
              "      <td>after clearing 22r in *** we thought we were c...</td>\n",
              "      <td>Engllish</td>\n",
              "      <td>after clearing 22r in *** we thought we were c...</td>\n",
              "      <td>0</td>\n",
              "      <td>0</td>\n",
              "      <td>0</td>\n",
              "      <td>0</td>\n",
              "      <td>0</td>\n",
              "      <td>0</td>\n",
              "      <td>0</td>\n",
              "      <td>0</td>\n",
              "      <td>0</td>\n",
              "      <td>0</td>\n",
              "      <td>0</td>\n",
              "      <td>0</td>\n",
              "      <td>0</td>\n",
              "      <td>0</td>\n",
              "      <td>0</td>\n",
              "      <td>0</td>\n",
              "      <td>0</td>\n",
              "      <td>0</td>\n",
              "      <td>0</td>\n",
              "      <td>0</td>\n",
              "      <td>1</td>\n",
              "      <td>0</td>\n",
              "      <td>en</td>\n",
              "      <td>NaN</td>\n",
              "    </tr>\n",
              "    <tr>\n",
              "      <th>4774</th>\n",
              "      <td>4780</td>\n",
              "      <td>ATC Apparent Confusion About 737 RNP -AR Appro...</td>\n",
              "      <td>for arrival bne requested ****** for 01. *****...</td>\n",
              "      <td>Engllish</td>\n",
              "      <td>for arrival bne requested ****** for 01. *****...</td>\n",
              "      <td>0</td>\n",
              "      <td>0</td>\n",
              "      <td>0</td>\n",
              "      <td>0</td>\n",
              "      <td>0</td>\n",
              "      <td>0</td>\n",
              "      <td>0</td>\n",
              "      <td>0</td>\n",
              "      <td>0</td>\n",
              "      <td>0</td>\n",
              "      <td>0</td>\n",
              "      <td>0</td>\n",
              "      <td>0</td>\n",
              "      <td>0</td>\n",
              "      <td>0</td>\n",
              "      <td>0</td>\n",
              "      <td>0</td>\n",
              "      <td>0</td>\n",
              "      <td>0</td>\n",
              "      <td>0</td>\n",
              "      <td>1</td>\n",
              "      <td>0</td>\n",
              "      <td>en</td>\n",
              "      <td>NaN</td>\n",
              "    </tr>\n",
              "    <tr>\n",
              "      <th>6313</th>\n",
              "      <td>6319</td>\n",
              "      <td>ELEVATOR ASSYMETRY caution in flight / VH-QOI ...</td>\n",
              "      <td>elevator assymetry caution in flight. qrh acti...</td>\n",
              "      <td>Engllish</td>\n",
              "      <td>elevator assymetry caution in flight. qrh acti...</td>\n",
              "      <td>0</td>\n",
              "      <td>0</td>\n",
              "      <td>0</td>\n",
              "      <td>0</td>\n",
              "      <td>0</td>\n",
              "      <td>0</td>\n",
              "      <td>0</td>\n",
              "      <td>0</td>\n",
              "      <td>0</td>\n",
              "      <td>0</td>\n",
              "      <td>0</td>\n",
              "      <td>0</td>\n",
              "      <td>0</td>\n",
              "      <td>0</td>\n",
              "      <td>0</td>\n",
              "      <td>0</td>\n",
              "      <td>0</td>\n",
              "      <td>0</td>\n",
              "      <td>0</td>\n",
              "      <td>1</td>\n",
              "      <td>0</td>\n",
              "      <td>0</td>\n",
              "      <td>en</td>\n",
              "      <td>NaN</td>\n",
              "    </tr>\n",
              "  </tbody>\n",
              "</table>\n",
              "</div>"
            ],
            "text/plain": [
              "       Report ID  ... Language2\n",
              "7274        7280  ...       NaN\n",
              "19905      19926  ...       NaN\n",
              "1406        1408  ...       NaN\n",
              "4774        4780  ...       NaN\n",
              "6313        6319  ...       NaN\n",
              "\n",
              "[5 rows x 29 columns]"
            ]
          },
          "metadata": {
            "tags": []
          },
          "execution_count": 83
        }
      ]
    },
    {
      "cell_type": "code",
      "metadata": {
        "id": "gu-NpTR1RPfQ",
        "colab_type": "code",
        "outputId": "24fada3c-dc72-4b78-ff28-c13a73f7d1c6",
        "colab": {
          "base_uri": "https://localhost:8080/",
          "height": 34
        }
      },
      "source": [
        "df_translation[df_translation['Trans'].notnull()]['Trans'].shape"
      ],
      "execution_count": 0,
      "outputs": [
        {
          "output_type": "execute_result",
          "data": {
            "text/plain": [
              "(18472,)"
            ]
          },
          "metadata": {
            "tags": []
          },
          "execution_count": 84
        }
      ]
    },
    {
      "cell_type": "code",
      "metadata": {
        "id": "XhjYK-FqB5hX",
        "colab_type": "code",
        "colab": {}
      },
      "source": [
        "nlp_w2v = en_core_web_lg.load()"
      ],
      "execution_count": 0,
      "outputs": []
    },
    {
      "cell_type": "code",
      "metadata": {
        "id": "ft2ML-694ob_",
        "colab_type": "code",
        "colab": {}
      },
      "source": [
        "doc1 = df_translation[df_translation['Trans'].notnull()]['Trans'].apply(nlp_w2v)"
      ],
      "execution_count": 0,
      "outputs": []
    },
    {
      "cell_type": "code",
      "metadata": {
        "id": "qidl2iaFARcc",
        "colab_type": "code",
        "colab": {}
      },
      "source": [
        "doc1[1].text"
      ],
      "execution_count": 0,
      "outputs": []
    },
    {
      "cell_type": "code",
      "metadata": {
        "id": "1zitnOblGSeU",
        "colab_type": "code",
        "colab": {}
      },
      "source": [
        "doc1[1].vector.shape"
      ],
      "execution_count": 0,
      "outputs": []
    },
    {
      "cell_type": "code",
      "metadata": {
        "id": "FG01spwqM8Eb",
        "colab_type": "code",
        "outputId": "e5e7786e-8054-410f-a9b7-555c409f80e0",
        "colab": {
          "base_uri": "https://localhost:8080/",
          "height": 420
        }
      },
      "source": [
        "df_translation.sum(axis=0 , numeric_only=True).sort_values()[::-1]\n",
        "  \n"
      ],
      "execution_count": 0,
      "outputs": [
        {
          "output_type": "execute_result",
          "data": {
            "text/plain": [
              "Report ID                          199760978\n",
              "Passenger and Cabin Crew Injury         1171\n",
              "EGPWS                                   1102\n",
              "Unstable Approach                       1066\n",
              "Cabin Fire/Smoke/Fumes                  1057\n",
              "Birdstrike                              1055\n",
              "Altitude Deviation                      1048\n",
              "Engine Shutdown                         1043\n",
              "Turbulence                              1042\n",
              "Rejected Take Off                       1034\n",
              "Engine Surge and Stall                  1019\n",
              "TCAS                                    1009\n",
              "Flight Controls                         1008\n",
              "Deep Landing                            1005\n",
              "Runway/Taxiway Incursion                1005\n",
              "Hard/Heavy Landing                      1002\n",
              "Stall Warning                           1001\n",
              "Brakes and Steering                      994\n",
              "Cabin Pressurization                     993\n",
              "ATC Service Standard                     696\n",
              "Security                                 523\n",
              "Rapid Deplaning and Evacuation           520\n",
              "Inadvertant Slide Deployment             503\n",
              "dtype: int64"
            ]
          },
          "metadata": {
            "tags": []
          },
          "execution_count": 36
        }
      ]
    },
    {
      "cell_type": "code",
      "metadata": {
        "id": "xLQuzFdQPABP",
        "colab_type": "code",
        "colab": {}
      },
      "source": [
        "vectors = []\n",
        "\n",
        "for v in doc1:\n",
        "  vector=v.vector\n",
        "  vectors.append(vector)\n",
        "  \n",
        "  "
      ],
      "execution_count": 0,
      "outputs": []
    },
    {
      "cell_type": "code",
      "metadata": {
        "id": "OQiGLQkRPk76",
        "colab_type": "code",
        "colab": {}
      },
      "source": [
        "df_word_space = pd.DataFrame(vectors)"
      ],
      "execution_count": 0,
      "outputs": []
    },
    {
      "cell_type": "code",
      "metadata": {
        "id": "2qjA3wN1rm93",
        "colab_type": "code",
        "colab": {}
      },
      "source": [
        "df_word_space.to_csv('Word_vectors.csv')"
      ],
      "execution_count": 0,
      "outputs": []
    },
    {
      "cell_type": "code",
      "metadata": {
        "id": "K6XxCI4EtshI",
        "colab_type": "code",
        "colab": {}
      },
      "source": [
        "df_word_space =pd.read_csv('Word_vectors.csv',index_col=0)"
      ],
      "execution_count": 0,
      "outputs": []
    },
    {
      "cell_type": "code",
      "metadata": {
        "id": "gUEOPNeRZlVb",
        "colab_type": "code",
        "outputId": "a933fd77-5f16-4971-e5e3-003b3806103e",
        "colab": {
          "base_uri": "https://localhost:8080/",
          "height": 244
        }
      },
      "source": [
        "df_word_space.tail()"
      ],
      "execution_count": 0,
      "outputs": [
        {
          "output_type": "execute_result",
          "data": {
            "text/html": [
              "<div>\n",
              "<style scoped>\n",
              "    .dataframe tbody tr th:only-of-type {\n",
              "        vertical-align: middle;\n",
              "    }\n",
              "\n",
              "    .dataframe tbody tr th {\n",
              "        vertical-align: top;\n",
              "    }\n",
              "\n",
              "    .dataframe thead th {\n",
              "        text-align: right;\n",
              "    }\n",
              "</style>\n",
              "<table border=\"1\" class=\"dataframe\">\n",
              "  <thead>\n",
              "    <tr style=\"text-align: right;\">\n",
              "      <th></th>\n",
              "      <th>0</th>\n",
              "      <th>1</th>\n",
              "      <th>2</th>\n",
              "      <th>3</th>\n",
              "      <th>4</th>\n",
              "      <th>5</th>\n",
              "      <th>6</th>\n",
              "      <th>7</th>\n",
              "      <th>8</th>\n",
              "      <th>9</th>\n",
              "      <th>10</th>\n",
              "      <th>11</th>\n",
              "      <th>12</th>\n",
              "      <th>13</th>\n",
              "      <th>14</th>\n",
              "      <th>15</th>\n",
              "      <th>16</th>\n",
              "      <th>17</th>\n",
              "      <th>18</th>\n",
              "      <th>19</th>\n",
              "      <th>20</th>\n",
              "      <th>21</th>\n",
              "      <th>22</th>\n",
              "      <th>23</th>\n",
              "      <th>24</th>\n",
              "      <th>25</th>\n",
              "      <th>26</th>\n",
              "      <th>27</th>\n",
              "      <th>28</th>\n",
              "      <th>29</th>\n",
              "      <th>30</th>\n",
              "      <th>31</th>\n",
              "      <th>32</th>\n",
              "      <th>33</th>\n",
              "      <th>34</th>\n",
              "      <th>35</th>\n",
              "      <th>36</th>\n",
              "      <th>37</th>\n",
              "      <th>38</th>\n",
              "      <th>39</th>\n",
              "      <th>...</th>\n",
              "      <th>260</th>\n",
              "      <th>261</th>\n",
              "      <th>262</th>\n",
              "      <th>263</th>\n",
              "      <th>264</th>\n",
              "      <th>265</th>\n",
              "      <th>266</th>\n",
              "      <th>267</th>\n",
              "      <th>268</th>\n",
              "      <th>269</th>\n",
              "      <th>270</th>\n",
              "      <th>271</th>\n",
              "      <th>272</th>\n",
              "      <th>273</th>\n",
              "      <th>274</th>\n",
              "      <th>275</th>\n",
              "      <th>276</th>\n",
              "      <th>277</th>\n",
              "      <th>278</th>\n",
              "      <th>279</th>\n",
              "      <th>280</th>\n",
              "      <th>281</th>\n",
              "      <th>282</th>\n",
              "      <th>283</th>\n",
              "      <th>284</th>\n",
              "      <th>285</th>\n",
              "      <th>286</th>\n",
              "      <th>287</th>\n",
              "      <th>288</th>\n",
              "      <th>289</th>\n",
              "      <th>290</th>\n",
              "      <th>291</th>\n",
              "      <th>292</th>\n",
              "      <th>293</th>\n",
              "      <th>294</th>\n",
              "      <th>295</th>\n",
              "      <th>296</th>\n",
              "      <th>297</th>\n",
              "      <th>298</th>\n",
              "      <th>299</th>\n",
              "    </tr>\n",
              "  </thead>\n",
              "  <tbody>\n",
              "    <tr>\n",
              "      <th>18467</th>\n",
              "      <td>0.001337</td>\n",
              "      <td>0.190330</td>\n",
              "      <td>-0.138943</td>\n",
              "      <td>0.031240</td>\n",
              "      <td>0.035461</td>\n",
              "      <td>0.001659</td>\n",
              "      <td>-0.087530</td>\n",
              "      <td>-0.074111</td>\n",
              "      <td>0.051255</td>\n",
              "      <td>1.502308</td>\n",
              "      <td>-0.062256</td>\n",
              "      <td>0.091555</td>\n",
              "      <td>-0.038606</td>\n",
              "      <td>-0.059034</td>\n",
              "      <td>-0.002532</td>\n",
              "      <td>-0.102394</td>\n",
              "      <td>0.037767</td>\n",
              "      <td>1.430937</td>\n",
              "      <td>-0.199997</td>\n",
              "      <td>-0.027772</td>\n",
              "      <td>-0.083884</td>\n",
              "      <td>-0.004008</td>\n",
              "      <td>-0.293448</td>\n",
              "      <td>-0.090982</td>\n",
              "      <td>0.122086</td>\n",
              "      <td>-0.030163</td>\n",
              "      <td>0.011447</td>\n",
              "      <td>-0.043247</td>\n",
              "      <td>0.072882</td>\n",
              "      <td>-0.074794</td>\n",
              "      <td>0.041327</td>\n",
              "      <td>0.043096</td>\n",
              "      <td>-0.063236</td>\n",
              "      <td>-0.042029</td>\n",
              "      <td>0.041217</td>\n",
              "      <td>-0.101227</td>\n",
              "      <td>0.044283</td>\n",
              "      <td>0.097798</td>\n",
              "      <td>-0.057187</td>\n",
              "      <td>0.034594</td>\n",
              "      <td>...</td>\n",
              "      <td>-0.099623</td>\n",
              "      <td>0.165542</td>\n",
              "      <td>-0.010323</td>\n",
              "      <td>-0.090603</td>\n",
              "      <td>0.014173</td>\n",
              "      <td>-0.077340</td>\n",
              "      <td>-0.027641</td>\n",
              "      <td>0.051273</td>\n",
              "      <td>0.430475</td>\n",
              "      <td>-0.242498</td>\n",
              "      <td>0.045578</td>\n",
              "      <td>-0.082231</td>\n",
              "      <td>-0.067885</td>\n",
              "      <td>-0.091779</td>\n",
              "      <td>-0.158681</td>\n",
              "      <td>-0.008888</td>\n",
              "      <td>0.072160</td>\n",
              "      <td>0.061822</td>\n",
              "      <td>-0.102865</td>\n",
              "      <td>0.234915</td>\n",
              "      <td>0.150992</td>\n",
              "      <td>0.029508</td>\n",
              "      <td>0.099832</td>\n",
              "      <td>-0.117595</td>\n",
              "      <td>-0.056211</td>\n",
              "      <td>-0.008236</td>\n",
              "      <td>0.021491</td>\n",
              "      <td>-0.042145</td>\n",
              "      <td>0.232725</td>\n",
              "      <td>0.012673</td>\n",
              "      <td>-0.174244</td>\n",
              "      <td>0.222764</td>\n",
              "      <td>-0.068707</td>\n",
              "      <td>-0.147239</td>\n",
              "      <td>-0.089551</td>\n",
              "      <td>-0.018440</td>\n",
              "      <td>-0.019703</td>\n",
              "      <td>0.038485</td>\n",
              "      <td>0.083408</td>\n",
              "      <td>0.026519</td>\n",
              "    </tr>\n",
              "    <tr>\n",
              "      <th>18468</th>\n",
              "      <td>0.013460</td>\n",
              "      <td>0.149025</td>\n",
              "      <td>-0.093260</td>\n",
              "      <td>-0.076260</td>\n",
              "      <td>0.116308</td>\n",
              "      <td>0.149508</td>\n",
              "      <td>-0.082984</td>\n",
              "      <td>-0.149362</td>\n",
              "      <td>-0.068675</td>\n",
              "      <td>1.469078</td>\n",
              "      <td>-0.089757</td>\n",
              "      <td>0.123407</td>\n",
              "      <td>-0.148086</td>\n",
              "      <td>-0.020405</td>\n",
              "      <td>-0.033573</td>\n",
              "      <td>-0.108958</td>\n",
              "      <td>-0.038298</td>\n",
              "      <td>1.531026</td>\n",
              "      <td>-0.207675</td>\n",
              "      <td>0.064367</td>\n",
              "      <td>-0.033560</td>\n",
              "      <td>0.079259</td>\n",
              "      <td>-0.308850</td>\n",
              "      <td>-0.166101</td>\n",
              "      <td>0.248154</td>\n",
              "      <td>-0.021880</td>\n",
              "      <td>-0.067592</td>\n",
              "      <td>-0.053023</td>\n",
              "      <td>0.129166</td>\n",
              "      <td>-0.050348</td>\n",
              "      <td>0.005772</td>\n",
              "      <td>0.019447</td>\n",
              "      <td>-0.041964</td>\n",
              "      <td>-0.072455</td>\n",
              "      <td>-0.029854</td>\n",
              "      <td>-0.097865</td>\n",
              "      <td>0.083622</td>\n",
              "      <td>0.136045</td>\n",
              "      <td>-0.148623</td>\n",
              "      <td>0.068436</td>\n",
              "      <td>...</td>\n",
              "      <td>-0.066718</td>\n",
              "      <td>0.288615</td>\n",
              "      <td>-0.067468</td>\n",
              "      <td>-0.119144</td>\n",
              "      <td>-0.119397</td>\n",
              "      <td>-0.149215</td>\n",
              "      <td>-0.001042</td>\n",
              "      <td>0.016863</td>\n",
              "      <td>0.530156</td>\n",
              "      <td>-0.315392</td>\n",
              "      <td>-0.048934</td>\n",
              "      <td>-0.159502</td>\n",
              "      <td>0.010967</td>\n",
              "      <td>-0.147262</td>\n",
              "      <td>-0.145723</td>\n",
              "      <td>0.022302</td>\n",
              "      <td>0.103864</td>\n",
              "      <td>0.077082</td>\n",
              "      <td>-0.127653</td>\n",
              "      <td>0.294186</td>\n",
              "      <td>0.181359</td>\n",
              "      <td>0.041374</td>\n",
              "      <td>0.077529</td>\n",
              "      <td>-0.193136</td>\n",
              "      <td>-0.104896</td>\n",
              "      <td>-0.059583</td>\n",
              "      <td>0.025637</td>\n",
              "      <td>-0.070753</td>\n",
              "      <td>0.279494</td>\n",
              "      <td>-0.025961</td>\n",
              "      <td>-0.168679</td>\n",
              "      <td>0.216384</td>\n",
              "      <td>-0.162980</td>\n",
              "      <td>-0.120363</td>\n",
              "      <td>-0.089974</td>\n",
              "      <td>0.044829</td>\n",
              "      <td>-0.006536</td>\n",
              "      <td>0.078625</td>\n",
              "      <td>0.109349</td>\n",
              "      <td>0.092511</td>\n",
              "    </tr>\n",
              "    <tr>\n",
              "      <th>18469</th>\n",
              "      <td>-0.020635</td>\n",
              "      <td>0.252509</td>\n",
              "      <td>-0.133132</td>\n",
              "      <td>-0.135729</td>\n",
              "      <td>0.288330</td>\n",
              "      <td>0.109302</td>\n",
              "      <td>-0.001697</td>\n",
              "      <td>-0.288748</td>\n",
              "      <td>-0.022607</td>\n",
              "      <td>0.796803</td>\n",
              "      <td>-0.091238</td>\n",
              "      <td>0.130761</td>\n",
              "      <td>-0.234004</td>\n",
              "      <td>-0.005497</td>\n",
              "      <td>0.000894</td>\n",
              "      <td>-0.179351</td>\n",
              "      <td>-0.008627</td>\n",
              "      <td>1.713876</td>\n",
              "      <td>-0.231235</td>\n",
              "      <td>0.014357</td>\n",
              "      <td>0.049159</td>\n",
              "      <td>0.126660</td>\n",
              "      <td>-0.432478</td>\n",
              "      <td>-0.181368</td>\n",
              "      <td>0.231968</td>\n",
              "      <td>-0.059568</td>\n",
              "      <td>0.019859</td>\n",
              "      <td>0.084030</td>\n",
              "      <td>0.256277</td>\n",
              "      <td>-0.084063</td>\n",
              "      <td>0.018917</td>\n",
              "      <td>0.177967</td>\n",
              "      <td>-0.063840</td>\n",
              "      <td>-0.252939</td>\n",
              "      <td>0.175934</td>\n",
              "      <td>-0.085429</td>\n",
              "      <td>0.190321</td>\n",
              "      <td>0.214314</td>\n",
              "      <td>-0.241033</td>\n",
              "      <td>0.153894</td>\n",
              "      <td>...</td>\n",
              "      <td>-0.324414</td>\n",
              "      <td>0.229272</td>\n",
              "      <td>-0.048675</td>\n",
              "      <td>-0.188955</td>\n",
              "      <td>-0.183492</td>\n",
              "      <td>-0.086325</td>\n",
              "      <td>-0.082463</td>\n",
              "      <td>-0.057555</td>\n",
              "      <td>0.862421</td>\n",
              "      <td>-0.397940</td>\n",
              "      <td>-0.246373</td>\n",
              "      <td>-0.261613</td>\n",
              "      <td>0.025789</td>\n",
              "      <td>-0.094049</td>\n",
              "      <td>-0.350068</td>\n",
              "      <td>-0.046253</td>\n",
              "      <td>0.153904</td>\n",
              "      <td>0.142870</td>\n",
              "      <td>-0.239527</td>\n",
              "      <td>0.317811</td>\n",
              "      <td>0.239334</td>\n",
              "      <td>0.164386</td>\n",
              "      <td>0.129779</td>\n",
              "      <td>-0.327719</td>\n",
              "      <td>-0.052153</td>\n",
              "      <td>0.016497</td>\n",
              "      <td>0.037031</td>\n",
              "      <td>-0.074475</td>\n",
              "      <td>0.287498</td>\n",
              "      <td>-0.101025</td>\n",
              "      <td>-0.285788</td>\n",
              "      <td>0.278675</td>\n",
              "      <td>-0.453936</td>\n",
              "      <td>-0.274110</td>\n",
              "      <td>-0.116391</td>\n",
              "      <td>0.041438</td>\n",
              "      <td>-0.000089</td>\n",
              "      <td>0.036912</td>\n",
              "      <td>0.284259</td>\n",
              "      <td>0.150243</td>\n",
              "    </tr>\n",
              "    <tr>\n",
              "      <th>18470</th>\n",
              "      <td>0.101641</td>\n",
              "      <td>0.138715</td>\n",
              "      <td>-0.188207</td>\n",
              "      <td>-0.003672</td>\n",
              "      <td>0.156936</td>\n",
              "      <td>0.024288</td>\n",
              "      <td>-0.071164</td>\n",
              "      <td>-0.061186</td>\n",
              "      <td>-0.011654</td>\n",
              "      <td>2.039478</td>\n",
              "      <td>-0.124655</td>\n",
              "      <td>0.063994</td>\n",
              "      <td>0.034428</td>\n",
              "      <td>-0.042402</td>\n",
              "      <td>-0.081270</td>\n",
              "      <td>-0.059772</td>\n",
              "      <td>-0.068873</td>\n",
              "      <td>1.178257</td>\n",
              "      <td>-0.162525</td>\n",
              "      <td>-0.022679</td>\n",
              "      <td>-0.051629</td>\n",
              "      <td>0.009240</td>\n",
              "      <td>-0.128183</td>\n",
              "      <td>0.000204</td>\n",
              "      <td>0.052338</td>\n",
              "      <td>-0.029600</td>\n",
              "      <td>-0.050412</td>\n",
              "      <td>-0.050602</td>\n",
              "      <td>0.038758</td>\n",
              "      <td>-0.116309</td>\n",
              "      <td>-0.011048</td>\n",
              "      <td>0.075922</td>\n",
              "      <td>-0.041426</td>\n",
              "      <td>0.043135</td>\n",
              "      <td>0.056401</td>\n",
              "      <td>-0.086607</td>\n",
              "      <td>0.023210</td>\n",
              "      <td>0.083748</td>\n",
              "      <td>-0.098185</td>\n",
              "      <td>-0.033913</td>\n",
              "      <td>...</td>\n",
              "      <td>0.039644</td>\n",
              "      <td>0.186185</td>\n",
              "      <td>0.021913</td>\n",
              "      <td>0.000607</td>\n",
              "      <td>0.100352</td>\n",
              "      <td>-0.069307</td>\n",
              "      <td>-0.007161</td>\n",
              "      <td>-0.020176</td>\n",
              "      <td>0.301386</td>\n",
              "      <td>-0.056697</td>\n",
              "      <td>0.100660</td>\n",
              "      <td>-0.014382</td>\n",
              "      <td>-0.025319</td>\n",
              "      <td>-0.165569</td>\n",
              "      <td>-0.043531</td>\n",
              "      <td>0.039346</td>\n",
              "      <td>0.031810</td>\n",
              "      <td>0.097624</td>\n",
              "      <td>-0.048268</td>\n",
              "      <td>0.176718</td>\n",
              "      <td>0.184863</td>\n",
              "      <td>0.034243</td>\n",
              "      <td>0.029479</td>\n",
              "      <td>-0.049539</td>\n",
              "      <td>-0.023949</td>\n",
              "      <td>-0.074321</td>\n",
              "      <td>0.037791</td>\n",
              "      <td>-0.081155</td>\n",
              "      <td>0.162596</td>\n",
              "      <td>-0.005583</td>\n",
              "      <td>-0.195910</td>\n",
              "      <td>0.112375</td>\n",
              "      <td>-0.038289</td>\n",
              "      <td>-0.106320</td>\n",
              "      <td>-0.017362</td>\n",
              "      <td>0.026187</td>\n",
              "      <td>-0.028597</td>\n",
              "      <td>0.010269</td>\n",
              "      <td>0.051945</td>\n",
              "      <td>0.048405</td>\n",
              "    </tr>\n",
              "    <tr>\n",
              "      <th>18471</th>\n",
              "      <td>0.043757</td>\n",
              "      <td>0.130357</td>\n",
              "      <td>-0.096733</td>\n",
              "      <td>-0.063770</td>\n",
              "      <td>0.176848</td>\n",
              "      <td>0.074065</td>\n",
              "      <td>-0.045201</td>\n",
              "      <td>-0.048908</td>\n",
              "      <td>0.000003</td>\n",
              "      <td>1.477917</td>\n",
              "      <td>-0.011601</td>\n",
              "      <td>0.115751</td>\n",
              "      <td>-0.053230</td>\n",
              "      <td>-0.024952</td>\n",
              "      <td>-0.116700</td>\n",
              "      <td>-0.074265</td>\n",
              "      <td>-0.106437</td>\n",
              "      <td>1.115289</td>\n",
              "      <td>-0.176739</td>\n",
              "      <td>-0.004039</td>\n",
              "      <td>0.000812</td>\n",
              "      <td>0.092392</td>\n",
              "      <td>-0.151823</td>\n",
              "      <td>-0.015341</td>\n",
              "      <td>0.109446</td>\n",
              "      <td>-0.035765</td>\n",
              "      <td>-0.059309</td>\n",
              "      <td>-0.074913</td>\n",
              "      <td>0.057992</td>\n",
              "      <td>-0.080226</td>\n",
              "      <td>0.002434</td>\n",
              "      <td>0.072750</td>\n",
              "      <td>-0.038729</td>\n",
              "      <td>-0.008761</td>\n",
              "      <td>-0.010530</td>\n",
              "      <td>-0.160597</td>\n",
              "      <td>0.012232</td>\n",
              "      <td>0.113313</td>\n",
              "      <td>-0.022861</td>\n",
              "      <td>0.027584</td>\n",
              "      <td>...</td>\n",
              "      <td>-0.030604</td>\n",
              "      <td>0.118256</td>\n",
              "      <td>0.021353</td>\n",
              "      <td>-0.072639</td>\n",
              "      <td>0.025611</td>\n",
              "      <td>-0.162780</td>\n",
              "      <td>-0.056709</td>\n",
              "      <td>0.043653</td>\n",
              "      <td>0.295126</td>\n",
              "      <td>-0.138263</td>\n",
              "      <td>0.076551</td>\n",
              "      <td>-0.051910</td>\n",
              "      <td>0.011879</td>\n",
              "      <td>-0.099266</td>\n",
              "      <td>-0.131146</td>\n",
              "      <td>0.022931</td>\n",
              "      <td>-0.000649</td>\n",
              "      <td>0.084206</td>\n",
              "      <td>-0.047305</td>\n",
              "      <td>0.133042</td>\n",
              "      <td>0.161443</td>\n",
              "      <td>0.031975</td>\n",
              "      <td>0.101918</td>\n",
              "      <td>-0.057237</td>\n",
              "      <td>-0.032899</td>\n",
              "      <td>-0.027919</td>\n",
              "      <td>0.054171</td>\n",
              "      <td>-0.069265</td>\n",
              "      <td>0.201534</td>\n",
              "      <td>0.048503</td>\n",
              "      <td>-0.157611</td>\n",
              "      <td>0.158916</td>\n",
              "      <td>-0.046835</td>\n",
              "      <td>-0.070458</td>\n",
              "      <td>-0.092567</td>\n",
              "      <td>-0.014530</td>\n",
              "      <td>0.040538</td>\n",
              "      <td>0.146516</td>\n",
              "      <td>0.024595</td>\n",
              "      <td>0.011458</td>\n",
              "    </tr>\n",
              "  </tbody>\n",
              "</table>\n",
              "<p>5 rows × 300 columns</p>\n",
              "</div>"
            ],
            "text/plain": [
              "              0         1         2  ...       297       298       299\n",
              "18467  0.001337  0.190330 -0.138943  ...  0.038485  0.083408  0.026519\n",
              "18468  0.013460  0.149025 -0.093260  ...  0.078625  0.109349  0.092511\n",
              "18469 -0.020635  0.252509 -0.133132  ...  0.036912  0.284259  0.150243\n",
              "18470  0.101641  0.138715 -0.188207  ...  0.010269  0.051945  0.048405\n",
              "18471  0.043757  0.130357 -0.096733  ...  0.146516  0.024595  0.011458\n",
              "\n",
              "[5 rows x 300 columns]"
            ]
          },
          "metadata": {
            "tags": []
          },
          "execution_count": 104
        }
      ]
    },
    {
      "cell_type": "code",
      "metadata": {
        "id": "WtWMzw0mVzZ0",
        "colab_type": "code",
        "colab": {}
      },
      "source": [
        "df_data = df_translation[df_translation['Trans'].notnull()]"
      ],
      "execution_count": 0,
      "outputs": []
    },
    {
      "cell_type": "code",
      "metadata": {
        "id": "GuiEYRy7TP5G",
        "colab_type": "code",
        "outputId": "d49dbace-e791-4a19-e30e-f9f9491ce962",
        "colab": {
          "base_uri": "https://localhost:8080/",
          "height": 425
        }
      },
      "source": [
        "df_data.sample(3)"
      ],
      "execution_count": 0,
      "outputs": [
        {
          "output_type": "execute_result",
          "data": {
            "text/html": [
              "<div>\n",
              "<style scoped>\n",
              "    .dataframe tbody tr th:only-of-type {\n",
              "        vertical-align: middle;\n",
              "    }\n",
              "\n",
              "    .dataframe tbody tr th {\n",
              "        vertical-align: top;\n",
              "    }\n",
              "\n",
              "    .dataframe thead th {\n",
              "        text-align: right;\n",
              "    }\n",
              "</style>\n",
              "<table border=\"1\" class=\"dataframe\">\n",
              "  <thead>\n",
              "    <tr style=\"text-align: right;\">\n",
              "      <th></th>\n",
              "      <th>Report ID</th>\n",
              "      <th>EventTitle</th>\n",
              "      <th>Summary</th>\n",
              "      <th>LangMap</th>\n",
              "      <th>Trans</th>\n",
              "      <th>Altitude Deviation</th>\n",
              "      <th>Birdstrike</th>\n",
              "      <th>Deep Landing</th>\n",
              "      <th>EGPWS</th>\n",
              "      <th>Hard/Heavy Landing</th>\n",
              "      <th>Runway/Taxiway Incursion</th>\n",
              "      <th>Rejected Take Off</th>\n",
              "      <th>Stall Warning</th>\n",
              "      <th>TCAS</th>\n",
              "      <th>Unstable Approach</th>\n",
              "      <th>Cabin Fire/Smoke/Fumes</th>\n",
              "      <th>Inadvertant Slide Deployment</th>\n",
              "      <th>Passenger and Cabin Crew Injury</th>\n",
              "      <th>Rapid Deplaning and Evacuation</th>\n",
              "      <th>Turbulence</th>\n",
              "      <th>Brakes and Steering</th>\n",
              "      <th>Cabin Pressurization</th>\n",
              "      <th>Engine Surge and Stall</th>\n",
              "      <th>Engine Shutdown</th>\n",
              "      <th>Flight Controls</th>\n",
              "      <th>ATC Service Standard</th>\n",
              "      <th>Security</th>\n",
              "      <th>Language</th>\n",
              "      <th>Language2</th>\n",
              "    </tr>\n",
              "  </thead>\n",
              "  <tbody>\n",
              "    <tr>\n",
              "      <th>17823</th>\n",
              "      <td>19307</td>\n",
              "      <td>(ISD) CA HURT DURING HELP PAX TO STOW BAGGAGE</td>\n",
              "      <td>\"injured body parts: left upper arm and left f...</td>\n",
              "      <td>Engllish</td>\n",
              "      <td>\"injured body parts: left upper arm and left f...</td>\n",
              "      <td>0</td>\n",
              "      <td>0</td>\n",
              "      <td>0</td>\n",
              "      <td>0</td>\n",
              "      <td>0</td>\n",
              "      <td>0</td>\n",
              "      <td>0</td>\n",
              "      <td>0</td>\n",
              "      <td>0</td>\n",
              "      <td>0</td>\n",
              "      <td>0</td>\n",
              "      <td>0</td>\n",
              "      <td>1</td>\n",
              "      <td>0</td>\n",
              "      <td>0</td>\n",
              "      <td>0</td>\n",
              "      <td>0</td>\n",
              "      <td>0</td>\n",
              "      <td>0</td>\n",
              "      <td>0</td>\n",
              "      <td>0</td>\n",
              "      <td>0</td>\n",
              "      <td>en</td>\n",
              "      <td>NaN</td>\n",
              "    </tr>\n",
              "    <tr>\n",
              "      <th>7517</th>\n",
              "      <td>8176</td>\n",
              "      <td>A/c pushback commenced without GMC clearance.</td>\n",
              "      <td>a / c pushback commenced without gmc clearance...</td>\n",
              "      <td>Engllish</td>\n",
              "      <td>a / c pushback commenced without gmc clearance...</td>\n",
              "      <td>0</td>\n",
              "      <td>0</td>\n",
              "      <td>0</td>\n",
              "      <td>0</td>\n",
              "      <td>0</td>\n",
              "      <td>1</td>\n",
              "      <td>0</td>\n",
              "      <td>0</td>\n",
              "      <td>0</td>\n",
              "      <td>0</td>\n",
              "      <td>0</td>\n",
              "      <td>0</td>\n",
              "      <td>0</td>\n",
              "      <td>0</td>\n",
              "      <td>0</td>\n",
              "      <td>0</td>\n",
              "      <td>0</td>\n",
              "      <td>0</td>\n",
              "      <td>0</td>\n",
              "      <td>0</td>\n",
              "      <td>0</td>\n",
              "      <td>0</td>\n",
              "      <td>en</td>\n",
              "      <td>NaN</td>\n",
              "    </tr>\n",
              "    <tr>\n",
              "      <th>3140</th>\n",
              "      <td>3426</td>\n",
              "      <td>LH engine TRQ fluctuations</td>\n",
              "      <td>during climb at fl =70 lh engine trq fluctuati...</td>\n",
              "      <td>Engllish</td>\n",
              "      <td>during climb at fl =70 lh engine trq fluctuati...</td>\n",
              "      <td>0</td>\n",
              "      <td>0</td>\n",
              "      <td>0</td>\n",
              "      <td>0</td>\n",
              "      <td>0</td>\n",
              "      <td>0</td>\n",
              "      <td>0</td>\n",
              "      <td>0</td>\n",
              "      <td>0</td>\n",
              "      <td>0</td>\n",
              "      <td>0</td>\n",
              "      <td>0</td>\n",
              "      <td>0</td>\n",
              "      <td>0</td>\n",
              "      <td>0</td>\n",
              "      <td>0</td>\n",
              "      <td>0</td>\n",
              "      <td>1</td>\n",
              "      <td>0</td>\n",
              "      <td>0</td>\n",
              "      <td>0</td>\n",
              "      <td>0</td>\n",
              "      <td>en</td>\n",
              "      <td>NaN</td>\n",
              "    </tr>\n",
              "  </tbody>\n",
              "</table>\n",
              "</div>"
            ],
            "text/plain": [
              "       Report ID  ... Language2\n",
              "17823      19307  ...       NaN\n",
              "7517        8176  ...       NaN\n",
              "3140        3426  ...       NaN\n",
              "\n",
              "[3 rows x 29 columns]"
            ]
          },
          "metadata": {
            "tags": []
          },
          "execution_count": 223
        }
      ]
    },
    {
      "cell_type": "code",
      "metadata": {
        "id": "APUvoN8cMZ4m",
        "colab_type": "code",
        "outputId": "6de78a09-5297-4e16-e8d6-cb35139a587e",
        "colab": {
          "base_uri": "https://localhost:8080/",
          "height": 34
        }
      },
      "source": [
        "df_data.reset_index(drop =True, inplace=True)\n",
        "df_data.shape\n"
      ],
      "execution_count": 0,
      "outputs": [
        {
          "output_type": "execute_result",
          "data": {
            "text/plain": [
              "(18472, 29)"
            ]
          },
          "metadata": {
            "tags": []
          },
          "execution_count": 138
        }
      ]
    },
    {
      "cell_type": "code",
      "metadata": {
        "id": "yIjhClIRXqwQ",
        "colab_type": "code",
        "colab": {}
      },
      "source": [
        "index_drop = df_data[df_data['Summary'] == 'no summary'].index.values"
      ],
      "execution_count": 0,
      "outputs": []
    },
    {
      "cell_type": "code",
      "metadata": {
        "id": "gtWvk8KdI_EI",
        "colab_type": "code",
        "outputId": "e7cf3c85-b94f-4427-e871-035b01dd2a05",
        "colab": {
          "base_uri": "https://localhost:8080/",
          "height": 345
        }
      },
      "source": [
        "df_data_new = df_data.drop(df_data.index[[index_drop]])\n",
        "df_data_new.sample(2)"
      ],
      "execution_count": 0,
      "outputs": [
        {
          "output_type": "stream",
          "text": [
            "/usr/local/lib/python3.6/dist-packages/pandas/core/indexes/base.py:3969: FutureWarning: Using a non-tuple sequence for multidimensional indexing is deprecated; use `arr[tuple(seq)]` instead of `arr[seq]`. In the future this will be interpreted as an array index, `arr[np.array(seq)]`, which will result either in an error or a different result.\n",
            "  result = getitem(key)\n"
          ],
          "name": "stderr"
        },
        {
          "output_type": "execute_result",
          "data": {
            "text/html": [
              "<div>\n",
              "<style scoped>\n",
              "    .dataframe tbody tr th:only-of-type {\n",
              "        vertical-align: middle;\n",
              "    }\n",
              "\n",
              "    .dataframe tbody tr th {\n",
              "        vertical-align: top;\n",
              "    }\n",
              "\n",
              "    .dataframe thead th {\n",
              "        text-align: right;\n",
              "    }\n",
              "</style>\n",
              "<table border=\"1\" class=\"dataframe\">\n",
              "  <thead>\n",
              "    <tr style=\"text-align: right;\">\n",
              "      <th></th>\n",
              "      <th>Report ID</th>\n",
              "      <th>EventTitle</th>\n",
              "      <th>Summary</th>\n",
              "      <th>LangMap</th>\n",
              "      <th>Trans</th>\n",
              "      <th>Altitude Deviation</th>\n",
              "      <th>Birdstrike</th>\n",
              "      <th>Deep Landing</th>\n",
              "      <th>EGPWS</th>\n",
              "      <th>Hard/Heavy Landing</th>\n",
              "      <th>Runway/Taxiway Incursion</th>\n",
              "      <th>Rejected Take Off</th>\n",
              "      <th>Stall Warning</th>\n",
              "      <th>TCAS</th>\n",
              "      <th>Unstable Approach</th>\n",
              "      <th>Cabin Fire/Smoke/Fumes</th>\n",
              "      <th>Inadvertant Slide Deployment</th>\n",
              "      <th>Passenger and Cabin Crew Injury</th>\n",
              "      <th>Rapid Deplaning and Evacuation</th>\n",
              "      <th>Turbulence</th>\n",
              "      <th>Brakes and Steering</th>\n",
              "      <th>Cabin Pressurization</th>\n",
              "      <th>Engine Surge and Stall</th>\n",
              "      <th>Engine Shutdown</th>\n",
              "      <th>Flight Controls</th>\n",
              "      <th>ATC Service Standard</th>\n",
              "      <th>Security</th>\n",
              "      <th>Language</th>\n",
              "      <th>Language2</th>\n",
              "    </tr>\n",
              "  </thead>\n",
              "  <tbody>\n",
              "    <tr>\n",
              "      <th>7863</th>\n",
              "      <td>8535</td>\n",
              "      <td>DEEP LANDING - EARLY FLARE INITIATION</td>\n",
              "      <td>when conducting a vnav approach during line tr...</td>\n",
              "      <td>Engllish</td>\n",
              "      <td>when conducting a vnav approach during line tr...</td>\n",
              "      <td>0</td>\n",
              "      <td>0</td>\n",
              "      <td>1</td>\n",
              "      <td>0</td>\n",
              "      <td>0</td>\n",
              "      <td>0</td>\n",
              "      <td>0</td>\n",
              "      <td>0</td>\n",
              "      <td>0</td>\n",
              "      <td>0</td>\n",
              "      <td>0</td>\n",
              "      <td>0</td>\n",
              "      <td>0</td>\n",
              "      <td>0</td>\n",
              "      <td>0</td>\n",
              "      <td>0</td>\n",
              "      <td>0</td>\n",
              "      <td>0</td>\n",
              "      <td>0</td>\n",
              "      <td>0</td>\n",
              "      <td>0</td>\n",
              "      <td>0</td>\n",
              "      <td>en</td>\n",
              "      <td>NaN</td>\n",
              "    </tr>\n",
              "    <tr>\n",
              "      <th>18070</th>\n",
              "      <td>19572</td>\n",
              "      <td>low airspeed at level off  Low Speed Event</td>\n",
              "      <td>during ******************************* passing...</td>\n",
              "      <td>Engllish</td>\n",
              "      <td>during ******************************* passing...</td>\n",
              "      <td>0</td>\n",
              "      <td>0</td>\n",
              "      <td>0</td>\n",
              "      <td>0</td>\n",
              "      <td>0</td>\n",
              "      <td>0</td>\n",
              "      <td>0</td>\n",
              "      <td>1</td>\n",
              "      <td>0</td>\n",
              "      <td>0</td>\n",
              "      <td>0</td>\n",
              "      <td>0</td>\n",
              "      <td>0</td>\n",
              "      <td>0</td>\n",
              "      <td>0</td>\n",
              "      <td>0</td>\n",
              "      <td>0</td>\n",
              "      <td>0</td>\n",
              "      <td>0</td>\n",
              "      <td>0</td>\n",
              "      <td>0</td>\n",
              "      <td>0</td>\n",
              "      <td>en</td>\n",
              "      <td>NaN</td>\n",
              "    </tr>\n",
              "  </tbody>\n",
              "</table>\n",
              "</div>"
            ],
            "text/plain": [
              "       Report ID                                  EventTitle  ... Language Language2\n",
              "7863        8535       DEEP LANDING - EARLY FLARE INITIATION  ...       en       NaN\n",
              "18070      19572  low airspeed at level off  Low Speed Event  ...       en       NaN\n",
              "\n",
              "[2 rows x 29 columns]"
            ]
          },
          "metadata": {
            "tags": []
          },
          "execution_count": 224
        }
      ]
    },
    {
      "cell_type": "code",
      "metadata": {
        "id": "ulT1HLPmONz3",
        "colab_type": "code",
        "colab": {}
      },
      "source": [
        "df_word_space_new = df_word_space.drop(df_data.index[[index_drop]])\n",
        "df_word_space_new.shape\n",
        "#df_data[df_data['Summary'] == 'no summary']"
      ],
      "execution_count": 0,
      "outputs": []
    },
    {
      "cell_type": "code",
      "metadata": {
        "id": "Aid_rRhQsN7U",
        "colab_type": "code",
        "colab": {}
      },
      "source": [
        "from sklearn.model_selection import train_test_split, StratifiedKFold, RandomizedSearchCV, GridSearchCV\n",
        "from sklearn.metrics import roc_auc_score, roc_curve, auc"
      ],
      "execution_count": 0,
      "outputs": []
    },
    {
      "cell_type": "code",
      "metadata": {
        "id": "784iwFJHsY_x",
        "colab_type": "code",
        "colab": {}
      },
      "source": [
        "X_train, X_test, y_train, y_test = train_test_split(df_word_space_new, df_data_new['Passenger and Cabin Crew Injury'], test_size=0.20, random_state=42)"
      ],
      "execution_count": 0,
      "outputs": []
    },
    {
      "cell_type": "code",
      "metadata": {
        "id": "J04AQbgys5JL",
        "colab_type": "code",
        "colab": {}
      },
      "source": [
        "from sklearn.linear_model import RidgeClassifier, LogisticRegression\n"
      ],
      "execution_count": 0,
      "outputs": []
    },
    {
      "cell_type": "code",
      "metadata": {
        "id": "H6dzzCyDtNH3",
        "colab_type": "code",
        "colab": {}
      },
      "source": [
        "model = RidgeClassifier(alpha=5000)"
      ],
      "execution_count": 0,
      "outputs": []
    },
    {
      "cell_type": "code",
      "metadata": {
        "id": "7UYTkH5ZtR4-",
        "colab_type": "code",
        "outputId": "17ba30a3-58fc-4c9d-8429-b800adc32731",
        "colab": {
          "base_uri": "https://localhost:8080/",
          "height": 67
        }
      },
      "source": [
        "model.fit(X_train,y_train)"
      ],
      "execution_count": 0,
      "outputs": [
        {
          "output_type": "execute_result",
          "data": {
            "text/plain": [
              "RidgeClassifier(alpha=5000, class_weight=None, copy_X=True, fit_intercept=True,\n",
              "                max_iter=None, normalize=False, random_state=None,\n",
              "                solver='auto', tol=0.001)"
            ]
          },
          "metadata": {
            "tags": []
          },
          "execution_count": 147
        }
      ]
    },
    {
      "cell_type": "code",
      "metadata": {
        "id": "9GwTnGKotaLD",
        "colab_type": "code",
        "outputId": "614b0b95-d975-46d2-e100-4f1b241b7583",
        "colab": {
          "base_uri": "https://localhost:8080/",
          "height": 34
        }
      },
      "source": [
        "model.score(X_test,y_test)"
      ],
      "execution_count": 0,
      "outputs": [
        {
          "output_type": "execute_result",
          "data": {
            "text/plain": [
              "0.9338865836791148"
            ]
          },
          "metadata": {
            "tags": []
          },
          "execution_count": 148
        }
      ]
    },
    {
      "cell_type": "code",
      "metadata": {
        "id": "HFKt5DbathAy",
        "colab_type": "code",
        "colab": {}
      },
      "source": [
        "model2 = LogisticRegression()"
      ],
      "execution_count": 0,
      "outputs": []
    },
    {
      "cell_type": "code",
      "metadata": {
        "id": "ET0e-TCmtq67",
        "colab_type": "code",
        "outputId": "dd575d4e-c42a-4e53-9c39-f208f51932c4",
        "colab": {
          "base_uri": "https://localhost:8080/",
          "height": 154
        }
      },
      "source": [
        "model2.fit(X_train,y_train)"
      ],
      "execution_count": 0,
      "outputs": [
        {
          "output_type": "stream",
          "text": [
            "/usr/local/lib/python3.6/dist-packages/sklearn/linear_model/logistic.py:432: FutureWarning: Default solver will be changed to 'lbfgs' in 0.22. Specify a solver to silence this warning.\n",
            "  FutureWarning)\n"
          ],
          "name": "stderr"
        },
        {
          "output_type": "execute_result",
          "data": {
            "text/plain": [
              "LogisticRegression(C=1.0, class_weight=None, dual=False, fit_intercept=True,\n",
              "                   intercept_scaling=1, l1_ratio=None, max_iter=100,\n",
              "                   multi_class='warn', n_jobs=None, penalty='l2',\n",
              "                   random_state=None, solver='warn', tol=0.0001, verbose=0,\n",
              "                   warm_start=False)"
            ]
          },
          "metadata": {
            "tags": []
          },
          "execution_count": 150
        }
      ]
    },
    {
      "cell_type": "code",
      "metadata": {
        "id": "Bd7gSBWPtuZ-",
        "colab_type": "code",
        "outputId": "1daef3b5-45dc-45a7-cd4b-c44933023dd0",
        "colab": {
          "base_uri": "https://localhost:8080/",
          "height": 34
        }
      },
      "source": [
        "model2.score(X_test,y_test)"
      ],
      "execution_count": 0,
      "outputs": [
        {
          "output_type": "execute_result",
          "data": {
            "text/plain": [
              "0.9690179806362379"
            ]
          },
          "metadata": {
            "tags": []
          },
          "execution_count": 151
        }
      ]
    },
    {
      "cell_type": "code",
      "metadata": {
        "id": "FhunD3P7R9NZ",
        "colab_type": "code",
        "outputId": "3f93d3cc-ddff-475b-e625-8830211bc62a",
        "colab": {
          "base_uri": "https://localhost:8080/",
          "height": 34
        }
      },
      "source": [
        "prob_ls = model2.predict_proba(X_test)[:,1]\n",
        "type(prob_ls)"
      ],
      "execution_count": 0,
      "outputs": [
        {
          "output_type": "execute_result",
          "data": {
            "text/plain": [
              "numpy.ndarray"
            ]
          },
          "metadata": {
            "tags": []
          },
          "execution_count": 152
        }
      ]
    },
    {
      "cell_type": "code",
      "metadata": {
        "id": "CGih7kiWSIDi",
        "colab_type": "code",
        "outputId": "a374667a-df37-4b87-e89b-c77374dce19c",
        "colab": {
          "base_uri": "https://localhost:8080/",
          "height": 34
        }
      },
      "source": [
        "auc_score = roc_auc_score(y_test, prob_ls)\n",
        "auc_score"
      ],
      "execution_count": 0,
      "outputs": [
        {
          "output_type": "execute_result",
          "data": {
            "text/plain": [
              "0.966261972277856"
            ]
          },
          "metadata": {
            "tags": []
          },
          "execution_count": 153
        }
      ]
    },
    {
      "cell_type": "code",
      "metadata": {
        "id": "VIdmJoIATf-U",
        "colab_type": "code",
        "outputId": "e96fbee0-097a-4dcf-b5c6-9c589862a833",
        "colab": {
          "base_uri": "https://localhost:8080/",
          "height": 301
        }
      },
      "source": [
        "lr_fpr, lr_tpr, _ = roc_curve(y_test, prob_ls)\n",
        "roc_auc =auc(lr_fpr, lr_tpr)\n",
        "plt.figure()\n",
        "\n",
        "plt.plot(lr_fpr, lr_tpr, color='darkgreen',\n",
        "         lw=2, label='Logistic Regression (area = %0.2f)' % roc_auc)\n",
        "plt.plot([0, 1], [0, 1], color='navy', lw=2, linestyle='--')\n",
        "plt.xlim([0.0, 1.0])\n",
        "plt.ylim([0.0, 1.05])\n",
        "plt.xlabel('False Positive Rate')\n",
        "plt.ylabel('True Positive Rate')\n",
        "plt.title('ROC Curve')\n",
        "plt.legend(loc=\"lower right\")\n",
        "plt.show()\n"
      ],
      "execution_count": 0,
      "outputs": [
        {
          "output_type": "display_data",
          "data": {
            "image/png": "[encoded data removed]",
            "text/plain": [
              "<Figure size 432x288 with 1 Axes>"
            ]
          },
          "metadata": {
            "tags": []
          }
        }
      ]
    },
    {
      "cell_type": "code",
      "metadata": {
        "id": "FLTMn3rkt8KR",
        "colab_type": "code",
        "outputId": "e85f1da1-0878-432e-fd3d-30872381d7cc",
        "colab": {
          "base_uri": "https://localhost:8080/",
          "height": 34
        }
      },
      "source": [
        "type(y_test)"
      ],
      "execution_count": 0,
      "outputs": [
        {
          "output_type": "execute_result",
          "data": {
            "text/plain": [
              "pandas.core.series.Series"
            ]
          },
          "metadata": {
            "tags": []
          },
          "execution_count": 155
        }
      ]
    },
    {
      "cell_type": "code",
      "metadata": {
        "id": "7SX1lUXTQWm2",
        "colab_type": "code",
        "outputId": "06cf2f69-0f27-46a2-dedd-44288ec7ecdd",
        "colab": {
          "base_uri": "https://localhost:8080/",
          "height": 67
        }
      },
      "source": [
        "y_test.value_counts()"
      ],
      "execution_count": 0,
      "outputs": [
        {
          "output_type": "execute_result",
          "data": {
            "text/plain": [
              "0    3376\n",
              "1     239\n",
              "Name: Passenger and Cabin Crew Injury, dtype: int64"
            ]
          },
          "metadata": {
            "tags": []
          },
          "execution_count": 156
        }
      ]
    },
    {
      "cell_type": "code",
      "metadata": {
        "id": "ov6zlMW6ZMRo",
        "colab_type": "code",
        "outputId": "d3e7b8bb-3af1-4086-bf55-cab13c3d842a",
        "colab": {
          "base_uri": "https://localhost:8080/",
          "height": 67
        }
      },
      "source": [
        "y_train.value_counts()"
      ],
      "execution_count": 0,
      "outputs": [
        {
          "output_type": "execute_result",
          "data": {
            "text/plain": [
              "0    13581\n",
              "1      879\n",
              "Name: Passenger and Cabin Crew Injury, dtype: int64"
            ]
          },
          "metadata": {
            "tags": []
          },
          "execution_count": 171
        }
      ]
    },
    {
      "cell_type": "code",
      "metadata": {
        "id": "f6xmw0NHugtV",
        "colab_type": "code",
        "colab": {}
      },
      "source": [
        "from sklearn.metrics import classification_report, confusion_matrix"
      ],
      "execution_count": 0,
      "outputs": []
    },
    {
      "cell_type": "code",
      "metadata": {
        "id": "1TwHNoCfvxyy",
        "colab_type": "code",
        "colab": {}
      },
      "source": [
        "y_pred_lr = model2.predict(X_test)"
      ],
      "execution_count": 0,
      "outputs": []
    },
    {
      "cell_type": "code",
      "metadata": {
        "id": "PFJ4Cnh6wPRF",
        "colab_type": "code",
        "outputId": "75f74c66-3d01-4aec-d966-5e73f338ec82",
        "colab": {
          "base_uri": "https://localhost:8080/",
          "height": 202
        }
      },
      "source": [
        "print(classification_report(y_pred_lr, y_test))\n",
        "print(confusion_matrix(y_pred_lr, y_test))\n"
      ],
      "execution_count": 0,
      "outputs": [
        {
          "output_type": "stream",
          "text": [
            "              precision    recall  f1-score   support\n",
            "\n",
            "           0       0.99      0.97      0.98      3448\n",
            "           1       0.62      0.88      0.72       167\n",
            "\n",
            "    accuracy                           0.97      3615\n",
            "   macro avg       0.80      0.93      0.85      3615\n",
            "weighted avg       0.98      0.97      0.97      3615\n",
            "\n",
            "[[3356   92]\n",
            " [  20  147]]\n"
          ],
          "name": "stdout"
        }
      ]
    },
    {
      "cell_type": "code",
      "metadata": {
        "id": "LBVciPrS2PBV",
        "colab_type": "code",
        "colab": {}
      },
      "source": [
        "from xgboost import XGBClassifier"
      ],
      "execution_count": 0,
      "outputs": []
    },
    {
      "cell_type": "code",
      "metadata": {
        "id": "bn4qhk872sC-",
        "colab_type": "code",
        "colab": {}
      },
      "source": [
        "model4 =XGBClassifier()"
      ],
      "execution_count": 0,
      "outputs": []
    },
    {
      "cell_type": "code",
      "metadata": {
        "id": "E4iyhgox2v1s",
        "colab_type": "code",
        "outputId": "c3b914ef-e00f-4065-d50a-c48a1827abf2",
        "colab": {
          "base_uri": "https://localhost:8080/",
          "height": 134
        }
      },
      "source": [
        "model4.fit(X_train,y_train)"
      ],
      "execution_count": 0,
      "outputs": [
        {
          "output_type": "execute_result",
          "data": {
            "text/plain": [
              "XGBClassifier(base_score=0.5, booster='gbtree', colsample_bylevel=1,\n",
              "              colsample_bynode=1, colsample_bytree=1, gamma=0,\n",
              "              learning_rate=0.1, max_delta_step=0, max_depth=3,\n",
              "              min_child_weight=1, missing=None, n_estimators=100, n_jobs=1,\n",
              "              nthread=None, objective='binary:logistic', random_state=0,\n",
              "              reg_alpha=0, reg_lambda=1, scale_pos_weight=1, seed=None,\n",
              "              silent=None, subsample=1, verbosity=1)"
            ]
          },
          "metadata": {
            "tags": []
          },
          "execution_count": 162
        }
      ]
    },
    {
      "cell_type": "code",
      "metadata": {
        "id": "8vH5PdHcHqxL",
        "colab_type": "code",
        "outputId": "7fe9a7dd-171d-45c2-c29e-18fdd94f5663",
        "colab": {
          "base_uri": "https://localhost:8080/",
          "height": 34
        }
      },
      "source": [
        "model4.score(X_test,y_test)"
      ],
      "execution_count": 0,
      "outputs": [
        {
          "output_type": "execute_result",
          "data": {
            "text/plain": [
              "0.9690179806362379"
            ]
          },
          "metadata": {
            "tags": []
          },
          "execution_count": 163
        }
      ]
    },
    {
      "cell_type": "code",
      "metadata": {
        "id": "fmy1P57524Ig",
        "colab_type": "code",
        "colab": {}
      },
      "source": [
        "y_pred_xgb = model4.predict(X_test)"
      ],
      "execution_count": 0,
      "outputs": []
    },
    {
      "cell_type": "code",
      "metadata": {
        "id": "cup-FNRrZCf5",
        "colab_type": "code",
        "colab": {}
      },
      "source": [
        "y_proba_xgb = model4.predict_proba(X_test)[:,1]\n"
      ],
      "execution_count": 0,
      "outputs": []
    },
    {
      "cell_type": "code",
      "metadata": {
        "id": "hRvoY9ekZWGe",
        "colab_type": "code",
        "outputId": "9089f58e-a90e-4616-8963-fcad066e312c",
        "colab": {
          "base_uri": "https://localhost:8080/",
          "height": 34
        }
      },
      "source": [
        "auc_score = roc_auc_score(y_test, y_proba_xgb)\n",
        "auc_score"
      ],
      "execution_count": 0,
      "outputs": [
        {
          "output_type": "execute_result",
          "data": {
            "text/plain": [
              "0.9687729282753971"
            ]
          },
          "metadata": {
            "tags": []
          },
          "execution_count": 166
        }
      ]
    },
    {
      "cell_type": "code",
      "metadata": {
        "id": "bi939XadaFwP",
        "colab_type": "code",
        "outputId": "b8c513e2-f73c-4cba-a206-2377222d7cb3",
        "colab": {
          "base_uri": "https://localhost:8080/",
          "height": 301
        }
      },
      "source": [
        "lr_fpr, lr_tpr, _ = roc_curve(y_test, y_proba_xgb)\n",
        "roc_auc =auc(lr_fpr, lr_tpr)\n",
        "plt.figure()\n",
        "\n",
        "plt.plot(lr_fpr, lr_tpr, color='darkgreen',\n",
        "         lw=2, label='Logistic Regression (area = %0.2f)' % roc_auc)\n",
        "plt.plot([0, 1], [0, 1], color='navy', lw=2, linestyle='--')\n",
        "plt.xlim([0.0, 1.0])\n",
        "plt.ylim([0.0, 1.05])\n",
        "plt.xlabel('False Positive Rate')\n",
        "plt.ylabel('True Positive Rate')\n",
        "plt.title('ROC Curve')\n",
        "plt.legend(loc=\"lower right\")\n",
        "plt.show()\n"
      ],
      "execution_count": 0,
      "outputs": [
        {
          "output_type": "display_data",
          "data": {
            "image/png": "[encoded data removed]",
            "text/plain": [
              "<Figure size 432x288 with 1 Axes>"
            ]
          },
          "metadata": {
            "tags": []
          }
        }
      ]
    },
    {
      "cell_type": "code",
      "metadata": {
        "id": "847sOLUI3HVR",
        "colab_type": "code",
        "outputId": "8aed0cfd-62f2-4684-c8a9-3fefc65442f8",
        "colab": {
          "base_uri": "https://localhost:8080/",
          "height": 202
        }
      },
      "source": [
        "print(classification_report(y_pred_xgb, y_test))\n",
        "print(confusion_matrix(y_pred_xgb, y_test))"
      ],
      "execution_count": 0,
      "outputs": [
        {
          "output_type": "stream",
          "text": [
            "              precision    recall  f1-score   support\n",
            "\n",
            "           0       0.99      0.97      0.98      3442\n",
            "           1       0.63      0.87      0.73       173\n",
            "\n",
            "    accuracy                           0.97      3615\n",
            "   macro avg       0.81      0.92      0.86      3615\n",
            "weighted avg       0.98      0.97      0.97      3615\n",
            "\n",
            "[[3353   89]\n",
            " [  23  150]]\n"
          ],
          "name": "stdout"
        }
      ]
    },
    {
      "cell_type": "code",
      "metadata": {
        "id": "ScOxsqkE3PKd",
        "colab_type": "code",
        "colab": {}
      },
      "source": [
        "params = {\n",
        "        'min_child_weight': [1, 5, 10],\n",
        "        'gamma': [0.5, 1, 1.5, 2, 5],\n",
        "        'subsample': [0.6, 0.8, 1.0],\n",
        "        'colsample_bytree': [0.6, 0.8, 1.0],\n",
        "        'max_depth': [3, 4, 5]\n",
        "        }"
      ],
      "execution_count": 0,
      "outputs": []
    },
    {
      "cell_type": "code",
      "metadata": {
        "id": "MPx_7GCp3mDV",
        "colab_type": "code",
        "colab": {}
      },
      "source": [
        "xgb = XGBClassifier(learning_rate=0.02, n_estimators=600, objective='binary:logistic',\n",
        "                    silent=True, nthread=1)"
      ],
      "execution_count": 0,
      "outputs": []
    },
    {
      "cell_type": "code",
      "metadata": {
        "id": "8Kk0N4dG5qbi",
        "colab_type": "code",
        "colab": {}
      },
      "source": [
        "from datetime import datetime"
      ],
      "execution_count": 0,
      "outputs": []
    },
    {
      "cell_type": "code",
      "metadata": {
        "id": "b9zr3_1r3um5",
        "colab_type": "code",
        "outputId": "49445e62-dce3-4ab6-cef4-82e651d44f4e",
        "colab": {
          "base_uri": "https://localhost:8080/",
          "height": 437
        }
      },
      "source": [
        "folds = 3\n",
        "param_comb = 5\n",
        "\n",
        "skf = StratifiedKFold(n_splits=folds, shuffle = True, random_state = 1001)\n",
        "\n",
        "random_search = RandomizedSearchCV(xgb, param_distributions=params, n_iter=param_comb, scoring='roc_auc', n_jobs=4, cv=skf.split(X_train,y_train), verbose=3, random_state=1001 )\n",
        "\n",
        "\n",
        "random_search.fit(X_train, y_train)\n"
      ],
      "execution_count": 0,
      "outputs": [
        {
          "output_type": "stream",
          "text": [
            "Fitting 3 folds for each of 5 candidates, totalling 15 fits\n"
          ],
          "name": "stdout"
        },
        {
          "output_type": "stream",
          "text": [
            "[Parallel(n_jobs=4)]: Using backend LokyBackend with 4 concurrent workers.\n",
            "[Parallel(n_jobs=4)]: Done  15 out of  15 | elapsed: 23.0min finished\n"
          ],
          "name": "stderr"
        },
        {
          "output_type": "execute_result",
          "data": {
            "text/plain": [
              "RandomizedSearchCV(cv=<generator object _BaseKFold.split at 0x7f3449465258>,\n",
              "                   error_score='raise-deprecating',\n",
              "                   estimator=XGBClassifier(base_score=0.5, booster='gbtree',\n",
              "                                           colsample_bylevel=1,\n",
              "                                           colsample_bynode=1,\n",
              "                                           colsample_bytree=1, gamma=0,\n",
              "                                           learning_rate=0.02, max_delta_step=0,\n",
              "                                           max_depth=3, min_child_weight=1,\n",
              "                                           missing=None, n_estimators=600,\n",
              "                                           n_jobs=1, nthread=1,\n",
              "                                           objectiv...\n",
              "                                           reg_lambda=1, scale_pos_weight=1,\n",
              "                                           seed=None, silent=True, subsample=1,\n",
              "                                           verbosity=1),\n",
              "                   iid='warn', n_iter=5, n_jobs=4,\n",
              "                   param_distributions={'colsample_bytree': [0.6, 0.8, 1.0],\n",
              "                                        'gamma': [0.5, 1, 1.5, 2, 5],\n",
              "                                        'max_depth': [3, 4, 5],\n",
              "                                        'min_child_weight': [1, 5, 10],\n",
              "                                        'subsample': [0.6, 0.8, 1.0]},\n",
              "                   pre_dispatch='2*n_jobs', random_state=1001, refit=True,\n",
              "                   return_train_score=False, scoring='roc_auc', verbose=3)"
            ]
          },
          "metadata": {
            "tags": []
          },
          "execution_count": 75
        }
      ]
    },
    {
      "cell_type": "code",
      "metadata": {
        "id": "W9plhehr4WYZ",
        "colab_type": "code",
        "outputId": "5d7fa1f2-4c3d-4502-98df-e6d7c0b922f0",
        "colab": {
          "base_uri": "https://localhost:8080/",
          "height": 101
        }
      },
      "source": [
        "random_search.best_params_"
      ],
      "execution_count": 0,
      "outputs": [
        {
          "output_type": "execute_result",
          "data": {
            "text/plain": [
              "{'colsample_bytree': 0.8,\n",
              " 'gamma': 1.5,\n",
              " 'max_depth': 5,\n",
              " 'min_child_weight': 1,\n",
              " 'subsample': 0.6}"
            ]
          },
          "metadata": {
            "tags": []
          },
          "execution_count": 76
        }
      ]
    },
    {
      "cell_type": "code",
      "metadata": {
        "id": "D4uNOrfpOZHd",
        "colab_type": "code",
        "outputId": "e3f2c430-bd25-41a6-fd30-0749e119f055",
        "colab": {
          "base_uri": "https://localhost:8080/",
          "height": 34
        }
      },
      "source": [
        "random_search.best_score_"
      ],
      "execution_count": 0,
      "outputs": [
        {
          "output_type": "execute_result",
          "data": {
            "text/plain": [
              "0.9747765761022988"
            ]
          },
          "metadata": {
            "tags": []
          },
          "execution_count": 77
        }
      ]
    },
    {
      "cell_type": "code",
      "metadata": {
        "id": "Ar0XwNCAOf5p",
        "colab_type": "code",
        "colab": {}
      },
      "source": [
        "model5 =XGBClassifier(colsample_bytree= 0.8,\n",
        " gamma= 1.5,\n",
        " max_depth= 5,\n",
        " min_child_weight= 1,\n",
        " subsample= 0.6)"
      ],
      "execution_count": 0,
      "outputs": []
    },
    {
      "cell_type": "code",
      "metadata": {
        "id": "1AQqDiWoagyL",
        "colab_type": "code",
        "outputId": "8082c511-201e-4af1-dea6-45e67883e33a",
        "colab": {
          "base_uri": "https://localhost:8080/",
          "height": 134
        }
      },
      "source": [
        "model5.fit(X_train,y_train)"
      ],
      "execution_count": 0,
      "outputs": [
        {
          "output_type": "execute_result",
          "data": {
            "text/plain": [
              "XGBClassifier(base_score=0.5, booster='gbtree', colsample_bylevel=1,\n",
              "              colsample_bynode=1, colsample_bytree=0.8, gamma=1.5,\n",
              "              learning_rate=0.1, max_delta_step=0, max_depth=5,\n",
              "              min_child_weight=1, missing=None, n_estimators=100, n_jobs=1,\n",
              "              nthread=None, objective='binary:logistic', random_state=0,\n",
              "              reg_alpha=0, reg_lambda=1, scale_pos_weight=1, seed=None,\n",
              "              silent=None, subsample=0.6, verbosity=1)"
            ]
          },
          "metadata": {
            "tags": []
          },
          "execution_count": 170
        }
      ]
    },
    {
      "cell_type": "code",
      "metadata": {
        "id": "SxHHuxJBbHtT",
        "colab_type": "code",
        "outputId": "adb3bed8-3230-478b-c859-51a1ad577887",
        "colab": {
          "base_uri": "https://localhost:8080/",
          "height": 34
        }
      },
      "source": [
        "model5.score(X_test, y_test)"
      ],
      "execution_count": 0,
      "outputs": [
        {
          "output_type": "execute_result",
          "data": {
            "text/plain": [
              "0.9742738589211618"
            ]
          },
          "metadata": {
            "tags": []
          },
          "execution_count": 172
        }
      ]
    },
    {
      "cell_type": "code",
      "metadata": {
        "id": "usFTbq1Dbf-b",
        "colab_type": "code",
        "outputId": "aedbef3c-f2d3-4590-8c1c-f742bdf7331e",
        "colab": {
          "base_uri": "https://localhost:8080/",
          "height": 34
        }
      },
      "source": [
        "y_proba_xgb = model5.predict_proba(X_test)[:,1]\n",
        "auc_score = roc_auc_score(y_test, y_proba_xgb)\n",
        "auc_score\n"
      ],
      "execution_count": 0,
      "outputs": [
        {
          "output_type": "execute_result",
          "data": {
            "text/plain": [
              "0.9772625870035098"
            ]
          },
          "metadata": {
            "tags": []
          },
          "execution_count": 173
        }
      ]
    },
    {
      "cell_type": "code",
      "metadata": {
        "id": "hsPeNYsYbxhJ",
        "colab_type": "code",
        "outputId": "e85dcca0-d8a6-4770-db27-469ee140848b",
        "colab": {
          "base_uri": "https://localhost:8080/",
          "height": 301
        }
      },
      "source": [
        "lr_fpr, lr_tpr, _ = roc_curve(y_test, y_proba_xgb)\n",
        "roc_auc =auc(lr_fpr, lr_tpr)\n",
        "plt.figure()\n",
        "\n",
        "plt.plot(lr_fpr, lr_tpr, color='darkgreen',\n",
        "         lw=2, label='Logistic Regression (area = %0.2f)' % roc_auc)\n",
        "plt.plot([0, 1], [0, 1], color='navy', lw=2, linestyle='--')\n",
        "plt.xlim([0.0, 1.0])\n",
        "plt.ylim([0.0, 1.05])\n",
        "plt.xlabel('False Positive Rate')\n",
        "plt.ylabel('True Positive Rate')\n",
        "plt.title('ROC Curve')\n",
        "plt.legend(loc=\"lower right\")\n",
        "plt.show()\n"
      ],
      "execution_count": 0,
      "outputs": [
        {
          "output_type": "display_data",
          "data": {
            "image/png": "[encoded data removed]",
            "text/plain": [
              "<Figure size 432x288 with 1 Axes>"
            ]
          },
          "metadata": {
            "tags": []
          }
        }
      ]
    },
    {
      "cell_type": "code",
      "metadata": {
        "id": "jnMNWpJ-cDOV",
        "colab_type": "code",
        "colab": {}
      },
      "source": [
        "y_pred_xgb = model5.predict(X_test)"
      ],
      "execution_count": 0,
      "outputs": []
    },
    {
      "cell_type": "code",
      "metadata": {
        "id": "xLO5zBG4cL56",
        "colab_type": "code",
        "outputId": "1304d46f-501c-4567-9205-eb52c62ed129",
        "colab": {
          "base_uri": "https://localhost:8080/",
          "height": 202
        }
      },
      "source": [
        "print(classification_report(y_pred_xgb, y_test))\n",
        "print(confusion_matrix(y_pred_xgb, y_test))"
      ],
      "execution_count": 0,
      "outputs": [
        {
          "output_type": "stream",
          "text": [
            "              precision    recall  f1-score   support\n",
            "\n",
            "           0       0.99      0.98      0.99      3431\n",
            "           1       0.69      0.90      0.78       184\n",
            "\n",
            "    accuracy                           0.97      3615\n",
            "   macro avg       0.84      0.94      0.88      3615\n",
            "weighted avg       0.98      0.97      0.98      3615\n",
            "\n",
            "[[3357   74]\n",
            " [  19  165]]\n"
          ],
          "name": "stdout"
        }
      ]
    },
    {
      "cell_type": "code",
      "metadata": {
        "id": "-cxtRhZOcRvY",
        "colab_type": "code",
        "colab": {}
      },
      "source": [
        "from keras.layers import Dense, GRU,LSTM, Embedding, Flatten, Bidirectional,GlobalMaxPool1D,Conv1D, Dropout\n",
        "from keras.layers.embeddings import Embedding\n",
        "from keras.optimizers import Adam, RMSprop, SGD\n",
        "from keras.initializers import Constant\n",
        "from keras.models import Sequential\n",
        "from tensorflow.python.keras.preprocessing.text import Tokenizer\n",
        "from tensorflow.python.keras.preprocessing.sequence import pad_sequences"
      ],
      "execution_count": 0,
      "outputs": []
    },
    {
      "cell_type": "code",
      "metadata": {
        "id": "j72efLcudey4",
        "colab_type": "code",
        "colab": {}
      },
      "source": [
        "model = Sequential()"
      ],
      "execution_count": 0,
      "outputs": []
    },
    {
      "cell_type": "code",
      "metadata": {
        "id": "LBcUJdpfdnQE",
        "colab_type": "code",
        "colab": {}
      },
      "source": [
        "model.add(Dense(64, activation='relu',input_shape=(300,)))\n",
        "model.add(Dense(46, activation='relu'))\n",
        "model.add(Dense(12, activation='relu'))\n",
        "model.add(Dense(1, activation='sigmoid'))"
      ],
      "execution_count": 0,
      "outputs": []
    },
    {
      "cell_type": "code",
      "metadata": {
        "id": "n1ZekbLge0sa",
        "colab_type": "code",
        "colab": {}
      },
      "source": [
        "import tensorflow as tf"
      ],
      "execution_count": 0,
      "outputs": []
    },
    {
      "cell_type": "code",
      "metadata": {
        "id": "5t7LWEq7foDt",
        "colab_type": "code",
        "colab": {}
      },
      "source": [
        "def auroc(y_true, y_pred):\n",
        "    return tf.py_func(roc_auc_score, (y_true, y_pred), tf.double)"
      ],
      "execution_count": 0,
      "outputs": []
    },
    {
      "cell_type": "code",
      "metadata": {
        "id": "0Y_cuK90gagF",
        "colab_type": "code",
        "colab": {}
      },
      "source": [
        "\n",
        "model.compile(loss='binary_crossentropy', optimizer='Adam',metrics=[auroc])\n"
      ],
      "execution_count": 0,
      "outputs": []
    },
    {
      "cell_type": "code",
      "metadata": {
        "id": "pwGd_uhogk2l",
        "colab_type": "code",
        "outputId": "59021732-d64d-4eca-cfb7-ffc3b804ec5d",
        "colab": {
          "base_uri": "https://localhost:8080/",
          "height": 521
        }
      },
      "source": [
        "model.fit(X_train.values,y_train.values, epochs= 14,  batch_size=512, validation_data=[X_test.values, y_test.values])"
      ],
      "execution_count": 0,
      "outputs": [
        {
          "output_type": "stream",
          "text": [
            "Train on 14460 samples, validate on 3615 samples\n",
            "Epoch 1/14\n",
            "14460/14460 [==============================] - 1s 90us/step - loss: 0.4673 - auroc: 0.3637 - val_loss: 0.2764 - val_auroc: 0.4524\n",
            "Epoch 2/14\n",
            "14460/14460 [==============================] - 0s 30us/step - loss: 0.2363 - auroc: 0.4620 - val_loss: 0.2471 - val_auroc: 0.5412\n",
            "Epoch 3/14\n",
            "14460/14460 [==============================] - 0s 30us/step - loss: 0.2290 - auroc: 0.6366 - val_loss: 0.2412 - val_auroc: 0.8224\n",
            "Epoch 4/14\n",
            "14460/14460 [==============================] - 0s 29us/step - loss: 0.2244 - auroc: 0.9010 - val_loss: 0.2332 - val_auroc: 0.9114\n",
            "Epoch 5/14\n",
            "14460/14460 [==============================] - 0s 30us/step - loss: 0.2079 - auroc: 0.9325 - val_loss: 0.2044 - val_auroc: 0.9303\n",
            "Epoch 6/14\n",
            "14460/14460 [==============================] - 0s 29us/step - loss: 0.1782 - auroc: 0.9492 - val_loss: 0.1796 - val_auroc: 0.9488\n",
            "Epoch 7/14\n",
            "14460/14460 [==============================] - 0s 29us/step - loss: 0.1392 - auroc: 0.9588 - val_loss: 0.1257 - val_auroc: 0.9570\n",
            "Epoch 8/14\n",
            "14460/14460 [==============================] - 0s 30us/step - loss: 0.0993 - auroc: 0.9646 - val_loss: 0.1093 - val_auroc: 0.9615\n",
            "Epoch 9/14\n",
            "14460/14460 [==============================] - 0s 31us/step - loss: 0.0869 - auroc: 0.9646 - val_loss: 0.1024 - val_auroc: 0.9589\n",
            "Epoch 10/14\n",
            "14460/14460 [==============================] - 0s 30us/step - loss: 0.0787 - auroc: 0.9667 - val_loss: 0.0956 - val_auroc: 0.9690\n",
            "Epoch 11/14\n",
            "14460/14460 [==============================] - 0s 31us/step - loss: 0.0750 - auroc: 0.9684 - val_loss: 0.0903 - val_auroc: 0.9711\n",
            "Epoch 12/14\n",
            "14460/14460 [==============================] - 0s 29us/step - loss: 0.0721 - auroc: 0.9704 - val_loss: 0.0899 - val_auroc: 0.9727\n",
            "Epoch 13/14\n",
            "14460/14460 [==============================] - 0s 30us/step - loss: 0.0704 - auroc: 0.9713 - val_loss: 0.0853 - val_auroc: 0.9724\n",
            "Epoch 14/14\n",
            "14460/14460 [==============================] - 0s 29us/step - loss: 0.0695 - auroc: 0.9732 - val_loss: 0.0881 - val_auroc: 0.9706\n"
          ],
          "name": "stdout"
        },
        {
          "output_type": "execute_result",
          "data": {
            "text/plain": [
              "<keras.callbacks.History at 0x7f848e205710>"
            ]
          },
          "metadata": {
            "tags": []
          },
          "execution_count": 216
        }
      ]
    },
    {
      "cell_type": "code",
      "metadata": {
        "id": "TAwHDnsGhW4e",
        "colab_type": "code",
        "colab": {}
      },
      "source": [
        "y_pred_nn = model.predict_classes(X_test)"
      ],
      "execution_count": 0,
      "outputs": []
    },
    {
      "cell_type": "code",
      "metadata": {
        "id": "-bL51vC1itb9",
        "colab_type": "code",
        "outputId": "2f23e246-3ee4-41d1-ea4e-89bd088f3dbf",
        "colab": {
          "base_uri": "https://localhost:8080/",
          "height": 202
        }
      },
      "source": [
        "print(confusion_matrix(y_pred_nn, y_test.values))\n",
        "print(classification_report(y_pred_nn, y_test.values))"
      ],
      "execution_count": 0,
      "outputs": [
        {
          "output_type": "stream",
          "text": [
            "[[3332   63]\n",
            " [  44  176]]\n",
            "              precision    recall  f1-score   support\n",
            "\n",
            "           0       0.99      0.98      0.98      3395\n",
            "           1       0.74      0.80      0.77       220\n",
            "\n",
            "    accuracy                           0.97      3615\n",
            "   macro avg       0.86      0.89      0.88      3615\n",
            "weighted avg       0.97      0.97      0.97      3615\n",
            "\n"
          ],
          "name": "stdout"
        }
      ]
    },
    {
      "cell_type": "code",
      "metadata": {
        "id": "nokssxM3-f2p",
        "colab_type": "code",
        "colab": {}
      },
      "source": [
        "tokenizer = Tokenizer(num_words=10000)\n",
        "\n",
        "tokenizer.fit_on_texts(df_data_new.Summary)\n",
        "\n",
        "sequences = tokenizer.texts_to_sequences(df_data_new.Summary)"
      ],
      "execution_count": 0,
      "outputs": []
    },
    {
      "cell_type": "code",
      "metadata": {
        "id": "IToghEbg_MJY",
        "colab_type": "code",
        "colab": {}
      },
      "source": [
        "word_index = tokenizer.word_index"
      ],
      "execution_count": 0,
      "outputs": []
    },
    {
      "cell_type": "code",
      "metadata": {
        "id": "q2YmkMFkApyJ",
        "colab_type": "code",
        "colab": {}
      },
      "source": [
        "X_train_k, X_test_k, y_train_k, y_test_k = train_test_split(sequences, df_data_new['Passenger and Cabin Crew Injury'], test_size=0.20, random_state=42)"
      ],
      "execution_count": 0,
      "outputs": []
    },
    {
      "cell_type": "code",
      "metadata": {
        "id": "1dL5owjjBrq6",
        "colab_type": "code",
        "colab": {}
      },
      "source": [
        "X_train_k = preprocessing.sequence.pad_sequences(X_train_k, maxlen=300)\n",
        "X_test_k = preprocessing.sequence.pad_sequences(X_test_k, maxlen=300)"
      ],
      "execution_count": 0,
      "outputs": []
    },
    {
      "cell_type": "code",
      "metadata": {
        "id": "jThgc6GLBtiA",
        "colab_type": "code",
        "outputId": "030b9fee-809d-4f7a-dbb5-214667535502",
        "colab": {
          "base_uri": "https://localhost:8080/",
          "height": 403
        }
      },
      "source": [
        "model_emb = Sequential()\n",
        "model_emb.add(Embedding(10000,200, input_length=300))\n",
        "model_emb.add(Flatten())\n",
        "model_emb.add(Dense(46, activation='relu'))\n",
        "model_emb.add(Dense(46, activation='relu'))\n",
        "model_emb.add(Dropout(0.1))\n",
        "model_emb.add(Dense(18, activation='relu'))\n",
        "model_emb.add(Dense(6, activation='relu'))\n",
        "model_emb.add(Dense(1, activation='sigmoid'))\n",
        "\n",
        "model_emb.compile(optimizer='Adam', loss='binary_crossentropy', metrics =[auroc])\n",
        "model_emb.summary()\n",
        "\n",
        "  \n",
        "    \n",
        "  \n"
      ],
      "execution_count": 0,
      "outputs": [
        {
          "output_type": "stream",
          "text": [
            "_________________________________________________________________\n",
            "Layer (type)                 Output Shape              Param #   \n",
            "=================================================================\n",
            "embedding_22 (Embedding)     (None, 300, 200)          2000000   \n",
            "_________________________________________________________________\n",
            "flatten_18 (Flatten)         (None, 60000)             0         \n",
            "_________________________________________________________________\n",
            "dense_104 (Dense)            (None, 46)                2760046   \n",
            "_________________________________________________________________\n",
            "dense_105 (Dense)            (None, 46)                2162      \n",
            "_________________________________________________________________\n",
            "dropout_12 (Dropout)         (None, 46)                0         \n",
            "_________________________________________________________________\n",
            "dense_106 (Dense)            (None, 18)                846       \n",
            "_________________________________________________________________\n",
            "dense_107 (Dense)            (None, 6)                 114       \n",
            "_________________________________________________________________\n",
            "dense_108 (Dense)            (None, 1)                 7         \n",
            "=================================================================\n",
            "Total params: 4,763,175\n",
            "Trainable params: 4,763,175\n",
            "Non-trainable params: 0\n",
            "_________________________________________________________________\n"
          ],
          "name": "stdout"
        }
      ]
    },
    {
      "cell_type": "code",
      "metadata": {
        "id": "TN1wWBBeCKn0",
        "colab_type": "code",
        "outputId": "ea06f03b-c072-49c4-cb24-66687af6c82c",
        "colab": {
          "base_uri": "https://localhost:8080/",
          "height": 101
        }
      },
      "source": [
        "history = model_emb.fit(X_train_k, y_train_k, epochs =2, batch_size=256, validation_data=[X_test_k, y_test_k])"
      ],
      "execution_count": 0,
      "outputs": [
        {
          "output_type": "stream",
          "text": [
            "Train on 14460 samples, validate on 3615 samples\n",
            "Epoch 1/2\n",
            "14460/14460 [==============================] - 18s 1ms/step - loss: 0.2526 - auroc: 0.6559 - val_loss: 0.1422 - val_auroc: 0.9378\n",
            "Epoch 2/2\n",
            "14460/14460 [==============================] - 14s 965us/step - loss: 0.0879 - auroc: 0.9691 - val_loss: 0.0818 - val_auroc: 0.9691\n"
          ],
          "name": "stdout"
        }
      ]
    },
    {
      "cell_type": "code",
      "metadata": {
        "id": "aFYYQNOUEhxE",
        "colab_type": "code",
        "colab": {}
      },
      "source": [
        "y_pred_emb = model_emb.predict_classes(X_test_k)"
      ],
      "execution_count": 0,
      "outputs": []
    },
    {
      "cell_type": "code",
      "metadata": {
        "id": "chyFIPo5I2WE",
        "colab_type": "code",
        "outputId": "1e0c1b25-6954-40be-87c1-b261b510af94",
        "colab": {
          "base_uri": "https://localhost:8080/",
          "height": 202
        }
      },
      "source": [
        "print(confusion_matrix(y_pred_emb, y_test_k.values))\n",
        "print(classification_report(y_pred_emb, y_test_k.values))"
      ],
      "execution_count": 0,
      "outputs": [
        {
          "output_type": "stream",
          "text": [
            "[[3330   55]\n",
            " [  46  184]]\n",
            "              precision    recall  f1-score   support\n",
            "\n",
            "           0       0.99      0.98      0.99      3385\n",
            "           1       0.77      0.80      0.78       230\n",
            "\n",
            "    accuracy                           0.97      3615\n",
            "   macro avg       0.88      0.89      0.88      3615\n",
            "weighted avg       0.97      0.97      0.97      3615\n",
            "\n"
          ],
          "name": "stdout"
        }
      ]
    },
    {
      "cell_type": "code",
      "metadata": {
        "id": "EYsyr6tpaRvP",
        "colab_type": "code",
        "outputId": "2c4ad71e-0154-42c3-96af-c9bbe5798f35",
        "colab": {
          "base_uri": "https://localhost:8080/",
          "height": 301
        }
      },
      "source": [
        "plt.plot(history.history['loss'])\n",
        "plt.plot(history.history['val_loss'])\n",
        "plt.title('model train vs validation loss')\n",
        "plt.ylabel('loss')\n",
        "plt.xlabel('epoch')\n",
        "plt.legend(['train','validation'], loc ='upper right')\n",
        "plt.show()"
      ],
      "execution_count": 0,
      "outputs": [
        {
          "output_type": "display_data",
          "data": {
            "image/png": "[encoded data removed]",
            "text/plain": [
              "<Figure size 432x288 with 1 Axes>"
            ]
          },
          "metadata": {
            "tags": []
          }
        }
      ]
    },
    {
      "cell_type": "code",
      "metadata": {
        "id": "212GbE17JArf",
        "colab_type": "code",
        "colab": {}
      },
      "source": [
        "X_train_lstm = preprocessing.sequence.pad_sequences(X_train_k, maxlen=500)\n",
        "X_test_lstm = preprocessing.sequence.pad_sequences(X_test_k, maxlen=500)"
      ],
      "execution_count": 0,
      "outputs": []
    },
    {
      "cell_type": "code",
      "metadata": {
        "id": "o6a7z5eZKG9q",
        "colab_type": "code",
        "outputId": "b0457a86-23cc-4dec-fcdd-1f483fbb2ecf",
        "colab": {
          "base_uri": "https://localhost:8080/",
          "height": 336
        }
      },
      "source": [
        "model_lstm = Sequential()\n",
        "model_lstm.add(Embedding(10000,32))\n",
        "model_lstm.add(Bidirectional(LSTM(50, return_sequences=True, dropout=0.1,recurrent_dropout=0.1)))\n",
        "model_lstm.add(GlobalMaxPool1D())\n",
        "model_lstm.add(Dense(50, activation='relu'))\n",
        "model_lstm.add(Dropout(0.1))\n",
        "model_lstm.add(Dense(1, activation='sigmoid'))\n",
        "model_lstm.compile(optimizer='Adam', loss='binary_crossentropy', metrics =[auroc])\n",
        "model_lstm.summary()"
      ],
      "execution_count": 0,
      "outputs": [
        {
          "output_type": "stream",
          "text": [
            "_________________________________________________________________\n",
            "Layer (type)                 Output Shape              Param #   \n",
            "=================================================================\n",
            "embedding_8 (Embedding)      (None, None, 32)          320000    \n",
            "_________________________________________________________________\n",
            "bidirectional_3 (Bidirection (None, None, 100)         33200     \n",
            "_________________________________________________________________\n",
            "global_max_pooling1d_3 (Glob (None, 100)               0         \n",
            "_________________________________________________________________\n",
            "dense_42 (Dense)             (None, 50)                5050      \n",
            "_________________________________________________________________\n",
            "dropout_3 (Dropout)          (None, 50)                0         \n",
            "_________________________________________________________________\n",
            "dense_43 (Dense)             (None, 1)                 51        \n",
            "=================================================================\n",
            "Total params: 358,301\n",
            "Trainable params: 358,301\n",
            "Non-trainable params: 0\n",
            "_________________________________________________________________\n"
          ],
          "name": "stdout"
        }
      ]
    },
    {
      "cell_type": "code",
      "metadata": {
        "id": "4hRmbe_AK9Rt",
        "colab_type": "code",
        "outputId": "0f64a443-a7ef-442d-d3ae-ebf5c7d6ec3a",
        "colab": {
          "base_uri": "https://localhost:8080/",
          "height": 302
        }
      },
      "source": [
        "y = model_lstm.fit(X_train_lstm, y_train_k, epochs =8, batch_size=512, validation_data=[X_test_lstm, y_test_k])"
      ],
      "execution_count": 0,
      "outputs": [
        {
          "output_type": "stream",
          "text": [
            "Train on 14460 samples, validate on 3615 samples\n",
            "Epoch 1/8\n",
            "14460/14460 [==============================] - 179s 12ms/step - loss: 0.4608 - auroc: 0.5051 - val_loss: 0.2651 - val_auroc: 0.7482\n",
            "Epoch 2/8\n",
            "14460/14460 [==============================] - 173s 12ms/step - loss: 0.2290 - auroc: 0.5820 - val_loss: 0.2325 - val_auroc: 0.9216\n",
            "Epoch 3/8\n",
            "14460/14460 [==============================] - 174s 12ms/step - loss: 0.1803 - auroc: 0.8829 - val_loss: 0.1664 - val_auroc: 0.9117\n",
            "Epoch 4/8\n",
            "14460/14460 [==============================] - 173s 12ms/step - loss: 0.1212 - auroc: 0.8992 - val_loss: 0.1568 - val_auroc: 0.9209\n",
            "Epoch 5/8\n",
            "14460/14460 [==============================] - 173s 12ms/step - loss: 0.1485 - auroc: 0.8409 - val_loss: 0.1598 - val_auroc: 0.9369\n",
            "Epoch 6/8\n",
            "14460/14460 [==============================] - 174s 12ms/step - loss: 0.1081 - auroc: 0.9462 - val_loss: 0.1129 - val_auroc: 0.9563\n",
            "Epoch 7/8\n",
            "14460/14460 [==============================] - 174s 12ms/step - loss: 0.0757 - auroc: 0.9771 - val_loss: 0.1077 - val_auroc: 0.9581\n",
            "Epoch 8/8\n",
            "14460/14460 [==============================] - 173s 12ms/step - loss: 0.0582 - auroc: 0.9844 - val_loss: 0.1083 - val_auroc: 0.9572\n"
          ],
          "name": "stdout"
        }
      ]
    },
    {
      "cell_type": "code",
      "metadata": {
        "id": "NcYrtXaBLWqZ",
        "colab_type": "code",
        "colab": {}
      },
      "source": [
        "y_pred_lstm = model_lstm.predict_classes(X_test_lstm)"
      ],
      "execution_count": 0,
      "outputs": []
    },
    {
      "cell_type": "code",
      "metadata": {
        "id": "YvNRSpZcMfHe",
        "colab_type": "code",
        "outputId": "1dc7e39d-feee-41bb-81c1-21fd0477ec60",
        "colab": {
          "base_uri": "https://localhost:8080/",
          "height": 202
        }
      },
      "source": [
        "print(confusion_matrix(y_pred_lstm, y_test_k.values))\n",
        "print(classification_report(y_pred_lstm, y_test_k.values))"
      ],
      "execution_count": 0,
      "outputs": [
        {
          "output_type": "stream",
          "text": [
            "[[3303   62]\n",
            " [  73  177]]\n",
            "              precision    recall  f1-score   support\n",
            "\n",
            "           0       0.98      0.98      0.98      3365\n",
            "           1       0.74      0.71      0.72       250\n",
            "\n",
            "    accuracy                           0.96      3615\n",
            "   macro avg       0.86      0.84      0.85      3615\n",
            "weighted avg       0.96      0.96      0.96      3615\n",
            "\n"
          ],
          "name": "stdout"
        }
      ]
    },
    {
      "cell_type": "code",
      "metadata": {
        "id": "ihpXyfswNHVP",
        "colab_type": "code",
        "outputId": "7c9357bc-e91a-4baa-dd81-127565dcbd2a",
        "colab": {
          "base_uri": "https://localhost:8080/",
          "height": 301
        }
      },
      "source": [
        "plt.plot(y.history['loss'])\n",
        "plt.plot(y.history['val_loss'])\n",
        "plt.title('model train vs validation loss')\n",
        "plt.ylabel('loss')\n",
        "plt.xlabel('epoch')\n",
        "plt.legend(['train','validation'], loc ='upper right')\n",
        "plt.show()"
      ],
      "execution_count": 0,
      "outputs": [
        {
          "output_type": "display_data",
          "data": {
            "image/png": "[encoded data removed]",
            "text/plain": [
              "<Figure size 432x288 with 1 Axes>"
            ]
          },
          "metadata": {
            "tags": []
          }
        }
      ]
    },
    {
      "cell_type": "code",
      "metadata": {
        "id": "F7eE7Qb7Zr4M",
        "colab_type": "code",
        "colab": {}
      },
      "source": [
        ""
      ],
      "execution_count": 0,
      "outputs": []
    }
  ]
}